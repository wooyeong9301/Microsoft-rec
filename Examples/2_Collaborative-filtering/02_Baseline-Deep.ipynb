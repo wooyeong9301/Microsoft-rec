{
 "cells": [
  {
   "cell_type": "markdown",
   "id": "f3b3c457",
   "metadata": {},
   "source": [
    "# Estimating Baseline Performance\n",
    "기준 성능을 측정하는 건 모델 평가에 적절한 metric을 정하는 것만큼 중요하다. 이 노트북에선 영화 추천 시나리오의 두 가지 예 : 1.평점 예측과 2. top-k 추천을 다룬다.\n",
    "\n",
    "## Why dose baseline performance matter?\n",
    "**기준 성능**은 모델에 기대하는 최소한의 성능 혹은 모델 비교를 위한 시작점이다. 모델을 훈련하고 검증 결과를 볼 때 metrics를 어떻게 해석해야 할지에 대한 것이나 훈련된 모델이 간단한 rule-based 모델보다 좋은지 이해하는 데 도움을 준다. 모델 훈련이 잘 안됐거나 적절한 metric이 아니면 NDCG가 더 낮게 나오는 것...\n",
    "\n",
    "## How can we estimate the baseline performance?\n",
    "기준 성능을 측정하려면 먼저 기준 모델을 선정하고 메인 모델에 사용할 metric을 이용해 평가한다. 일반적으로 simple-rule 혹은 심지어는 zero-rule(regression이나 분류 모델의 평균 예측) 모델이면 기준 모델로 충분하다. 이미 수행중인 모델이 있고, 성능을 향상시키려는 경우엔 모델의 이전 결과로도 충분하다.   \n",
    "중요한건, 서로 다른 문제 혹은 비즈니스 목표엔 서로 다른 기준 접근법이 필요하다는 것이다.   \n",
    "   \n",
    "이 노트에서 영화 추천을 위한 기준 성능을 어떻게 측정할 지 살펴본다. 평점 예측 방법을 위해선 평균을 사용한다. 즉, 기준 모델은 유저의 평점 예측을 위해 유저가 이전에 다른 영화에 매긴 평점들의 평균을 사용한다. top-k 추천 방법을 위해선 가장 많이 평가된 top-k 영화를 기준 모델로 삼는다. We choose the number of ratings here because we regard the binary signal of 'rated vs. not-rated' as user's implicit preference when evaluating ranking metrics."
   ]
  },
  {
   "cell_type": "code",
   "execution_count": 1,
   "id": "b63a8f04",
   "metadata": {},
   "outputs": [],
   "source": [
    "import sys\n",
    "import itertools\n",
    "import pandas as pd\n",
    "\n",
    "from recommenders.utils.notebook_utils import is_jupyter\n",
    "from recommenders.datasets import movielens\n",
    "from recommenders.datasets.python_splitters import python_random_split\n",
    "from recommenders.datasets.pandas_df_utils import filter_by\n",
    "from recommenders.evaluation.python_evaluation import rmse, mae, rsquared, exp_var, map_at_k, ndcg_at_k, precision_at_k, recall_at_k"
   ]
  },
  {
   "cell_type": "code",
   "execution_count": null,
   "id": "a6319ba6",
   "metadata": {},
   "outputs": [],
   "source": [
    "data = movielens.load_pandas_df(size='100k', header=['UserId', 'MovieId', 'Rating','Timestamp'])"
   ]
  },
  {
   "cell_type": "code",
   "execution_count": 12,
   "id": "187ee9a1",
   "metadata": {
    "collapsed": true
   },
   "outputs": [
    {
     "data": {
      "text/html": [
       "<div>\n",
       "<style scoped>\n",
       "    .dataframe tbody tr th:only-of-type {\n",
       "        vertical-align: middle;\n",
       "    }\n",
       "\n",
       "    .dataframe tbody tr th {\n",
       "        vertical-align: top;\n",
       "    }\n",
       "\n",
       "    .dataframe thead th {\n",
       "        text-align: right;\n",
       "    }\n",
       "</style>\n",
       "<table border=\"1\" class=\"dataframe\">\n",
       "  <thead>\n",
       "    <tr style=\"text-align: right;\">\n",
       "      <th></th>\n",
       "      <th>UserId</th>\n",
       "      <th>MovieId</th>\n",
       "      <th>Rating</th>\n",
       "      <th>Timestamp</th>\n",
       "    </tr>\n",
       "  </thead>\n",
       "  <tbody>\n",
       "    <tr>\n",
       "      <th>0</th>\n",
       "      <td>196</td>\n",
       "      <td>242</td>\n",
       "      <td>3.0</td>\n",
       "      <td>881250949</td>\n",
       "    </tr>\n",
       "    <tr>\n",
       "      <th>1</th>\n",
       "      <td>186</td>\n",
       "      <td>302</td>\n",
       "      <td>3.0</td>\n",
       "      <td>891717742</td>\n",
       "    </tr>\n",
       "    <tr>\n",
       "      <th>2</th>\n",
       "      <td>22</td>\n",
       "      <td>377</td>\n",
       "      <td>1.0</td>\n",
       "      <td>878887116</td>\n",
       "    </tr>\n",
       "    <tr>\n",
       "      <th>3</th>\n",
       "      <td>244</td>\n",
       "      <td>51</td>\n",
       "      <td>2.0</td>\n",
       "      <td>880606923</td>\n",
       "    </tr>\n",
       "    <tr>\n",
       "      <th>4</th>\n",
       "      <td>166</td>\n",
       "      <td>346</td>\n",
       "      <td>1.0</td>\n",
       "      <td>886397596</td>\n",
       "    </tr>\n",
       "    <tr>\n",
       "      <th>...</th>\n",
       "      <td>...</td>\n",
       "      <td>...</td>\n",
       "      <td>...</td>\n",
       "      <td>...</td>\n",
       "    </tr>\n",
       "    <tr>\n",
       "      <th>99995</th>\n",
       "      <td>880</td>\n",
       "      <td>476</td>\n",
       "      <td>3.0</td>\n",
       "      <td>880175444</td>\n",
       "    </tr>\n",
       "    <tr>\n",
       "      <th>99996</th>\n",
       "      <td>716</td>\n",
       "      <td>204</td>\n",
       "      <td>5.0</td>\n",
       "      <td>879795543</td>\n",
       "    </tr>\n",
       "    <tr>\n",
       "      <th>99997</th>\n",
       "      <td>276</td>\n",
       "      <td>1090</td>\n",
       "      <td>1.0</td>\n",
       "      <td>874795795</td>\n",
       "    </tr>\n",
       "    <tr>\n",
       "      <th>99998</th>\n",
       "      <td>13</td>\n",
       "      <td>225</td>\n",
       "      <td>2.0</td>\n",
       "      <td>882399156</td>\n",
       "    </tr>\n",
       "    <tr>\n",
       "      <th>99999</th>\n",
       "      <td>12</td>\n",
       "      <td>203</td>\n",
       "      <td>3.0</td>\n",
       "      <td>879959583</td>\n",
       "    </tr>\n",
       "  </tbody>\n",
       "</table>\n",
       "<p>100000 rows × 4 columns</p>\n",
       "</div>"
      ],
      "text/plain": [
       "       UserId  MovieId  Rating  Timestamp\n",
       "0         196      242     3.0  881250949\n",
       "1         186      302     3.0  891717742\n",
       "2          22      377     1.0  878887116\n",
       "3         244       51     2.0  880606923\n",
       "4         166      346     1.0  886397596\n",
       "...       ...      ...     ...        ...\n",
       "99995     880      476     3.0  880175444\n",
       "99996     716      204     5.0  879795543\n",
       "99997     276     1090     1.0  874795795\n",
       "99998      13      225     2.0  882399156\n",
       "99999      12      203     3.0  879959583\n",
       "\n",
       "[100000 rows x 4 columns]"
      ]
     },
     "execution_count": 12,
     "metadata": {},
     "output_type": "execute_result"
    }
   ],
   "source": [
    "tt = pd.DataFrame(data, columns=['UserId','MovieId','Rating','Timestamp'])\n",
    "tt"
   ]
  },
  {
   "cell_type": "code",
   "execution_count": 13,
   "id": "c509aa7b",
   "metadata": {},
   "outputs": [],
   "source": [
    "tt.to_csv('Movielens_100k.csv', header=['UserId','MovieId','Rating','Timestamp'], index=False)"
   ]
  },
  {
   "cell_type": "code",
   "execution_count": 80,
   "id": "ca63187a",
   "metadata": {},
   "outputs": [],
   "source": [
    "data = pd.read_csv('Movielens_100k.csv')\n",
    "train, test = python_random_split(data, ratio=0.75, seed=42)"
   ]
  },
  {
   "cell_type": "markdown",
   "id": "fd537089",
   "metadata": {},
   "source": [
    "## 1. Rating prediction baseline\n"
   ]
  },
  {
   "cell_type": "code",
   "execution_count": 81,
   "id": "e0bc6458",
   "metadata": {},
   "outputs": [],
   "source": [
    "# Calculate avg ratings from the training set\n",
    "user_ratings = train.groupby(['UserId'])['Rating'].mean()\n",
    "user_ratings = user_ratings.to_frame().reset_index()\n",
    "user_ratings.rename(columns={'Rating':'AvgRating'}, inplace=True)"
   ]
  },
  {
   "cell_type": "code",
   "execution_count": 82,
   "id": "451f638b",
   "metadata": {},
   "outputs": [
    {
     "data": {
      "text/html": [
       "<div>\n",
       "<style scoped>\n",
       "    .dataframe tbody tr th:only-of-type {\n",
       "        vertical-align: middle;\n",
       "    }\n",
       "\n",
       "    .dataframe tbody tr th {\n",
       "        vertical-align: top;\n",
       "    }\n",
       "\n",
       "    .dataframe thead th {\n",
       "        text-align: right;\n",
       "    }\n",
       "</style>\n",
       "<table border=\"1\" class=\"dataframe\">\n",
       "  <thead>\n",
       "    <tr style=\"text-align: right;\">\n",
       "      <th></th>\n",
       "      <th>UserId</th>\n",
       "      <th>MovieId</th>\n",
       "      <th>Rating</th>\n",
       "      <th>Timestamp</th>\n",
       "      <th>AvgRating</th>\n",
       "    </tr>\n",
       "  </thead>\n",
       "  <tbody>\n",
       "    <tr>\n",
       "      <th>12215</th>\n",
       "      <td>1</td>\n",
       "      <td>233</td>\n",
       "      <td>2.0</td>\n",
       "      <td>878542552</td>\n",
       "      <td>3.69697</td>\n",
       "    </tr>\n",
       "    <tr>\n",
       "      <th>12216</th>\n",
       "      <td>1</td>\n",
       "      <td>159</td>\n",
       "      <td>3.0</td>\n",
       "      <td>875073180</td>\n",
       "      <td>3.69697</td>\n",
       "    </tr>\n",
       "    <tr>\n",
       "      <th>12217</th>\n",
       "      <td>1</td>\n",
       "      <td>238</td>\n",
       "      <td>4.0</td>\n",
       "      <td>875072235</td>\n",
       "      <td>3.69697</td>\n",
       "    </tr>\n",
       "    <tr>\n",
       "      <th>12218</th>\n",
       "      <td>1</td>\n",
       "      <td>100</td>\n",
       "      <td>5.0</td>\n",
       "      <td>878543541</td>\n",
       "      <td>3.69697</td>\n",
       "    </tr>\n",
       "    <tr>\n",
       "      <th>12219</th>\n",
       "      <td>1</td>\n",
       "      <td>63</td>\n",
       "      <td>2.0</td>\n",
       "      <td>878543196</td>\n",
       "      <td>3.69697</td>\n",
       "    </tr>\n",
       "  </tbody>\n",
       "</table>\n",
       "</div>"
      ],
      "text/plain": [
       "       UserId  MovieId  Rating  Timestamp  AvgRating\n",
       "12215       1      233     2.0  878542552    3.69697\n",
       "12216       1      159     3.0  875073180    3.69697\n",
       "12217       1      238     4.0  875072235    3.69697\n",
       "12218       1      100     5.0  878543541    3.69697\n",
       "12219       1       63     2.0  878543196    3.69697"
      ]
     },
     "execution_count": 82,
     "metadata": {},
     "output_type": "execute_result"
    }
   ],
   "source": [
    "# Generate prediction for the test set\n",
    "baseline_pred = pd.merge(test, user_ratings, on=['UserId'], how='inner')\n",
    "baseline_pred['AvgRating']# = str(baseline_pred['AvgRating'])\n",
    "baseline_pred.loc[baseline_pred['UserId']==1].head()"
   ]
  },
  {
   "cell_type": "markdown",
   "id": "1d43f6e5",
   "metadata": {},
   "source": [
    "문제 1. `MovieId`의 datatype이 달라서 비교 안됨.   \n",
    "문제 2. `MovieId`에 `None`이 있어서 int로 변경 불가.   \n",
    "-> `outer`가 아니라 `inner` merge 모두 해결"
   ]
  },
  {
   "cell_type": "code",
   "execution_count": 83,
   "id": "178b1325",
   "metadata": {},
   "outputs": [],
   "source": [
    "# Evaluate how baseline model will perform on regression metrics\n",
    "baseline_pred = baseline_pred[['UserId','MovieId','AvgRating']]\n",
    "# baseline_pred = baseline_pred.astype({'MovieId':'int'})\n",
    "cols = {'col_user':'UserId', 'col_item':'MovieId',\n",
    "       'col_rating':'Rating', 'col_prediction':'AvgRating'}"
   ]
  },
  {
   "cell_type": "code",
   "execution_count": 84,
   "id": "0dc220b0",
   "metadata": {},
   "outputs": [
    {
     "name": "stdout",
     "output_type": "stream",
     "text": [
      "RMSE:\t\t1.044885\n",
      "MAE:\t\t0.836925\n",
      "rsquared:\t0.136491\n",
      "exp var:\t0.136496\n"
     ]
    }
   ],
   "source": [
    "eval_rmse = rmse(test, baseline_pred, **cols)\n",
    "eval_mae = mae(test, baseline_pred, **cols)\n",
    "eval_rsq = rsquared(test, baseline_pred, **cols)\n",
    "eval_exp = exp_var(test, baseline_pred, **cols)\n",
    "\n",
    "print(\"RMSE:\\t\\t%f\" % eval_rmse,\n",
    "      \"MAE:\\t\\t%f\" % eval_mae,\n",
    "      \"rsquared:\\t%f\" % eval_rsq,\n",
    "      \"exp var:\\t%f\" % eval_exp, sep='\\n')"
   ]
  },
  {
   "cell_type": "markdown",
   "id": "100da94c",
   "metadata": {},
   "source": [
    "## 2. Top-k recommendation baseline\n",
    "**가장 인기있는** 아이템을 추천하는 것은 많은 추천 시나리오에 먹히는 직관적이고 간단한 방법이다."
   ]
  },
  {
   "cell_type": "code",
   "execution_count": 85,
   "id": "56398a09",
   "metadata": {},
   "outputs": [
    {
     "data": {
      "text/html": [
       "<div>\n",
       "<style scoped>\n",
       "    .dataframe tbody tr th:only-of-type {\n",
       "        vertical-align: middle;\n",
       "    }\n",
       "\n",
       "    .dataframe tbody tr th {\n",
       "        vertical-align: top;\n",
       "    }\n",
       "\n",
       "    .dataframe thead th {\n",
       "        text-align: right;\n",
       "    }\n",
       "</style>\n",
       "<table border=\"1\" class=\"dataframe\">\n",
       "  <thead>\n",
       "    <tr style=\"text-align: right;\">\n",
       "      <th></th>\n",
       "      <th>MovieId</th>\n",
       "      <th>Count</th>\n",
       "    </tr>\n",
       "  </thead>\n",
       "  <tbody>\n",
       "    <tr>\n",
       "      <th>0</th>\n",
       "      <td>50</td>\n",
       "      <td>419</td>\n",
       "    </tr>\n",
       "    <tr>\n",
       "      <th>1</th>\n",
       "      <td>181</td>\n",
       "      <td>382</td>\n",
       "    </tr>\n",
       "    <tr>\n",
       "      <th>2</th>\n",
       "      <td>100</td>\n",
       "      <td>381</td>\n",
       "    </tr>\n",
       "    <tr>\n",
       "      <th>3</th>\n",
       "      <td>258</td>\n",
       "      <td>377</td>\n",
       "    </tr>\n",
       "    <tr>\n",
       "      <th>4</th>\n",
       "      <td>288</td>\n",
       "      <td>371</td>\n",
       "    </tr>\n",
       "  </tbody>\n",
       "</table>\n",
       "</div>"
      ],
      "text/plain": [
       "   MovieId  Count\n",
       "0       50    419\n",
       "1      181    382\n",
       "2      100    381\n",
       "3      258    377\n",
       "4      288    371"
      ]
     },
     "execution_count": 85,
     "metadata": {},
     "output_type": "execute_result"
    }
   ],
   "source": [
    "item_cnt = train['MovieId'].value_counts().to_frame().reset_index()\n",
    "item_cnt.columns = ['MovieId', 'Count']\n",
    "item_cnt.head()"
   ]
  },
  {
   "cell_type": "code",
   "execution_count": 86,
   "id": "11219b17",
   "metadata": {},
   "outputs": [
    {
     "name": "stdout",
     "output_type": "stream",
     "text": [
      "Number of user-item pairs: 1546764\n",
      "After remove seen items: 1471784\n"
     ]
    }
   ],
   "source": [
    "user_item_col = ['UserId', 'MovieId']\n",
    "\n",
    "test_users = test['UserId'].unique()\n",
    "user_item_list = list(itertools.product(test_users, item_cnt['MovieId']))\n",
    "user_item = pd.DataFrame(user_item_list, columns=user_item_col)\n",
    "print('Number of user-item pairs:', len(user_item))\n",
    "\n",
    "# Remove seen items\n",
    "user_item_unseen = filter_by(user_item, train, user_item_col)\n",
    "print('After remove seen items:', len(user_item_unseen))"
   ]
  },
  {
   "cell_type": "code",
   "execution_count": 89,
   "id": "313fa065",
   "metadata": {},
   "outputs": [
    {
     "data": {
      "text/html": [
       "<div>\n",
       "<style scoped>\n",
       "    .dataframe tbody tr th:only-of-type {\n",
       "        vertical-align: middle;\n",
       "    }\n",
       "\n",
       "    .dataframe tbody tr th {\n",
       "        vertical-align: top;\n",
       "    }\n",
       "\n",
       "    .dataframe thead th {\n",
       "        text-align: right;\n",
       "    }\n",
       "</style>\n",
       "<table border=\"1\" class=\"dataframe\">\n",
       "  <thead>\n",
       "    <tr style=\"text-align: right;\">\n",
       "      <th></th>\n",
       "      <th>MovieId</th>\n",
       "      <th>Count</th>\n",
       "      <th>UserId</th>\n",
       "    </tr>\n",
       "  </thead>\n",
       "  <tbody>\n",
       "    <tr>\n",
       "      <th>0</th>\n",
       "      <td>50</td>\n",
       "      <td>419</td>\n",
       "      <td>877</td>\n",
       "    </tr>\n",
       "    <tr>\n",
       "      <th>1</th>\n",
       "      <td>50</td>\n",
       "      <td>419</td>\n",
       "      <td>815</td>\n",
       "    </tr>\n",
       "    <tr>\n",
       "      <th>2</th>\n",
       "      <td>50</td>\n",
       "      <td>419</td>\n",
       "      <td>416</td>\n",
       "    </tr>\n",
       "    <tr>\n",
       "      <th>3</th>\n",
       "      <td>50</td>\n",
       "      <td>419</td>\n",
       "      <td>259</td>\n",
       "    </tr>\n",
       "    <tr>\n",
       "      <th>4</th>\n",
       "      <td>50</td>\n",
       "      <td>419</td>\n",
       "      <td>598</td>\n",
       "    </tr>\n",
       "  </tbody>\n",
       "</table>\n",
       "</div>"
      ],
      "text/plain": [
       "   MovieId  Count  UserId\n",
       "0       50    419     877\n",
       "1       50    419     815\n",
       "2       50    419     416\n",
       "3       50    419     259\n",
       "4       50    419     598"
      ]
     },
     "execution_count": 89,
     "metadata": {},
     "output_type": "execute_result"
    }
   ],
   "source": [
    "# Generate recommendations\n",
    "baseline_recom = pd.merge(item_cnt, user_item_unseen, on=['MovieId'], how='inner')\n",
    "baseline_recom.head()"
   ]
  },
  {
   "cell_type": "code",
   "execution_count": 91,
   "id": "892041b6",
   "metadata": {},
   "outputs": [
    {
     "name": "stdout",
     "output_type": "stream",
     "text": [
      "MAP:\t0.055008\n",
      "NDCG@K:\t0.252867\n",
      "Precision@K:\t0.224628\n",
      "Recall@K:\t0.111736\n"
     ]
    }
   ],
   "source": [
    "cols['col_prediction'] = 'Count'\n",
    "\n",
    "eval_map = map_at_k(test, baseline_recom, k=10, **cols)\n",
    "eval_ndcg = ndcg_at_k(test, baseline_recom, k=10, **cols)\n",
    "eval_precision = precision_at_k(test, baseline_recom, k=10, **cols)\n",
    "eval_recall = recall_at_k(test, baseline_recom, k=10, **cols)\n",
    "\n",
    "print(\"MAP:\\t%f\" % eval_map,\n",
    "      \"NDCG@K:\\t%f\" % eval_ndcg,\n",
    "      \"Precision@K:\\t%f\" % eval_precision,\n",
    "      \"Recall@K:\\t%f\" % eval_recall, sep='\\n')"
   ]
  },
  {
   "cell_type": "code",
   "execution_count": 93,
   "id": "fd9a9bcd",
   "metadata": {},
   "outputs": [
    {
     "data": {
      "application/scrapbook.scrap.json+json": {
       "data": 0.05500831263949166,
       "encoder": "json",
       "name": "map",
       "version": 1
      }
     },
     "metadata": {
      "scrapbook": {
       "data": true,
       "display": false,
       "name": "map"
      }
     },
     "output_type": "display_data"
    },
    {
     "data": {
      "application/scrapbook.scrap.json+json": {
       "data": 0.2528673962200594,
       "encoder": "json",
       "name": "ndcg",
       "version": 1
      }
     },
     "metadata": {
      "scrapbook": {
       "data": true,
       "display": false,
       "name": "ndcg"
      }
     },
     "output_type": "display_data"
    },
    {
     "data": {
      "application/scrapbook.scrap.json+json": {
       "data": 0.22462845010615715,
       "encoder": "json",
       "name": "precision",
       "version": 1
      }
     },
     "metadata": {
      "scrapbook": {
       "data": true,
       "display": false,
       "name": "precision"
      }
     },
     "output_type": "display_data"
    },
    {
     "data": {
      "application/scrapbook.scrap.json+json": {
       "data": 0.1117356507425933,
       "encoder": "json",
       "name": "recall",
       "version": 1
      }
     },
     "metadata": {
      "scrapbook": {
       "data": true,
       "display": false,
       "name": "recall"
      }
     },
     "output_type": "display_data"
    },
    {
     "data": {
      "application/scrapbook.scrap.json+json": {
       "data": 1.044885130655045,
       "encoder": "json",
       "name": "rmse",
       "version": 1
      }
     },
     "metadata": {
      "scrapbook": {
       "data": true,
       "display": false,
       "name": "rmse"
      }
     },
     "output_type": "display_data"
    },
    {
     "data": {
      "application/scrapbook.scrap.json+json": {
       "data": 0.8369250150730534,
       "encoder": "json",
       "name": "mae",
       "version": 1
      }
     },
     "metadata": {
      "scrapbook": {
       "data": true,
       "display": false,
       "name": "mae"
      }
     },
     "output_type": "display_data"
    },
    {
     "data": {
      "application/scrapbook.scrap.json+json": {
       "data": 0.1364955485850292,
       "encoder": "json",
       "name": "exp_var",
       "version": 1
      }
     },
     "metadata": {
      "scrapbook": {
       "data": true,
       "display": false,
       "name": "exp_var"
      }
     },
     "output_type": "display_data"
    },
    {
     "data": {
      "application/scrapbook.scrap.json+json": {
       "data": 0.13649128638749664,
       "encoder": "json",
       "name": "rsquared",
       "version": 1
      }
     },
     "metadata": {
      "scrapbook": {
       "data": true,
       "display": false,
       "name": "rsquared"
      }
     },
     "output_type": "display_data"
    }
   ],
   "source": [
    "if is_jupyter():\n",
    "    import papermill as pm\n",
    "    import scrapbook as sb\n",
    "    sb.glue(\"map\", eval_map)\n",
    "    sb.glue(\"ndcg\", eval_ndcg)\n",
    "    sb.glue(\"precision\", eval_precision)\n",
    "    sb.glue(\"recall\", eval_recall)\n",
    "    sb.glue(\"rmse\", eval_rmse)\n",
    "    sb.glue(\"mae\", eval_mae)\n",
    "    sb.glue(\"exp_var\", eval_exp)\n",
    "    sb.glue(\"rsquared\", eval_rsq)"
   ]
  },
  {
   "cell_type": "code",
   "execution_count": null,
   "id": "ed7ffced",
   "metadata": {},
   "outputs": [],
   "source": []
  }
 ],
 "metadata": {
  "kernelspec": {
   "display_name": "ms_rec3713",
   "language": "python",
   "name": "recommender3713"
  },
  "language_info": {
   "codemirror_mode": {
    "name": "ipython",
    "version": 3
   },
   "file_extension": ".py",
   "mimetype": "text/x-python",
   "name": "python",
   "nbconvert_exporter": "python",
   "pygments_lexer": "ipython3",
   "version": "3.7.13"
  }
 },
 "nbformat": 4,
 "nbformat_minor": 5
}
