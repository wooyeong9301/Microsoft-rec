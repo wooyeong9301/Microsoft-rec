{
 "cells": [
  {
   "cell_type": "markdown",
   "id": "1273ff44",
   "metadata": {},
   "source": [
    "# Spark Collaborative Filtering Deep Dive\n",
    "**Spark MLlib**은 행렬 분해 모델을 훈련하는 데 사용될 수 있는 collaborative filtering 알고리즘을 제공한다. 추천하는 아이템에 대한 유저의 explicit 혹은 implicit 평점을 예측한다.\n",
    "\n",
    "## 1. Matrix factorization algorithm\n",
    "\n",
    "## 3. Spark ALS based Movielens recommender"
   ]
  },
  {
   "cell_type": "code",
   "execution_count": 1,
   "id": "624f5d41",
   "metadata": {},
   "outputs": [],
   "source": [
    "import sys\n",
    "import pandas as pd\n",
    "import numpy as np\n",
    "import seaborn as sns\n",
    "import matplotlib.pyplot as plt\n",
    "import warnings\n",
    "warnings.simplefilter(action='ignore', category=FutureWarning)\n",
    "\n",
    "import pyspark\n",
    "import pyspark.sql.functions as F\n",
    "from pyspark.sql import SparkSession\n",
    "from pyspark.ml.recommendation import ALS\n",
    "from pyspark.sql.functions import col\n",
    "from pyspark.ml.tuning import CrossValidator\n",
    "from pyspark.sql.types import StructType, StructField, FloatType, IntegerType, LongType\n",
    "\n",
    "from recommenders.datasets import movielens\n",
    "from recommenders.utils.spark_utils import start_or_get_spark\n",
    "from recommenders.evaluation.spark_evaluation import SparkRankingEvaluation, SparkRatingEvaluation\n",
    "from recommenders.tuning.parameter_sweep import generate_param_grid\n",
    "from recommenders.datasets.spark_splitters import spark_random_split"
   ]
  },
  {
   "cell_type": "code",
   "execution_count": 2,
   "id": "54e98a0a",
   "metadata": {},
   "outputs": [],
   "source": [
    "schema = StructType((StructField('UserId', IntegerType()),\n",
    "                    StructField('ItemId', IntegerType()),\n",
    "                    StructField('Rating', FloatType()),\n",
    "                    StructField('Timestamp', LongType()),\n",
    "                    ))"
   ]
  },
  {
   "cell_type": "code",
   "execution_count": 3,
   "id": "5b4350fa",
   "metadata": {},
   "outputs": [
    {
     "name": "stderr",
     "output_type": "stream",
     "text": [
      "22/07/18 15:30:27 WARN Utils: Your hostname, qwer-ND resolves to a loopback address: 127.0.1.1; using 10.140.50.75 instead (on interface enp3s0)\n",
      "22/07/18 15:30:27 WARN Utils: Set SPARK_LOCAL_IP if you need to bind to another address\n",
      "WARNING: An illegal reflective access operation has occurred\n",
      "WARNING: Illegal reflective access by org.apache.spark.unsafe.Platform (file:/home/qwer/anaconda3/envs/recommender3713/lib/python3.7/site-packages/pyspark/jars/spark-unsafe_2.12-3.2.1.jar) to constructor java.nio.DirectByteBuffer(long,int)\n",
      "WARNING: Please consider reporting this to the maintainers of org.apache.spark.unsafe.Platform\n",
      "WARNING: Use --illegal-access=warn to enable warnings of further illegal reflective access operations\n",
      "WARNING: All illegal access operations will be denied in a future release\n",
      "Using Spark's default log4j profile: org/apache/spark/log4j-defaults.properties\n",
      "Setting default log level to \"WARN\".\n",
      "To adjust logging level use sc.setLogLevel(newLevel). For SparkR, use setLogLevel(newLevel).\n",
      "22/07/18 15:30:27 WARN NativeCodeLoader: Unable to load native-hadoop library for your platform... using builtin-java classes where applicable\n"
     ]
    }
   ],
   "source": [
    "spark = start_or_get_spark('ALS Deep Dive', memory='16g')\n",
    "spark.conf.set('spark.sql.analyzer.failAmbiguousSelfJoin', 'false')"
   ]
  },
  {
   "cell_type": "code",
   "execution_count": 5,
   "id": "7614d9c0",
   "metadata": {},
   "outputs": [
    {
     "name": "stderr",
     "output_type": "stream",
     "text": [
      "100%|█████████████████████████████████████| 4.81k/4.81k [00:02<00:00, 2.01kKB/s]\n"
     ]
    },
    {
     "name": "stdout",
     "output_type": "stream",
     "text": [
      "+------+------+------+---------+\n",
      "|UserId|ItemId|Rating|Timestamp|\n",
      "+------+------+------+---------+\n",
      "|   196|   242|   3.0|881250949|\n",
      "|   186|   302|   3.0|891717742|\n",
      "|    22|   377|   1.0|878887116|\n",
      "|   244|    51|   2.0|880606923|\n",
      "|   166|   346|   1.0|886397596|\n",
      "+------+------+------+---------+\n",
      "only showing top 5 rows\n",
      "\n"
     ]
    }
   ],
   "source": [
    "# Load and prepare data\n",
    "dfs = movielens.load_spark_df(spark=spark, size='100k', schema=schema)\n",
    "dfs.show(5)"
   ]
  },
  {
   "cell_type": "code",
   "execution_count": 6,
   "id": "47df29d9",
   "metadata": {},
   "outputs": [],
   "source": [
    "dfs_train, dfs_test = spark_random_split(dfs, ratio=0.8, seed=42)"
   ]
  },
  {
   "cell_type": "code",
   "execution_count": 8,
   "id": "72c7d241",
   "metadata": {},
   "outputs": [
    {
     "name": "stderr",
     "output_type": "stream",
     "text": [
      "22/07/18 15:41:00 WARN InstanceBuilder$NativeBLAS: Failed to load implementation from:dev.ludovic.netlib.blas.JNIBLAS\n",
      "22/07/18 15:41:00 WARN InstanceBuilder$NativeBLAS: Failed to load implementation from:dev.ludovic.netlib.blas.ForeignLinkerBLAS\n",
      "22/07/18 15:41:00 WARN InstanceBuilder$NativeLAPACK: Failed to load implementation from:dev.ludovic.netlib.lapack.JNILAPACK\n"
     ]
    }
   ],
   "source": [
    "# Train a movielens model\n",
    "# Spark ALS는 테스트셋에서 더 견고한 검증을 위해 콜드유저를 드랍할 수 있다.\n",
    "als = ALS(maxIter=15, rank=10, regParam=0.05,\n",
    "         userCol='UserId', itemCol='ItemId', ratingCol='Rating', coldStartStrategy='drop')\n",
    "\n",
    "model = als.fit(dfs_train)"
   ]
  },
  {
   "cell_type": "code",
   "execution_count": 12,
   "id": "eb1414b1",
   "metadata": {},
   "outputs": [
    {
     "name": "stdout",
     "output_type": "stream",
     "text": [
      "RMSE score = 0.9556153718189598\n",
      "MAE score = 0.7450058612644982\n",
      "R2 score = 0.281035394886475\n",
      "Explained variance score = 0.28637299500649005\n"
     ]
    }
   ],
   "source": [
    "# Prediction\n",
    "dfs_pred = model.transform(dfs_test).drop('Rating')\n",
    "\n",
    "evaluations = SparkRatingEvaluation(dfs_test, dfs_pred,\n",
    "                                   col_user='UserId', col_item='ItemId',\n",
    "                                   col_rating='Rating', col_prediction='prediction')\n",
    "\n",
    "print(\"RMSE score = {}\".format(evaluations.rmse()),\n",
    "    \"MAE score = {}\".format(evaluations.mae()),\n",
    "    \"R2 score = {}\".format(evaluations.rsquared()),\n",
    "    \"Explained variance score = {}\".format(evaluations.exp_var()),\n",
    "    sep=\"\\n\")"
   ]
  },
  {
   "cell_type": "code",
   "execution_count": 13,
   "id": "1402f8cc",
   "metadata": {},
   "outputs": [
    {
     "name": "stderr",
     "output_type": "stream",
     "text": [
      "22/07/18 15:53:39 WARN Column: Constructing trivially true equals predicate, 'UserId#0 = UserId#0'. Perhaps you need to use aliases.\n",
      "[Stage 602:>                                                        (0 + 1) / 1]\r"
     ]
    },
    {
     "name": "stdout",
     "output_type": "stream",
     "text": [
      "+------+------+----------+\n",
      "|UserId|ItemId|prediction|\n",
      "+------+------+----------+\n",
      "|     1|    46| 3.1508272|\n",
      "|     1|   255|  2.860598|\n",
      "|     1|   284| 2.8368096|\n",
      "|     1|   285|  5.170787|\n",
      "|     1|   318| 4.2681656|\n",
      "|     1|   329|  3.229271|\n",
      "|     1|   335| 3.5721858|\n",
      "|     1|   353| 2.8815293|\n",
      "|     1|   371|  2.223076|\n",
      "|     1|   372| 3.8601854|\n",
      "|     1|   381| 3.7922728|\n",
      "|     1|   391| 2.5018885|\n",
      "|     1|   409| 2.6668408|\n",
      "|     1|   413| 2.5902538|\n",
      "|     1|   417| 2.7754765|\n",
      "|     1|   440|0.44709682|\n",
      "|     1|   449| 3.3577588|\n",
      "|     1|   463|  4.178662|\n",
      "|     1|   480|  4.390193|\n",
      "|     1|   488| 3.7448568|\n",
      "+------+------+----------+\n",
      "only showing top 20 rows\n",
      "\n"
     ]
    },
    {
     "name": "stderr",
     "output_type": "stream",
     "text": [
      "\r",
      "                                                                                \r"
     ]
    }
   ],
   "source": [
    "# 랭킹 메트릭은 보통 아이템의 리스트를 추천하는 시나리오에 적용한다.\n",
    "# Get the cross join of all user-item pairs and score them\n",
    "users = dfs_train.select('UserId').distinct()\n",
    "items = dfs_train.select('ItemId').distinct()\n",
    "user_item = users.crossJoin(items)\n",
    "dfs_pred = model.transform(user_item)\n",
    "\n",
    "# Remove seen items\n",
    "dfs_pred_unseen = dfs_pred.alias('pred').join(\n",
    "dfs_train.alias('train'), (dfs_pred['UserId']==dfs_train['UserId'])&(dfs_pred['ItemId']==dfs_train['ItemId']), how='outer')\n",
    "\n",
    "dfs_pred_final = dfs_pred_unseen.filter(dfs_pred_unseen['train.Rating'].isNull()).select(\n",
    "'pred.'+'UserId', 'pred.'+'ItemId', 'pred.'+'prediction')\n",
    "\n",
    "dfs_pred_final.show()"
   ]
  },
  {
   "cell_type": "code",
   "execution_count": 14,
   "id": "6622c764",
   "metadata": {},
   "outputs": [
    {
     "name": "stderr",
     "output_type": "stream",
     "text": [
      "                                                                                \r"
     ]
    },
    {
     "name": "stdout",
     "output_type": "stream",
     "text": [
      "Precision@k = 0.036797454931071054\n",
      "Recall@k = 0.01674812385258983\n",
      "NDCG@k = 0.03464532196785911\n",
      "Mean average precision = 0.0044582184851539855\n"
     ]
    }
   ],
   "source": [
    "evaluations = SparkRankingEvaluation(dfs_test, dfs_pred_final,\n",
    "                                    col_user='UserId', col_item='ItemId',\n",
    "                                    col_rating='Rating', col_prediction='prediction',\n",
    "                                    k='10')\n",
    "\n",
    "print(\n",
    "    \"Precision@k = {}\".format(evaluations.precision_at_k()),\n",
    "    \"Recall@k = {}\".format(evaluations.recall_at_k()),\n",
    "    \"NDCG@k = {}\".format(evaluations.ndcg_at_k()),\n",
    "    \"Mean average precision = {}\".format(evaluations.map_at_k()),\n",
    "    sep=\"\\n\"\n",
    ")"
   ]
  },
  {
   "cell_type": "code",
   "execution_count": 17,
   "id": "68b93d02",
   "metadata": {},
   "outputs": [
    {
     "name": "stdout",
     "output_type": "stream",
     "text": [
      "RMSE score : [1.0936706676579813, 0.9157571929292366, 1.0612967403988198, 1.3667937388998799, 1.2821808392058507, 0.9198704675120541, 1.0608155367018652, 1.3667943623266332, 1.4180620800371282, 0.9208848234571148, 1.0610791154853205, 1.3667940931392257, 1.50164660094278, 0.9222090879745083, 1.0610830731032301, 1.366794119660382]\n",
      "RMSE score : [1.0937, 0.9158, 1.0613, 1.3668, 1.2822, 0.9199, 1.0608, 1.3668, 1.4181, 0.9209, 1.0611, 1.3668, 1.5016, 0.9222, 1.0611, 1.3668]\n"
     ]
    },
    {
     "data": {
      "text/plain": [
       "<AxesSubplot:xlabel='reg. Parameter', ylabel='rank'>"
      ]
     },
     "execution_count": 17,
     "metadata": {},
     "output_type": "execute_result"
    },
    {
     "data": {
      "image/png": "[encoded data removed]",
      "text/plain": [
       "<Figure size 432x288 with 1 Axes>"
      ]
     },
     "metadata": {
      "needs_background": "light"
     },
     "output_type": "display_data"
    }
   ],
   "source": [
    "# Fine tune the model\n",
    "# Spark ALS 모델의 예측 성능은 파라미터의 영향을 받는다.\n",
    "# `rank`(number of latent factors)가 클수록 많은 고유 성분을 고려하고, `maxIters`가 클수록 optimal point에 잘 수렴하고, `regParam`은 오버피팅을 피하기 위해 실증적으로 선택된다\n",
    "param_dict = {'rank':[5, 10, 15, 20], 'regParam':[0.001, 0.1, 0.5, 1.0]}\n",
    "param_grid = generate_param_grid(param_dict)\n",
    "\n",
    "rmse_score = []\n",
    "\n",
    "for g in param_grid:\n",
    "    als = ALS(userCol='UserId', itemCol='ItemId', ratingCol='Rating',\n",
    "             coldStartStrategy='drop', **g)\n",
    "    \n",
    "    model = als.fit(dfs_train)\n",
    "    dfs_pred = model.transform(dfs_test).drop('Rating')\n",
    "    evaluations = SparkRatingEvaluation(dfs_test, dfs_pred,\n",
    "                                       col_user='UserId', col_item='ItemId',\n",
    "                                       col_rating='Rating', col_prediction='prediction')\n",
    "    \n",
    "    rmse_score.append(evaluations.rmse())\n",
    "\n",
    "print('RMSE score :', rmse_score)\n",
    "rmse_score = [float('%.4f'%x) for x in rmse_score]\n",
    "print('RMSE score :', rmse_score)\n",
    "rmse_score_array = np.reshape(rmse_score, (len(param_dict['rank']),\n",
    "                                           len(param_dict['regParam'])))\n",
    "\n",
    "rmse_df = pd.DataFrame(data=rmse_score_array, index=pd.Index(param_dict['rank'], name='rank'),\n",
    "                      columns=pd.Index(param_dict['regParam'], name='reg. Parameter'))\n",
    "\n",
    "fig, ax = plt.subplots()\n",
    "sns.heatmap(rmse_df, cbar=False, annot=True, fmt='.4g')"
   ]
  },
  {
   "cell_type": "code",
   "execution_count": 18,
   "id": "ba68aad4",
   "metadata": {},
   "outputs": [
    {
     "name": "stdout",
     "output_type": "stream",
     "text": [
      "+------+--------------------+\n",
      "|UserId|     recommendations|\n",
      "+------+--------------------+\n",
      "|     1|[{1536, 3.8742242...|\n",
      "|     3|[{1536, 3.085722}...|\n",
      "|     6|[{1536, 3.709466}...|\n",
      "|    12|[{1536, 4.497266}...|\n",
      "|    13|[{1536, 3.4071114...|\n",
      "|    16|[{1536, 4.5356517...|\n",
      "|    20|[{1536, 3.3076372...|\n",
      "|    22|[{1536, 3.6966453...|\n",
      "|    26|[{1536, 3.1780167...|\n",
      "|    27|[{1536, 3.4307716...|\n",
      "|    28|[{1536, 3.948202}...|\n",
      "|    31|[{1536, 3.9266136...|\n",
      "|    34|[{1536, 4.550511}...|\n",
      "|    40|[{1536, 2.8940613...|\n",
      "|    44|[{1536, 3.8168476...|\n",
      "|    47|[{1536, 4.067054}...|\n",
      "|    48|[{1536, 3.8780575...|\n",
      "|    52|[{1536, 4.332321}...|\n",
      "|    53|[{1536, 4.0254474...|\n",
      "|    54|[{1536, 3.9313898...|\n",
      "+------+--------------------+\n",
      "only showing top 20 rows\n",
      "\n"
     ]
    }
   ],
   "source": [
    "# Top-k recommentaion\n",
    "dfs_rec = model.recommendForAllUsers(10)\n",
    "dfs_rec.show()"
   ]
  },
  {
   "cell_type": "code",
   "execution_count": 19,
   "id": "af1ef707",
   "metadata": {},
   "outputs": [
    {
     "name": "stdout",
     "output_type": "stream",
     "text": [
      "+------+--------------------+\n",
      "|UserId|     recommendations|\n",
      "+------+--------------------+\n",
      "|   471|[{1536, 3.263928}...|\n",
      "|   463|[{1536, 3.1270876...|\n",
      "|   833|[{1536, 3.2608852...|\n",
      "|   496|[{1536, 3.258398}...|\n",
      "|   148|[{1536, 3.8723602...|\n",
      "+------+--------------------+\n",
      "\n"
     ]
    }
   ],
   "source": [
    "users = dfs_train.select(als.getUserCol()).distinct().limit(5)\n",
    "dfs_rec_sub = model.recommendForUserSubset(users, 10)\n",
    "dfs_rec_sub.show()"
   ]
  },
  {
   "cell_type": "code",
   "execution_count": 20,
   "id": "7edf5d42",
   "metadata": {},
   "outputs": [],
   "source": [
    "spark.stop()"
   ]
  },
  {
   "cell_type": "markdown",
   "id": "384ff2d2",
   "metadata": {},
   "source": [
    "일반적으로 모든 유저에 대한 top-k 추천을 계산하는 것은 ASL 기반 추천 시스템의 파이프라인에서 병목현상을 일으킨다. 계산 비용이 큰 cross join을 수행해야 하고, user-item 쌍의 내적이 개별적으로 계산된다. 연산을 가속시켜주는 특정 라이브러리에서 가능한 행렬 블록곱셈을 활용하는 대신에."
   ]
  },
  {
   "cell_type": "code",
   "execution_count": null,
   "id": "9127a394",
   "metadata": {},
   "outputs": [],
   "source": []
  }
 ],
 "metadata": {
  "kernelspec": {
   "display_name": "ms_rec3713",
   "language": "python",
   "name": "recommender3713"
  },
  "language_info": {
   "codemirror_mode": {
    "name": "ipython",
    "version": 3
   },
   "file_extension": ".py",
   "mimetype": "text/x-python",
   "name": "python",
   "nbconvert_exporter": "python",
   "pygments_lexer": "ipython3",
   "version": "3.7.13"
  }
 },
 "nbformat": 4,
 "nbformat_minor": 5
}
