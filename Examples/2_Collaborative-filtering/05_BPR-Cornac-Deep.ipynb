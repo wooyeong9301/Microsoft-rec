{
 "cells": [
  {
   "cell_type": "markdown",
   "id": "8f0721f8",
   "metadata": {},
   "source": [
    "# Bayesian Personalized Ranking\n",
    "이 노트는 암시적인 피드백에 대한 BPR 모델을 소개한다. 행렬 분해를 사용하는 BPR 모델을 배우는 데 집중한다.   \n",
    "모델은 Cornac에서 구현되었다. "
   ]
  },
  {
   "cell_type": "code",
   "execution_count": 1,
   "id": "46f9ca41",
   "metadata": {},
   "outputs": [
    {
     "name": "stdout",
     "output_type": "stream",
     "text": [
      "System version: 3.7.13 (default, Mar 29 2022, 02:18:16) \n",
      "[GCC 7.5.0]\n",
      "Cornac version: 1.14.2\n"
     ]
    }
   ],
   "source": [
    "import sys\n",
    "import os\n",
    "import cornac\n",
    "import papermill as pm\n",
    "import scrapbook as sb\n",
    "import pandas as pd\n",
    "from recommenders.datasets import movielens\n",
    "from recommenders.datasets.python_splitters import python_random_split\n",
    "from recommenders.evaluation.python_evaluation import map_at_k, ndcg_at_k, precision_at_k, recall_at_k\n",
    "from recommenders.models.cornac.cornac_utils import predict_ranking\n",
    "from recommenders.utils.timer import Timer\n",
    "from recommenders.utils.constants import SEED\n",
    "\n",
    "print(\"System version: {}\".format(sys.version))\n",
    "print(\"Cornac version: {}\".format(cornac.__version__))"
   ]
  },
  {
   "cell_type": "code",
   "execution_count": 2,
   "id": "4d9d347f",
   "metadata": {},
   "outputs": [],
   "source": [
    "Movielens_data_size = '100k'\n",
    "\n",
    "TOP_K = 10\n",
    "\n",
    "Num_factors = 200\n",
    "Num_epochs = 100"
   ]
  },
  {
   "cell_type": "markdown",
   "id": "75091d6f",
   "metadata": {},
   "source": [
    "## BPA Algorithm\n",
    "### Personalized Ranking from Implicit Feedback\n",
    "\n",
    "## Cornac implementation of BPR\n",
    "\n",
    "## Cornac BPR movie recommender\n",
    "### Load and split data"
   ]
  },
  {
   "cell_type": "code",
   "execution_count": 5,
   "id": "cc4f988c",
   "metadata": {},
   "outputs": [],
   "source": [
    "data = pd.read_csv('Movielens_100k.csv')\n",
    "data = data[['UserId', 'MovieId', 'Rating']]\n",
    "train, test = python_random_split(data, 0.75)"
   ]
  },
  {
   "cell_type": "code",
   "execution_count": 6,
   "id": "ec4418ff",
   "metadata": {},
   "outputs": [],
   "source": [
    "train_set = cornac.data.Dataset.from_uir(train.itertuples(index=False), seed=SEED)"
   ]
  },
  {
   "cell_type": "markdown",
   "id": "ed4e5fab",
   "metadata": {},
   "source": [
    "### Train the BPR model\n",
    "`k`와 `max_iter` 파라미터는 훈련 시간에 영향을 준다."
   ]
  },
  {
   "cell_type": "code",
   "execution_count": 8,
   "id": "72f575a1",
   "metadata": {},
   "outputs": [
    {
     "data": {
      "application/vnd.jupyter.widget-view+json": {
       "model_id": "1d1c0155795b4d4d9b138f203bf4268c",
       "version_major": 2,
       "version_minor": 0
      },
      "text/plain": [
       "  0%|          | 0/100 [00:00<?, ?it/s]"
      ]
     },
     "metadata": {},
     "output_type": "display_data"
    },
    {
     "name": "stdout",
     "output_type": "stream",
     "text": [
      "Optimization finished!\n",
      "Took 1.7654 seconds for training.\n"
     ]
    }
   ],
   "source": [
    "bpr = cornac.models.BPR(\n",
    "    k=Num_factors,\n",
    "    max_iter=Num_epochs,\n",
    "    learning_rate=0.01,\n",
    "    lambda_reg=0.001,\n",
    "    verbose=True,\n",
    "    seed=SEED)\n",
    "\n",
    "with Timer() as t:\n",
    "    bpr.fit(train_set)\n",
    "print(\"Took {} seconds for training.\".format(t))"
   ]
  },
  {
   "cell_type": "markdown",
   "id": "9be93463",
   "metadata": {},
   "source": [
    "### Prediction and Evaluation\n",
    "BPR 모델은 아이템 랭킹에 효과적으로 디자인되어있다. 그러므로 랭킹 메트릭을 이용한 성능만 측정한다."
   ]
  },
  {
   "cell_type": "code",
   "execution_count": 10,
   "id": "1095918b",
   "metadata": {},
   "outputs": [
    {
     "name": "stdout",
     "output_type": "stream",
     "text": [
      "Took 0.8041 seconds for prediction.\n"
     ]
    }
   ],
   "source": [
    "with Timer() as t:\n",
    "    all_pred = predict_ranking(bpr, train, usercol='UserId', itemcol='MovieId', remove_seen=True)\n",
    "print(\"Took {} seconds for prediction.\".format(t))"
   ]
  },
  {
   "cell_type": "code",
   "execution_count": 12,
   "id": "ad7b2ae4",
   "metadata": {},
   "outputs": [
    {
     "name": "stdout",
     "output_type": "stream",
     "text": [
      "MAP:\t0.110293\n",
      "NDCG:\t0.407024\n",
      "Precision@K:\t0.359873\n",
      "Recall@K:\t0.183517\n"
     ]
    }
   ],
   "source": [
    "k = 10\n",
    "eval_map = map_at_k(test, all_pred, col_user='UserId', col_item='MovieId', col_rating='Rating', col_prediction='prediction', k=k)\n",
    "eval_ndcg = ndcg_at_k(test, all_pred, col_user='UserId', col_item='MovieId', col_rating='Rating', col_prediction='prediction', k=k)\n",
    "eval_precision = precision_at_k(test, all_pred, col_user='UserId', col_item='MovieId', col_rating='Rating', col_prediction='prediction', k=k)\n",
    "eval_recall = recall_at_k(test, all_pred, col_user='UserId', col_item='MovieId', col_rating='Rating', col_prediction='prediction', k=k)\n",
    "\n",
    "print(\"MAP:\\t%f\" % eval_map,\n",
    "      \"NDCG:\\t%f\" % eval_ndcg,\n",
    "      \"Precision@K:\\t%f\" % eval_precision,\n",
    "      \"Recall@K:\\t%f\" % eval_recall, sep='\\n')\n"
   ]
  },
  {
   "cell_type": "code",
   "execution_count": 13,
   "id": "4837ff1b",
   "metadata": {},
   "outputs": [
    {
     "data": {
      "application/scrapbook.scrap.json+json": {
       "data": 0.11029315461330182,
       "encoder": "json",
       "name": "map",
       "version": 1
      }
     },
     "metadata": {
      "scrapbook": {
       "data": true,
       "display": false,
       "name": "map"
      }
     },
     "output_type": "display_data"
    },
    {
     "data": {
      "application/scrapbook.scrap.json+json": {
       "data": 0.40702447546831894,
       "encoder": "json",
       "name": "ndcg",
       "version": 1
      }
     },
     "metadata": {
      "scrapbook": {
       "data": true,
       "display": false,
       "name": "ndcg"
      }
     },
     "output_type": "display_data"
    },
    {
     "data": {
      "application/scrapbook.scrap.json+json": {
       "data": 0.35987261146496813,
       "encoder": "json",
       "name": "precision",
       "version": 1
      }
     },
     "metadata": {
      "scrapbook": {
       "data": true,
       "display": false,
       "name": "precision"
      }
     },
     "output_type": "display_data"
    },
    {
     "data": {
      "application/scrapbook.scrap.json+json": {
       "data": 0.1835165653287791,
       "encoder": "json",
       "name": "recall",
       "version": 1
      }
     },
     "metadata": {
      "scrapbook": {
       "data": true,
       "display": false,
       "name": "recall"
      }
     },
     "output_type": "display_data"
    }
   ],
   "source": [
    "# Record results with papermill for tests\n",
    "sb.glue(\"map\", eval_map)\n",
    "sb.glue(\"ndcg\", eval_ndcg)\n",
    "sb.glue(\"precision\", eval_precision)\n",
    "sb.glue(\"recall\", eval_recall)"
   ]
  },
  {
   "cell_type": "code",
   "execution_count": null,
   "id": "db332130",
   "metadata": {},
   "outputs": [],
   "source": []
  }
 ],
 "metadata": {
  "kernelspec": {
   "display_name": "ms_rec3713",
   "language": "python",
   "name": "recommender3713"
  },
  "language_info": {
   "codemirror_mode": {
    "name": "ipython",
    "version": 3
   },
   "file_extension": ".py",
   "mimetype": "text/x-python",
   "name": "python",
   "nbconvert_exporter": "python",
   "pygments_lexer": "ipython3",
   "version": "3.7.13"
  }
 },
 "nbformat": 4,
 "nbformat_minor": 5
}
