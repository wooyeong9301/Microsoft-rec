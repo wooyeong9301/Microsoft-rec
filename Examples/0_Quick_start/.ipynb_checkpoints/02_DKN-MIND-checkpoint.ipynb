{
 "cells": [
  {
   "cell_type": "markdown",
   "id": "86c125d3",
   "metadata": {},
   "source": [
    "# DKN : Deep Knowledge-Aware Network for News Recommendation\n",
    "DKN은 더 좋은 뉴스 추천을 위해 지식 그래프의 정보를 통합하는 딥러닝 모델이다. 특히, DKN은 지식 그래프 표현 학습의 방법으로 *TransX*를 사용하고, *KCNN*이라 불리는 CNN 프레임워크를 사용한다. 이를 통해 엔티티 임베딩과 단어 임베딩을 결합하고 뉴스 기사에 대한 최종 임베딩 벡터를 생성한다. attention-based neural scorer를 통해 CTR(Click-Through_Rate) 예측을 만든다.   \n",
    "\n",
    "### Properties of DKN\n",
    "- DKN은 전통적인 ID 기반의 협업 필터링보다는 CTR 예측을 위한 content-based 딥 모델이다.\n",
    "- It makes use of knowledge entities and common sense in news content via joint learning from semantic-level and knowledge-level representations of news articles.\n",
    "- DKN은 attention 모듈을 이용하여 사용자의 집계된 과거 표현을 동적으로 계산한다.\n",
    "\n",
    "### Data format\n",
    "- training / validation / test files : The format is:   \n",
    "`[label] [userid] [CandidateNews]%[impressionid]`   \n",
    "e.g. `1 train_U1 N1%0`   \n",
    "이 파일들의 각 줄은 한 인스턴스를 대변한다. `Impressionid`는 impression 세션에서 퍼포먼스를 평가하기 위해 사용된다. 평가 중에만 사용되며, 훈련 데이터에 대해서는 0으로 세팅한다.   \n",
    "- user history file : The format is:   \n",
    "`[Userid] [newsid1, newsid2, ...]`   \n",
    "이 파일의 각 줄은 유저의 클릭 히스토리를 대변한다. config 파일에서 `history_size` 파라미터 : 유저의 클릭 히스토리로 사용할 최대치를 설정해야 한다. 만약 유저의 클릭 히스토리가 파라미터보다 크면 마지막 수를 자동적으로 유지하고, 클릭 히스토리가 파라미터보다 작으면 자동적으로 0을 패딩한다.   \n",
    "- document feature file : The format is:   \n",
    "`[Newsid] [w1, w2, ..., wk] [e1, e2, ..., ek]`   \n"
   ]
  },
  {
   "cell_type": "code",
   "execution_count": null,
   "id": "656a255f",
   "metadata": {},
   "outputs": [],
   "source": []
  }
 ],
 "metadata": {
  "kernelspec": {
   "display_name": "ms_rec3713",
   "language": "python",
   "name": "recommender3713"
  },
  "language_info": {
   "codemirror_mode": {
    "name": "ipython",
    "version": 3
   },
   "file_extension": ".py",
   "mimetype": "text/x-python",
   "name": "python",
   "nbconvert_exporter": "python",
   "pygments_lexer": "ipython3",
   "version": "3.7.13"
  }
 },
 "nbformat": 4,
 "nbformat_minor": 5
}
