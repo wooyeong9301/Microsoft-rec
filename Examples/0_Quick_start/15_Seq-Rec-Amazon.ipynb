{
 "cells": [
  {
   "cell_type": "markdown",
   "id": "710a2d7d",
   "metadata": {},
   "source": [
    "# Sequential Recommender Quick Start\n",
    "Sequential recommender는 유저 행동의 시퀀스를 문맥처럼 활용하고 유저가 짧은 기간 안에 상호작용할 아이템을 예측하는 것을 목표로 한다.   \n",
    "일반성을 잃지 않고, 이 노트는 `SLi-Rec model`을 예제로 본다. `SLi-Rec model`은 정확한 추천을 위해 장/단기 유저 선호를 모두 사용하는 딥러닝 기반 모델이다. 이 모델의 장점은 다음과 같다.\n",
    "- 장기 모델링을 위해 attentive 'Asymmetric-SVD' 패러다임을 적용한다.\n",
    "- LSTM에서 게이트 로직을 수정함으로써 시간 불규칙성과 의미 불규칙성을 고려한다.\n",
    "- 장기 구성 요소와 단기 구성 요소를 동적으로 결합하기 위해 어텐션 메커니즘을 사용한다."
   ]
  },
  {
   "cell_type": "code",
   "execution_count": 1,
   "id": "8de5af14",
   "metadata": {},
   "outputs": [],
   "source": [
    "import sys\n",
    "import os\n",
    "import logging\n",
    "import papermill as pm\n",
    "import scrapbook as sb\n",
    "from tempfile import TemporaryDirectory\n",
    "import numpy as np\n",
    "import tensorflow.compat.v1 as tf\n",
    "tf.get_logger().setLevel('ERROR') # only show error messages\n",
    "\n",
    "from recommenders.utils.timer import Timer\n",
    "from recommenders.utils.constants import SEED\n",
    "from recommenders.models.deeprec.deeprec_utils import prepare_hparams\n",
    "from recommenders.datasets.amazon_reviews import download_and_extract, data_preprocessing\n",
    "from recommenders.datasets.download_utils import maybe_download\n",
    "from recommenders.models.deeprec.models.sequential.sli_rec import SLI_RECModel as SeqModel\n",
    "####  to use the other model, use one of the following lines:\n",
    "# from recommenders.models.deeprec.models.sequential.asvd import A2SVDModel as SeqModel\n",
    "# from recommenders.models.deeprec.models.sequential.caser import CaserModel as SeqModel\n",
    "# from recommenders.models.deeprec.models.sequential.gru4rec import GRU4RecModel as SeqModel\n",
    "# from recommenders.models.deeprec.models.sequential.sum import SUMModel as SeqModel\n",
    "# from recommenders.models.deeprec.models.sequential.nextitnet import NextItNetModel\n",
    "\n",
    "from recommenders.models.deeprec.io.sequential_iterator import SequentialIterator\n",
    "# from recommenders.models.deeprec.io.nextitnet_iterator import NextItNetIterator"
   ]
  },
  {
   "cell_type": "code",
   "execution_count": 5,
   "id": "cf88f93d",
   "metadata": {},
   "outputs": [],
   "source": [
    "##  ATTENTION: change to the corresponding config file, e.g., caser.yaml for CaserModel, sum.yaml for SUMModel\n",
    "yaml_file = '../../recommenders/models/deeprec/config/sli_rec.yaml'  "
   ]
  },
  {
   "cell_type": "markdown",
   "id": "652a1f09",
   "metadata": {},
   "source": [
    "## Input data format\n",
    "Input data는 8개의 칼럼을 갖고 있다."
   ]
  },
  {
   "cell_type": "markdown",
   "id": "45a7fa1f",
   "metadata": {},
   "source": [
    "## Amazon dataset"
   ]
  },
  {
   "cell_type": "code",
   "execution_count": 2,
   "id": "eab07afe",
   "metadata": {},
   "outputs": [],
   "source": [
    "data_path = os.path.join('..','..','tests','resources','deeprec','slirec')\n",
    "\n",
    "# for test\n",
    "train_file = os.path.join(data_path, r'train_data')\n",
    "valid_file = os.path.join(data_path, r'valid_data')\n",
    "test_file = os.path.join(data_path, r'test_data')\n",
    "user_vocab = os.path.join(data_path, r'user_vocab.pkl')\n",
    "item_vocab = os.path.join(data_path, r'item_vocab.pkl')\n",
    "cate_vocab = os.path.join(data_path, r'category_vocab.pkl')\n",
    "output_file = os.path.join(data_path, r'output.txt')\n",
    "\n",
    "reviews_name = 'reviews_Movies_and_TV_5.json'\n",
    "meta_name = 'meta_Movies_and_TV.json'\n",
    "reviews_file = os.path.join(data_path, reviews_name)\n",
    "meta_file = os.path.join(data_path, meta_name)\n",
    "train_num_ngs = 4 # number of negative instances with a positive instance for training\n",
    "valid_num_ngs = 4 # number of negative instances with a positive instance for validation\n",
    "test_num_ngs = 9 # number of negative instances with a positive instance for testing\n",
    "sample_rate = 0.01 # sample a small item set for training and testing here for fast example\n",
    "\n",
    "input_files = [reviews_file, meta_file, train_file, valid_file, test_file, user_vocab, item_vocab, cate_vocab]\n",
    "\n",
    "if not os.path.exists(train_file):\n",
    "    download_and_extract(reviews_name, reviews_file)\n",
    "    download_and_extract(meta_name, meta_file)\n",
    "    data_preprocessing(*input_files, sample_rate=sample_rate, valid_num_ngs=valid_num_ngs, test_num_ngs=test_num_ngs)\n",
    "    #### uncomment this for the NextItNet model, because it does not need to unfold the user history\n",
    "    # data_preprocessing(*input_files, sample_rate=sample_rate, valid_num_ngs=valid_num_ngs, test_num_ngs=test_num_ngs, is_history_expanding=False)\n"
   ]
  },
  {
   "cell_type": "code",
   "execution_count": 6,
   "id": "b81a577a",
   "metadata": {},
   "outputs": [
    {
     "ename": "FileNotFoundError",
     "evalue": "[Errno 2] No such file or directory: '../../recommenders/models/deeprec/config/sli_rec.yaml'",
     "output_type": "error",
     "traceback": [
      "\u001b[0;31m---------------------------------------------------------------------------\u001b[0m",
      "\u001b[0;31mFileNotFoundError\u001b[0m                         Traceback (most recent call last)",
      "\u001b[0;32m/tmp/ipykernel_108681/854726688.py\u001b[0m in \u001b[0;36m<module>\u001b[0;34m\u001b[0m\n\u001b[1;32m      5\u001b[0m                          \u001b[0muser_vocab\u001b[0m\u001b[0;34m=\u001b[0m\u001b[0muser_vocab\u001b[0m\u001b[0;34m,\u001b[0m \u001b[0mitem_vocab\u001b[0m\u001b[0;34m=\u001b[0m\u001b[0mitem_vocab\u001b[0m\u001b[0;34m,\u001b[0m\u001b[0;34m\u001b[0m\u001b[0;34m\u001b[0m\u001b[0m\n\u001b[1;32m      6\u001b[0m                          \u001b[0mcate_vocab\u001b[0m\u001b[0;34m=\u001b[0m\u001b[0mcate_vocab\u001b[0m\u001b[0;34m,\u001b[0m \u001b[0mneed_sample\u001b[0m\u001b[0;34m=\u001b[0m\u001b[0;32mTrue\u001b[0m\u001b[0;34m,\u001b[0m\u001b[0;34m\u001b[0m\u001b[0;34m\u001b[0m\u001b[0m\n\u001b[0;32m----> 7\u001b[0;31m                          train_num_ngs=train_num_ngs)\n\u001b[0m",
      "\u001b[0;32m~/anaconda3/envs/recommender3713/lib/python3.7/site-packages/recommenders/models/deeprec/deeprec_utils.py\u001b[0m in \u001b[0;36mprepare_hparams\u001b[0;34m(yaml_file, **kwargs)\u001b[0m\n\u001b[1;32m    415\u001b[0m     \"\"\"\n\u001b[1;32m    416\u001b[0m     \u001b[0;32mif\u001b[0m \u001b[0myaml_file\u001b[0m \u001b[0;32mis\u001b[0m \u001b[0;32mnot\u001b[0m \u001b[0;32mNone\u001b[0m\u001b[0;34m:\u001b[0m\u001b[0;34m\u001b[0m\u001b[0;34m\u001b[0m\u001b[0m\n\u001b[0;32m--> 417\u001b[0;31m         \u001b[0mconfig\u001b[0m \u001b[0;34m=\u001b[0m \u001b[0mload_yaml\u001b[0m\u001b[0;34m(\u001b[0m\u001b[0myaml_file\u001b[0m\u001b[0;34m)\u001b[0m\u001b[0;34m\u001b[0m\u001b[0;34m\u001b[0m\u001b[0m\n\u001b[0m\u001b[1;32m    418\u001b[0m         \u001b[0mconfig\u001b[0m \u001b[0;34m=\u001b[0m \u001b[0mflat_config\u001b[0m\u001b[0;34m(\u001b[0m\u001b[0mconfig\u001b[0m\u001b[0;34m)\u001b[0m\u001b[0;34m\u001b[0m\u001b[0;34m\u001b[0m\u001b[0m\n\u001b[1;32m    419\u001b[0m     \u001b[0;32melse\u001b[0m\u001b[0;34m:\u001b[0m\u001b[0;34m\u001b[0m\u001b[0;34m\u001b[0m\u001b[0m\n",
      "\u001b[0;32m~/anaconda3/envs/recommender3713/lib/python3.7/site-packages/recommenders/models/deeprec/deeprec_utils.py\u001b[0m in \u001b[0;36mload_yaml\u001b[0;34m(filename)\u001b[0m\n\u001b[1;32m    294\u001b[0m     \"\"\"\n\u001b[1;32m    295\u001b[0m     \u001b[0;32mtry\u001b[0m\u001b[0;34m:\u001b[0m\u001b[0;34m\u001b[0m\u001b[0;34m\u001b[0m\u001b[0m\n\u001b[0;32m--> 296\u001b[0;31m         \u001b[0;32mwith\u001b[0m \u001b[0mopen\u001b[0m\u001b[0;34m(\u001b[0m\u001b[0mfilename\u001b[0m\u001b[0;34m,\u001b[0m \u001b[0;34m\"r\"\u001b[0m\u001b[0;34m)\u001b[0m \u001b[0;32mas\u001b[0m \u001b[0mf\u001b[0m\u001b[0;34m:\u001b[0m\u001b[0;34m\u001b[0m\u001b[0;34m\u001b[0m\u001b[0m\n\u001b[0m\u001b[1;32m    297\u001b[0m             \u001b[0mconfig\u001b[0m \u001b[0;34m=\u001b[0m \u001b[0myaml\u001b[0m\u001b[0;34m.\u001b[0m\u001b[0mload\u001b[0m\u001b[0;34m(\u001b[0m\u001b[0mf\u001b[0m\u001b[0;34m,\u001b[0m \u001b[0myaml\u001b[0m\u001b[0;34m.\u001b[0m\u001b[0mSafeLoader\u001b[0m\u001b[0;34m)\u001b[0m\u001b[0;34m\u001b[0m\u001b[0;34m\u001b[0m\u001b[0m\n\u001b[1;32m    298\u001b[0m         \u001b[0;32mreturn\u001b[0m \u001b[0mconfig\u001b[0m\u001b[0;34m\u001b[0m\u001b[0;34m\u001b[0m\u001b[0m\n",
      "\u001b[0;31mFileNotFoundError\u001b[0m: [Errno 2] No such file or directory: '../../recommenders/models/deeprec/config/sli_rec.yaml'"
     ]
    }
   ],
   "source": [
    "hparams = prepare_hparams(yaml_file, embed_l2=0., layer_l2=0.,\n",
    "                         learning_rate=0.001, epochs=10, batch_size=400,\n",
    "                         show_step=20, MODEL_DIR=os.path.join(data_path,'model/'),\n",
    "                         SUMMARIES_DIR=os.path.join(data_path, 'summary/'),\n",
    "                         user_vocab=user_vocab, item_vocab=item_vocab,\n",
    "                         cate_vocab=cate_vocab, need_sample=True,\n",
    "                         train_num_ngs=train_num_ngs)\n"
   ]
  },
  {
   "cell_type": "code",
   "execution_count": 4,
   "id": "945f2a76",
   "metadata": {},
   "outputs": [
    {
     "data": {
      "text/plain": [
       "'../../tests/resources/deeprec/slirec'"
      ]
     },
     "execution_count": 4,
     "metadata": {},
     "output_type": "execute_result"
    }
   ],
   "source": [
    "data_path"
   ]
  },
  {
   "cell_type": "code",
   "execution_count": null,
   "id": "7d7b6f6a",
   "metadata": {},
   "outputs": [],
   "source": []
  }
 ],
 "metadata": {
  "kernelspec": {
   "display_name": "ms_rec3713",
   "language": "python",
   "name": "recommender3713"
  },
  "language_info": {
   "codemirror_mode": {
    "name": "ipython",
    "version": 3
   },
   "file_extension": ".py",
   "mimetype": "text/x-python",
   "name": "python",
   "nbconvert_exporter": "python",
   "pygments_lexer": "ipython3",
   "version": "3.7.13"
  }
 },
 "nbformat": 4,
 "nbformat_minor": 5
}
