{
 "cells": [
  {
   "cell_type": "markdown",
   "id": "10df1bb5",
   "metadata": {},
   "source": [
    "# Movie recommender with multinomial RBM(Tensorflow, GPU)\n",
    "Restricted Boltzmann Machine은 비지도 학습을 수행할 때 보통 사용되는 생성적 신경망(Generative Neural Model)입니다. RBM의 주 기능은 결합확률분포 *P(v,h)* 를 배우는 것입니다. 여기서 *v*는 입력데이터를 나타내는 visible units, *h*는 잠재 변수들을 나타내는 hidden units입니다. 결합분포가 학습되면 샘플링을 통해 새로운 예시들이 생성됩니다.   \n",
    "이 notebook은 알고리즘을 사용하고 평가하는 데 필요한 기본적인 방법을 소개하고, `RBM Deep Dive section`에서 더 자세한 내용을 소개합니다.   \n",
    "여기서 사용되는 RBM은 논문에서 사용된 one-hot encoded units 대신 multinomial units를 사용하였습니다."
   ]
  },
  {
   "cell_type": "markdown",
   "id": "cf4a7643",
   "metadata": {},
   "source": [
    "### Advantages of RBM:\n",
    "RBM은 collaborative filtering에 기반한 접근으로 user/item 쌍에 대해 ratings를 생성합니다. Matrix factorization 방법은 user/item 선호도 행렬의 인스턴스를 재현하는 방법을 학습하는 반면, RBM은 근본적인 확률 분포를 학습합니다.\n",
    "- 모델이 새로운 문제에 잘 일반화되어 있습니다.\n",
    "- 추천 작업이 time-stationary일 경우, 새로운 ratings/users에 적용하기 위해 모델을 새로 학습시킬 필요가 없습니다.\n",
    "- 여기서 시행되는 tensorflow 작업은 GPU에서의 빠른 학습이 가능합니다."
   ]
  },
  {
   "cell_type": "code",
   "execution_count": 1,
   "id": "1aafe52d",
   "metadata": {},
   "outputs": [
    {
     "name": "stdout",
     "output_type": "stream",
     "text": [
      "System version: 3.7.13 (default, Mar 29 2022, 02:18:16) \n",
      "[GCC 7.5.0]\n",
      "Pandas version: 1.3.5\n",
      "Tensorflow version: 2.7.3\n"
     ]
    }
   ],
   "source": [
    "import sys\n",
    "import pandas as pd\n",
    "import numpy as np\n",
    "import scrapbook as sb\n",
    "import tensorflow as tf\n",
    "\n",
    "from recommenders.models.rbm.rbm import RBM\n",
    "from recommenders.datasets.python_splitters import numpy_stratified_split\n",
    "from recommenders.datasets.sparse import AffinityMatrix\n",
    "from recommenders.datasets import movielens\n",
    "from recommenders.evaluation.python_evaluation import map_at_k, ndcg_at_k, precision_at_k, recall_at_k\n",
    "from recommenders.utils.timer import Timer\n",
    "from recommenders.utils.plot import line_graph\n",
    "\n",
    "%load_ext autoreload\n",
    "%autoreload 2\n",
    "%matplotlib inline\n",
    "\n",
    "print(\"System version: {}\".format(sys.version))\n",
    "print(\"Pandas version: {}\".format(pd.__version__))\n",
    "print(\"Tensorflow version: {}\".format(tf.__version__))"
   ]
  },
  {
   "cell_type": "markdown",
   "id": "355b62cd",
   "metadata": {},
   "source": [
    "### 1. Load and split the data using the stratified splitter\n",
    "943 users, 1682 movies, 100k ratings\n",
    "이전까지의 지도학습 모델에서는 데이터셋의 특정 비율만큼 training example로 분리하여 train/test matrix가 서로 다른 차원의 row를 가졌습니다. 이 모델에선 두 matrix가 같은 차원의 row를 갖지만, 서로 다른 양의 ratings를 보유합니다. 더 자세한 내용은 deep dive notebook에서 다룹니다.   \n",
    "이 방법은 데이터셋의 sparsness와 user/affinity matrix의 사이즈에 대한 정보도 제공합니다. Sparsness의 경우 unrated elements와 전체 matrix elements 수의 비율로 주어집니다. 그런데 이 sparsness 때문에 추천 작업이 어려워지는데, 이번 작업의 경우 7%의 정보로 93%의 missing data를 예측해야 하기 때문입니다.     \n",
    "`Xtrain`과 `Xtest`는 정확히 같은 차원의 행렬이지만, 명확히 구분되는 서로 다른 항목을 갖고 있음을 기억해야 합니다."
   ]
  },
  {
   "cell_type": "code",
   "execution_count": 2,
   "id": "a25c567e",
   "metadata": {},
   "outputs": [
    {
     "name": "stderr",
     "output_type": "stream",
     "text": [
      "100%|█████████████████████████████████████| 4.81k/4.81k [00:02<00:00, 1.78kKB/s]\n"
     ]
    }
   ],
   "source": [
    "movielens_data_size = '100k'\n",
    "data = movielens.load_pandas_df(size=movielens_data_size,\n",
    "                               header=['userID','movieID','rating','timestamp'])\n",
    "\n",
    "header = {'col_user':'userID', 'col_item':'movieID', 'col_rating':'rating'}\n",
    "am = AffinityMatrix(df = data, **header)\n",
    "X, _, _ = am.gen_affinity_matrix()\n",
    "\n",
    "Xtrain, Xtest = numpy_stratified_split(X)"
   ]
  },
  {
   "cell_type": "markdown",
   "id": "4e8583b2",
   "metadata": {},
   "source": [
    "### 2. Train the RBM model\n",
    "RBM 모델은 TF class로 구현되었습니다. TF는 확률적 모델을 지원하지 않기 때문에, 기존의 유명한 지도학습 모델들에서 봐왔던 것들과 다른 구조로 알고리즘이 시행됩니다. TF 세션이 `fit()`메소드에 숨겨져 있고 외적인 호출이 필요하지 않은 방법으로 시행됩니다.   \n",
    "- Model initialization   \n",
    "TF의 연산 그래프를 어떻게 설계할 지 정하는 과정입니다. Hidden unit의 수, training epoch의 수와 미니배치 사이즈를 특정합니다. 다른 변수들도 더 좋은 성능을 얻기 위해 부가적으로 변경될 수 있습니다. 이는 `RBM Deep Dive Section`에서 자세히 설명됩니다.   \n",
    "- Model fit   \n",
    "모델을 데이터에 훈련시키는 과정입니다. 모델은 오직 training set에만 훈련되어있고, test set은 훈련된 모델의 일반화 정확도를 보여줍니다. 이는 하이퍼 파라미터를 어떻게 조정해야 할지에 대한 아이디어를 제공하기에 유용합니다.   \n",
    "- Model prediction   \n",
    "모델이 본 적 없는 아이템들에 대한 예측을 생성하는 단계입니다. Once the model has been trained and we are satisfied with its overall accuracy, we sample new ratings from the learned distribution. In particular, we extract the top_k (e.g. 10) most relevant recommendations according to some predefined score. The prediction is then returned in a dataframe format ready to be analysed and deployed.   \n",
    "    \n",
    "fit method가 초음 호출됐을 땐 TF가 GPU 세션을 초기화하기 때문에 시간이 좀 더 걸릴 수 있습니다."
   ]
  },
  {
   "cell_type": "code",
   "execution_count": 3,
   "id": "3a458bdc",
   "metadata": {},
   "outputs": [
    {
     "name": "stdout",
     "output_type": "stream",
     "text": [
      "WARNING:tensorflow:From /home/qwer/anaconda3/envs/recommender3713/lib/python3.7/site-packages/recommenders/models/rbm/rbm.py:225: div (from tensorflow.python.ops.math_ops) is deprecated and will be removed in a future version.\n",
      "Instructions for updating:\n",
      "Deprecated in favor of operator or tf.math.divide.\n"
     ]
    },
    {
     "name": "stderr",
     "output_type": "stream",
     "text": [
      "2022-06-23 15:13:19.665246: I tensorflow/stream_executor/cuda/cuda_gpu_executor.cc:939] successful NUMA node read from SysFS had negative value (-1), but there must be at least one NUMA node, so returning NUMA node zero\n",
      "2022-06-23 15:13:19.668989: I tensorflow/stream_executor/cuda/cuda_gpu_executor.cc:939] successful NUMA node read from SysFS had negative value (-1), but there must be at least one NUMA node, so returning NUMA node zero\n",
      "2022-06-23 15:13:19.669222: I tensorflow/stream_executor/cuda/cuda_gpu_executor.cc:939] successful NUMA node read from SysFS had negative value (-1), but there must be at least one NUMA node, so returning NUMA node zero\n",
      "2022-06-23 15:13:19.670146: I tensorflow/core/platform/cpu_feature_guard.cc:151] This TensorFlow binary is optimized with oneAPI Deep Neural Network Library (oneDNN) to use the following CPU instructions in performance-critical operations:  AVX2 AVX512F FMA\n",
      "To enable them in other operations, rebuild TensorFlow with the appropriate compiler flags.\n",
      "2022-06-23 15:13:19.670803: I tensorflow/stream_executor/cuda/cuda_gpu_executor.cc:939] successful NUMA node read from SysFS had negative value (-1), but there must be at least one NUMA node, so returning NUMA node zero\n",
      "2022-06-23 15:13:19.671030: I tensorflow/stream_executor/cuda/cuda_gpu_executor.cc:939] successful NUMA node read from SysFS had negative value (-1), but there must be at least one NUMA node, so returning NUMA node zero\n",
      "2022-06-23 15:13:19.671229: I tensorflow/stream_executor/cuda/cuda_gpu_executor.cc:939] successful NUMA node read from SysFS had negative value (-1), but there must be at least one NUMA node, so returning NUMA node zero\n",
      "2022-06-23 15:13:19.989063: I tensorflow/stream_executor/cuda/cuda_gpu_executor.cc:939] successful NUMA node read from SysFS had negative value (-1), but there must be at least one NUMA node, so returning NUMA node zero\n",
      "2022-06-23 15:13:19.989310: I tensorflow/stream_executor/cuda/cuda_gpu_executor.cc:939] successful NUMA node read from SysFS had negative value (-1), but there must be at least one NUMA node, so returning NUMA node zero\n",
      "2022-06-23 15:13:19.989492: I tensorflow/stream_executor/cuda/cuda_gpu_executor.cc:939] successful NUMA node read from SysFS had negative value (-1), but there must be at least one NUMA node, so returning NUMA node zero\n",
      "2022-06-23 15:13:19.989666: I tensorflow/core/common_runtime/gpu/gpu_device.cc:1525] Created device /job:localhost/replica:0/task:0/device:GPU:0 with 1648 MB memory:  -> device: 0, name: NVIDIA GeForce GTX 1650, pci bus id: 0000:01:00.0, compute capability: 7.5\n",
      "2022-06-23 15:13:20.025737: I tensorflow/stream_executor/cuda/cuda_gpu_executor.cc:939] successful NUMA node read from SysFS had negative value (-1), but there must be at least one NUMA node, so returning NUMA node zero\n",
      "2022-06-23 15:13:20.026022: I tensorflow/stream_executor/cuda/cuda_gpu_executor.cc:939] successful NUMA node read from SysFS had negative value (-1), but there must be at least one NUMA node, so returning NUMA node zero\n",
      "2022-06-23 15:13:20.026228: I tensorflow/stream_executor/cuda/cuda_gpu_executor.cc:939] successful NUMA node read from SysFS had negative value (-1), but there must be at least one NUMA node, so returning NUMA node zero\n",
      "2022-06-23 15:13:20.026458: I tensorflow/stream_executor/cuda/cuda_gpu_executor.cc:939] successful NUMA node read from SysFS had negative value (-1), but there must be at least one NUMA node, so returning NUMA node zero\n",
      "2022-06-23 15:13:20.026661: I tensorflow/stream_executor/cuda/cuda_gpu_executor.cc:939] successful NUMA node read from SysFS had negative value (-1), but there must be at least one NUMA node, so returning NUMA node zero\n",
      "2022-06-23 15:13:20.026835: I tensorflow/core/common_runtime/gpu/gpu_device.cc:1525] Created device /job:localhost/replica:0/task:0/device:GPU:0 with 1648 MB memory:  -> device: 0, name: NVIDIA GeForce GTX 1650, pci bus id: 0000:01:00.0, compute capability: 7.5\n"
     ]
    },
    {
     "name": "stdout",
     "output_type": "stream",
     "text": [
      "Took 1.62 secs for training\n"
     ]
    },
    {
     "data": {
      "image/png": "[encoded data removed]",
      "text/plain": [
       "<Figure size 360x360 with 1 Axes>"
      ]
     },
     "metadata": {
      "needs_background": "light"
     },
     "output_type": "display_data"
    }
   ],
   "source": [
    "import warnings\n",
    "warnings.filterwarnings(action='ignore')\n",
    "\n",
    "model = RBM(possible_ratings=np.setdiff1d(np.unique(Xtrain), np.array([0])),\n",
    "           visible_units=Xtrain.shape[1], hidden_units=600,\n",
    "           training_epoch=30, minibatch_size=60,\n",
    "           keep_prob=0.9, with_metrics=True)\n",
    "\n",
    "with Timer() as train_time:\n",
    "    model.fit(Xtrain)\n",
    "    \n",
    "print(\"Took {:.2f} secs for training\".format(train_time.interval))\n",
    "line_graph(values=model.rmse_train, labels='Train', x_name='Epoch',y_name='Rmse_train')"
   ]
  },
  {
   "cell_type": "code",
   "execution_count": 5,
   "id": "3b81f1ed",
   "metadata": {},
   "outputs": [
    {
     "name": "stderr",
     "output_type": "stream",
     "text": [
      "2022-06-23 13:19:21.792400: I tensorflow/stream_executor/cuda/cuda_gpu_executor.cc:939] successful NUMA node read from SysFS had negative value (-1), but there must be at least one NUMA node, so returning NUMA node zero\n",
      "2022-06-23 13:19:21.792668: I tensorflow/stream_executor/cuda/cuda_gpu_executor.cc:939] successful NUMA node read from SysFS had negative value (-1), but there must be at least one NUMA node, so returning NUMA node zero\n",
      "2022-06-23 13:19:21.792846: I tensorflow/stream_executor/cuda/cuda_gpu_executor.cc:939] successful NUMA node read from SysFS had negative value (-1), but there must be at least one NUMA node, so returning NUMA node zero\n",
      "2022-06-23 13:19:21.793051: I tensorflow/stream_executor/cuda/cuda_gpu_executor.cc:939] successful NUMA node read from SysFS had negative value (-1), but there must be at least one NUMA node, so returning NUMA node zero\n",
      "2022-06-23 13:19:21.793253: I tensorflow/stream_executor/cuda/cuda_gpu_executor.cc:939] successful NUMA node read from SysFS had negative value (-1), but there must be at least one NUMA node, so returning NUMA node zero\n",
      "2022-06-23 13:19:21.793432: I tensorflow/core/common_runtime/gpu/gpu_device.cc:1525] Created device /job:localhost/replica:0/task:0/device:GPU:0 with 1699 MB memory:  -> device: 0, name: NVIDIA GeForce GTX 1650, pci bus id: 0000:01:00.0, compute capability: 7.5\n"
     ]
    },
    {
     "name": "stdout",
     "output_type": "stream",
     "text": [
      "Took 9.85 secs for training\n"
     ]
    },
    {
     "data": {
      "image/png": "[encoded data removed]",
      "text/plain": [
       "<Figure size 360x360 with 1 Axes>"
      ]
     },
     "metadata": {
      "needs_background": "light"
     },
     "output_type": "display_data"
    }
   ],
   "source": [
    "model2 = RBM(possible_ratings=np.setdiff1d(np.unique(Xtrain), np.array([0])),\n",
    "           visible_units=Xtrain.shape[1], hidden_units=600,\n",
    "           training_epoch=300, minibatch_size=60,\n",
    "           keep_prob=0.9, with_metrics=True)\n",
    "\n",
    "with Timer() as train_time:\n",
    "    model2.fit(Xtrain)\n",
    "    \n",
    "print(\"Took {:.2f} secs for training\".format(train_time.interval))\n",
    "line_graph(values=model2.rmse_train, labels='Train', x_name='Epoch',y_name='Rmse_train')"
   ]
  },
  {
   "cell_type": "code",
   "execution_count": 4,
   "id": "0efde497",
   "metadata": {},
   "outputs": [
    {
     "name": "stdout",
     "output_type": "stream",
     "text": [
      "Took 0.13 secs for prediction\n"
     ]
    }
   ],
   "source": [
    "# Predict new ratings on the test set\n",
    "K = 10\n",
    "with Timer() as prediction_time:\n",
    "    top_k = model.recommend_k_items(Xtrain)\n",
    "\n",
    "print('Took {:.2f} secs for prediction'.format(prediction_time.interval))"
   ]
  },
  {
   "cell_type": "code",
   "execution_count": 5,
   "id": "b5984a1f",
   "metadata": {},
   "outputs": [
    {
     "data": {
      "text/html": [
       "<div>\n",
       "<style scoped>\n",
       "    .dataframe tbody tr th:only-of-type {\n",
       "        vertical-align: middle;\n",
       "    }\n",
       "\n",
       "    .dataframe tbody tr th {\n",
       "        vertical-align: top;\n",
       "    }\n",
       "\n",
       "    .dataframe thead th {\n",
       "        text-align: right;\n",
       "    }\n",
       "</style>\n",
       "<table border=\"1\" class=\"dataframe\">\n",
       "  <thead>\n",
       "    <tr style=\"text-align: right;\">\n",
       "      <th></th>\n",
       "      <th>userID</th>\n",
       "      <th>movieID</th>\n",
       "      <th>prediction</th>\n",
       "    </tr>\n",
       "  </thead>\n",
       "  <tbody>\n",
       "    <tr>\n",
       "      <th>0</th>\n",
       "      <td>1</td>\n",
       "      <td>280</td>\n",
       "      <td>4.501705</td>\n",
       "    </tr>\n",
       "    <tr>\n",
       "      <th>1</th>\n",
       "      <td>1</td>\n",
       "      <td>331</td>\n",
       "      <td>4.271675</td>\n",
       "    </tr>\n",
       "    <tr>\n",
       "      <th>2</th>\n",
       "      <td>1</td>\n",
       "      <td>850</td>\n",
       "      <td>4.236463</td>\n",
       "    </tr>\n",
       "    <tr>\n",
       "      <th>3</th>\n",
       "      <td>1</td>\n",
       "      <td>1244</td>\n",
       "      <td>4.422591</td>\n",
       "    </tr>\n",
       "    <tr>\n",
       "      <th>4</th>\n",
       "      <td>1</td>\n",
       "      <td>1347</td>\n",
       "      <td>4.213525</td>\n",
       "    </tr>\n",
       "    <tr>\n",
       "      <th>5</th>\n",
       "      <td>1</td>\n",
       "      <td>1418</td>\n",
       "      <td>4.220323</td>\n",
       "    </tr>\n",
       "    <tr>\n",
       "      <th>6</th>\n",
       "      <td>1</td>\n",
       "      <td>1525</td>\n",
       "      <td>4.364691</td>\n",
       "    </tr>\n",
       "    <tr>\n",
       "      <th>7</th>\n",
       "      <td>1</td>\n",
       "      <td>1581</td>\n",
       "      <td>4.189180</td>\n",
       "    </tr>\n",
       "    <tr>\n",
       "      <th>8</th>\n",
       "      <td>1</td>\n",
       "      <td>1546</td>\n",
       "      <td>4.591193</td>\n",
       "    </tr>\n",
       "    <tr>\n",
       "      <th>9</th>\n",
       "      <td>1</td>\n",
       "      <td>1637</td>\n",
       "      <td>4.189841</td>\n",
       "    </tr>\n",
       "  </tbody>\n",
       "</table>\n",
       "</div>"
      ],
      "text/plain": [
       "   userID  movieID  prediction\n",
       "0       1      280    4.501705\n",
       "1       1      331    4.271675\n",
       "2       1      850    4.236463\n",
       "3       1     1244    4.422591\n",
       "4       1     1347    4.213525\n",
       "5       1     1418    4.220323\n",
       "6       1     1525    4.364691\n",
       "7       1     1581    4.189180\n",
       "8       1     1546    4.591193\n",
       "9       1     1637    4.189841"
      ]
     },
     "execution_count": 5,
     "metadata": {},
     "output_type": "execute_result"
    }
   ],
   "source": [
    "top_k_df = am.map_back_sparse(top_k, kind='prediction')\n",
    "test_df = am.map_back_sparse(Xtest, kind='ratings')\n",
    "top_k_df.head(10)"
   ]
  },
  {
   "cell_type": "markdown",
   "id": "39a093f6",
   "metadata": {},
   "source": [
    "### 3. Evaluation metrics\n"
   ]
  },
  {
   "cell_type": "code",
   "execution_count": 6,
   "id": "7915f24d",
   "metadata": {},
   "outputs": [],
   "source": [
    "def ranking_metrics(data_size, data_true, data_pred, K):\n",
    "    eval_map = map_at_k(data_true, data_pred, col_user=\"userID\", col_item=\"movieID\", \n",
    "                    col_rating=\"rating\", col_prediction=\"prediction\", \n",
    "                    relevancy_method=\"top_k\", k= K)\n",
    "    eval_ndcg = ndcg_at_k(data_true, data_pred, col_user=\"userID\", col_item=\"movieID\", \n",
    "                      col_rating=\"rating\", col_prediction=\"prediction\", \n",
    "                      relevancy_method=\"top_k\", k= K)\n",
    "    eval_precision = precision_at_k(data_true, data_pred, col_user=\"userID\", col_item=\"movieID\", col_rating=\"rating\", col_prediction=\"prediction\", relevancy_method=\"top_k\", k= K)\n",
    "    eval_recall = recall_at_k(data_true, data_pred, col_user=\"userID\", col_item=\"movieID\", \n",
    "                          col_rating=\"rating\", col_prediction=\"prediction\", \n",
    "                          relevancy_method=\"top_k\", k= K)\n",
    "    \n",
    "    \n",
    "    df_result = pd.DataFrame({'Dataset': data_size, 'K': K, 'MAP': eval_map,\n",
    "                             'nDCG@k': eval_ndcg, 'Precision@k': eval_precision,\n",
    "                             'Recall@k': eval_recall}, index=[0])\n",
    "    return df_result"
   ]
  },
  {
   "cell_type": "code",
   "execution_count": 7,
   "id": "050d3464",
   "metadata": {},
   "outputs": [
    {
     "data": {
      "text/html": [
       "<div>\n",
       "<style scoped>\n",
       "    .dataframe tbody tr th:only-of-type {\n",
       "        vertical-align: middle;\n",
       "    }\n",
       "\n",
       "    .dataframe tbody tr th {\n",
       "        vertical-align: top;\n",
       "    }\n",
       "\n",
       "    .dataframe thead th {\n",
       "        text-align: right;\n",
       "    }\n",
       "</style>\n",
       "<table border=\"1\" class=\"dataframe\">\n",
       "  <thead>\n",
       "    <tr style=\"text-align: right;\">\n",
       "      <th></th>\n",
       "      <th>Dataset</th>\n",
       "      <th>K</th>\n",
       "      <th>MAP</th>\n",
       "      <th>nDCG@k</th>\n",
       "      <th>Precision@k</th>\n",
       "      <th>Recall@k</th>\n",
       "    </tr>\n",
       "  </thead>\n",
       "  <tbody>\n",
       "    <tr>\n",
       "      <th>0</th>\n",
       "      <td>mv 100k</td>\n",
       "      <td>10</td>\n",
       "      <td>0.00027</td>\n",
       "      <td>0.00435</td>\n",
       "      <td>0.00456</td>\n",
       "      <td>0.001098</td>\n",
       "    </tr>\n",
       "  </tbody>\n",
       "</table>\n",
       "</div>"
      ],
      "text/plain": [
       "   Dataset   K      MAP   nDCG@k  Precision@k  Recall@k\n",
       "0  mv 100k  10  0.00027  0.00435      0.00456  0.001098"
      ]
     },
     "execution_count": 7,
     "metadata": {},
     "output_type": "execute_result"
    }
   ],
   "source": [
    "eval_100k = ranking_metrics(\n",
    "    data_size=\"mv 100k\",\n",
    "    data_true=test_df,\n",
    "    data_pred=top_k_df,\n",
    "    K=10\n",
    ")\n",
    "\n",
    "eval_100k"
   ]
  },
  {
   "cell_type": "code",
   "execution_count": 8,
   "id": "42e9ce21",
   "metadata": {},
   "outputs": [
    {
     "data": {
      "application/scrapbook.scrap.json+json": {
       "data": 0.00027032170663886387,
       "encoder": "json",
       "name": "map",
       "version": 1
      }
     },
     "metadata": {
      "scrapbook": {
       "data": true,
       "display": false,
       "name": "map"
      }
     },
     "output_type": "display_data"
    },
    {
     "data": {
      "application/scrapbook.scrap.json+json": {
       "data": 0.00435045325548314,
       "encoder": "json",
       "name": "ndcg",
       "version": 1
      }
     },
     "metadata": {
      "scrapbook": {
       "data": true,
       "display": false,
       "name": "ndcg"
      }
     },
     "output_type": "display_data"
    },
    {
     "data": {
      "application/scrapbook.scrap.json+json": {
       "data": 0.0045599151643690335,
       "encoder": "json",
       "name": "precision",
       "version": 1
      }
     },
     "metadata": {
      "scrapbook": {
       "data": true,
       "display": false,
       "name": "precision"
      }
     },
     "output_type": "display_data"
    },
    {
     "data": {
      "application/scrapbook.scrap.json+json": {
       "data": 0.001097528815849227,
       "encoder": "json",
       "name": "recall",
       "version": 1
      }
     },
     "metadata": {
      "scrapbook": {
       "data": true,
       "display": false,
       "name": "recall"
      }
     },
     "output_type": "display_data"
    }
   ],
   "source": [
    "sb.glue(\"map\", eval_100k['MAP'][0])\n",
    "sb.glue(\"ndcg\", eval_100k['nDCG@k'][0])\n",
    "sb.glue(\"precision\", eval_100k['Precision@k'][0])\n",
    "sb.glue(\"recall\", eval_100k['Recall@k'][0])"
   ]
  },
  {
   "cell_type": "markdown",
   "id": "19e7ad39",
   "metadata": {},
   "source": [
    "### 4. Saving the model and Loading a pre-trained model"
   ]
  },
  {
   "cell_type": "code",
   "execution_count": 9,
   "id": "b7fa49b2",
   "metadata": {},
   "outputs": [
    {
     "name": "stdout",
     "output_type": "stream",
     "text": [
      "INFO:tensorflow:Restoring parameters from models/rbm_model.ckpt\n"
     ]
    },
    {
     "name": "stderr",
     "output_type": "stream",
     "text": [
      "2022-06-23 15:15:03.691219: I tensorflow/stream_executor/cuda/cuda_gpu_executor.cc:939] successful NUMA node read from SysFS had negative value (-1), but there must be at least one NUMA node, so returning NUMA node zero\n",
      "2022-06-23 15:15:03.691437: I tensorflow/stream_executor/cuda/cuda_gpu_executor.cc:939] successful NUMA node read from SysFS had negative value (-1), but there must be at least one NUMA node, so returning NUMA node zero\n",
      "2022-06-23 15:15:03.691574: I tensorflow/stream_executor/cuda/cuda_gpu_executor.cc:939] successful NUMA node read from SysFS had negative value (-1), but there must be at least one NUMA node, so returning NUMA node zero\n",
      "2022-06-23 15:15:03.691740: I tensorflow/stream_executor/cuda/cuda_gpu_executor.cc:939] successful NUMA node read from SysFS had negative value (-1), but there must be at least one NUMA node, so returning NUMA node zero\n",
      "2022-06-23 15:15:03.691873: I tensorflow/stream_executor/cuda/cuda_gpu_executor.cc:939] successful NUMA node read from SysFS had negative value (-1), but there must be at least one NUMA node, so returning NUMA node zero\n",
      "2022-06-23 15:15:03.691984: I tensorflow/core/common_runtime/gpu/gpu_device.cc:1525] Created device /job:localhost/replica:0/task:0/device:GPU:0 with 1648 MB memory:  -> device: 0, name: NVIDIA GeForce GTX 1650, pci bus id: 0000:01:00.0, compute capability: 7.5\n"
     ]
    }
   ],
   "source": [
    "model.save(file_path='./models/rbm_model.ckpt')\n",
    "# Initialize the model class\n",
    "model = RBM(\n",
    "    possible_ratings=np.setdiff1d(np.unique(Xtrain), np.array([0])),\n",
    "    visible_units=Xtrain.shape[1],\n",
    "    hidden_units=600,\n",
    "    training_epoch=30,\n",
    "    minibatch_size=60,\n",
    "    keep_prob=0.9,\n",
    "    with_metrics=True\n",
    ")\n",
    "\n",
    "# Load the model checkpoint\n",
    "model.load(file_path='./models/rbm_model.ckpt')"
   ]
  },
  {
   "cell_type": "code",
   "execution_count": null,
   "id": "e5c8d53b",
   "metadata": {},
   "outputs": [],
   "source": []
  }
 ],
 "metadata": {
  "kernelspec": {
   "display_name": "ms_rec3713",
   "language": "python",
   "name": "recommender3713"
  },
  "language_info": {
   "codemirror_mode": {
    "name": "ipython",
    "version": 3
   },
   "file_extension": ".py",
   "mimetype": "text/x-python",
   "name": "python",
   "nbconvert_exporter": "python",
   "pygments_lexer": "ipython3",
   "version": "3.7.13"
  }
 },
 "nbformat": 4,
 "nbformat_minor": 5
}
