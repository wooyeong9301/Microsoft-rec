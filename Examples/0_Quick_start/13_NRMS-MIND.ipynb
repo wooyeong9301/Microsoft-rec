{
 "cells": [
  {
   "cell_type": "markdown",
   "id": "0641c870",
   "metadata": {},
   "source": [
    "# NRMS : Neural News Recommendation with Multi-Head Self-Attention\n",
    "Content-based neural 뉴스 추천   \n",
    "뉴스 인코더는 multi-head self-attention을 이용해 단어들 사이의 상호작용을 모델링함으로써 뉴스 제목으로부터 뉴스를 표현하는 방법을 학습한다. 유저 인코더는 learn representations of users from their browsed news and use multihead self-attention to capture the relatedness between the news. 또한, 추가적인 어텐션을 적용하여 to learn more informative news and user representations by selecting important words and news."
   ]
  },
  {
   "cell_type": "code",
   "execution_count": 1,
   "id": "e144258b",
   "metadata": {},
   "outputs": [
    {
     "name": "stdout",
     "output_type": "stream",
     "text": [
      "System version: 3.7.13 (default, Mar 29 2022, 02:18:16) \n",
      "[GCC 7.5.0]\n",
      "Tensorflow version: 2.7.3\n"
     ]
    }
   ],
   "source": [
    "import sys\n",
    "import os\n",
    "import numpy as np\n",
    "import zipfile\n",
    "from tqdm import tqdm\n",
    "import scrapbook as sb\n",
    "from tempfile import TemporaryDirectory\n",
    "import tensorflow as tf\n",
    "tf.get_logger().setLevel('ERROR') # only show error messages\n",
    "\n",
    "from recommenders.models.deeprec.deeprec_utils import download_deeprec_resources \n",
    "from recommenders.models.newsrec.newsrec_utils import prepare_hparams\n",
    "from recommenders.models.newsrec.models.nrms import NRMSModel\n",
    "from recommenders.models.newsrec.io.mind_iterator import MINDIterator\n",
    "from recommenders.models.newsrec.newsrec_utils import get_mind_data_set\n",
    "\n",
    "print(\"System version: {}\".format(sys.version))\n",
    "print(\"Tensorflow version: {}\".format(tf.__version__))"
   ]
  },
  {
   "cell_type": "code",
   "execution_count": 2,
   "id": "d443f156",
   "metadata": {},
   "outputs": [
    {
     "name": "stderr",
     "output_type": "stream",
     "text": [
      "100%|█████████████████████████████████████| 17.0k/17.0k [00:10<00:00, 1.57kKB/s]\n",
      "100%|█████████████████████████████████████| 9.84k/9.84k [00:05<00:00, 1.71kKB/s]\n",
      "100%|█████████████████████████████████████| 95.0k/95.0k [00:30<00:00, 3.16kKB/s]\n"
     ]
    }
   ],
   "source": [
    "epochs = 5\n",
    "seed = 42\n",
    "batch_size = 32\n",
    "MIND_type = 'demo'\n",
    "\n",
    "\n",
    "tmpdir = TemporaryDirectory()\n",
    "data_path = tmpdir.name\n",
    "\n",
    "train_news_file = os.path.join(data_path, 'train', r'news.tsv')\n",
    "train_behaviors_file = os.path.join(data_path, 'train', r'behaviors.tsv')\n",
    "valid_news_file = os.path.join(data_path, 'valid', r'news.tsv')\n",
    "valid_behaviors_file = os.path.join(data_path, 'valid', r'behaviors.tsv')\n",
    "wordEmb_file = os.path.join(data_path, \"utils\", \"embedding.npy\")\n",
    "userDict_file = os.path.join(data_path, \"utils\", \"uid2index.pkl\")\n",
    "wordDict_file = os.path.join(data_path, \"utils\", \"word_dict.pkl\")\n",
    "yaml_file = os.path.join(data_path, \"utils\", r'nrms.yaml')\n",
    "\n",
    "mind_url, mind_train_dataset, mind_dev_dataset, mind_utils = get_mind_data_set(MIND_type)\n",
    "\n",
    "if not os.path.exists(train_news_file):\n",
    "    download_deeprec_resources(mind_url, os.path.join(data_path, 'train'), mind_train_dataset)\n",
    "    \n",
    "if not os.path.exists(valid_news_file):\n",
    "    download_deeprec_resources(mind_url, \\\n",
    "                               os.path.join(data_path, 'valid'), mind_dev_dataset)\n",
    "if not os.path.exists(yaml_file):\n",
    "    download_deeprec_resources(r'https://recodatasets.z20.web.core.windows.net/newsrec/', \\\n",
    "                               os.path.join(data_path, 'utils'), mind_utils)\n",
    "\n",
    "\n",
    "hparams = prepare_hparams(yaml_file, \n",
    "                          wordEmb_file=wordEmb_file,\n",
    "                          wordDict_file=wordDict_file, \n",
    "                          userDict_file=userDict_file,\n",
    "                          batch_size=batch_size,\n",
    "                          epochs=epochs,\n",
    "                          show_step=10)"
   ]
  },
  {
   "cell_type": "code",
   "execution_count": 3,
   "id": "9954a03c",
   "metadata": {},
   "outputs": [
    {
     "name": "stderr",
     "output_type": "stream",
     "text": [
      "2022-07-12 13:15:42.170547: I tensorflow/core/platform/cpu_feature_guard.cc:151] This TensorFlow binary is optimized with oneAPI Deep Neural Network Library (oneDNN) to use the following CPU instructions in performance-critical operations:  AVX2 AVX512F FMA\n",
      "To enable them in other operations, rebuild TensorFlow with the appropriate compiler flags.\n",
      "2022-07-12 13:15:42.238950: I tensorflow/stream_executor/cuda/cuda_gpu_executor.cc:939] successful NUMA node read from SysFS had negative value (-1), but there must be at least one NUMA node, so returning NUMA node zero\n",
      "2022-07-12 13:15:42.259847: I tensorflow/stream_executor/cuda/cuda_gpu_executor.cc:939] successful NUMA node read from SysFS had negative value (-1), but there must be at least one NUMA node, so returning NUMA node zero\n",
      "2022-07-12 13:15:42.260146: I tensorflow/stream_executor/cuda/cuda_gpu_executor.cc:939] successful NUMA node read from SysFS had negative value (-1), but there must be at least one NUMA node, so returning NUMA node zero\n",
      "2022-07-12 13:15:42.820956: I tensorflow/stream_executor/cuda/cuda_gpu_executor.cc:939] successful NUMA node read from SysFS had negative value (-1), but there must be at least one NUMA node, so returning NUMA node zero\n",
      "2022-07-12 13:15:42.821260: I tensorflow/stream_executor/cuda/cuda_gpu_executor.cc:939] successful NUMA node read from SysFS had negative value (-1), but there must be at least one NUMA node, so returning NUMA node zero\n",
      "2022-07-12 13:15:42.821482: I tensorflow/stream_executor/cuda/cuda_gpu_executor.cc:939] successful NUMA node read from SysFS had negative value (-1), but there must be at least one NUMA node, so returning NUMA node zero\n",
      "2022-07-12 13:15:42.821802: I tensorflow/core/common_runtime/gpu/gpu_device.cc:1525] Created device /job:localhost/replica:0/task:0/device:GPU:0 with 1884 MB memory:  -> device: 0, name: NVIDIA GeForce GTX 1650, pci bus id: 0000:01:00.0, compute capability: 7.5\n",
      "2022-07-12 13:15:43.131661: I tensorflow/stream_executor/cuda/cuda_gpu_executor.cc:939] successful NUMA node read from SysFS had negative value (-1), but there must be at least one NUMA node, so returning NUMA node zero\n",
      "2022-07-12 13:15:43.131976: I tensorflow/stream_executor/cuda/cuda_gpu_executor.cc:939] successful NUMA node read from SysFS had negative value (-1), but there must be at least one NUMA node, so returning NUMA node zero\n",
      "2022-07-12 13:15:43.132198: I tensorflow/stream_executor/cuda/cuda_gpu_executor.cc:939] successful NUMA node read from SysFS had negative value (-1), but there must be at least one NUMA node, so returning NUMA node zero\n",
      "/home/qwer/anaconda3/envs/recommender3713/lib/python3.7/site-packages/keras/optimizer_v2/adam.py:105: UserWarning: The `lr` argument is deprecated, use `learning_rate` instead.\n",
      "  super(Adam, self).__init__(name, **kwargs)\n",
      "0it [00:00, ?it/s]/home/qwer/anaconda3/envs/recommender3713/lib/python3.7/site-packages/keras/engine/training_v1.py:2079: UserWarning: `Model.state_updates` will be removed in a future version. This property should not be used in TensorFlow 2.0, as `updates` are applied automatically.\n",
      "  updates=self.state_updates,\n",
      "586it [00:01, 309.81it/s]\n",
      "236it [00:14, 16.60it/s]\n",
      "7538it [00:00, 10135.40it/s]\n"
     ]
    },
    {
     "name": "stdout",
     "output_type": "stream",
     "text": [
      "{'group_auc': 0.4792, 'mean_mrr': 0.2059, 'ndcg@5': 0.2045, 'ndcg@10': 0.2701}\n"
     ]
    }
   ],
   "source": [
    "iterator = MINDIterator\n",
    "model = NRMSModel(hparams, iterator, seed=seed)\n",
    "print(model.run_eval(valid_news_file, valid_behaviors_file))"
   ]
  },
  {
   "cell_type": "code",
   "execution_count": 4,
   "id": "add1350e",
   "metadata": {},
   "outputs": [
    {
     "name": "stderr",
     "output_type": "stream",
     "text": [
      "step 1080 , total_loss: 1.5135, data_loss: 1.3306: : 1086it [04:16,  4.23it/s]\n",
      "586it [00:00, 721.66it/s]\n",
      "236it [00:13, 17.59it/s]\n",
      "7538it [00:00, 9550.49it/s] \n"
     ]
    },
    {
     "name": "stdout",
     "output_type": "stream",
     "text": [
      "at epoch 1\n",
      "train info: logloss loss:1.513202964381399\n",
      "eval info: group_auc:0.5759, mean_mrr:0.2437, ndcg@10:0.3293, ndcg@5:0.2583\n",
      "at epoch 1 , train time: 256.6 eval time: 18.3\n"
     ]
    },
    {
     "name": "stderr",
     "output_type": "stream",
     "text": [
      "step 1080 , total_loss: 1.4181, data_loss: 1.3042: : 1086it [04:08,  4.37it/s]\n",
      "586it [00:00, 725.25it/s]\n",
      "236it [00:13, 17.88it/s]\n",
      "7538it [00:00, 14322.72it/s]\n"
     ]
    },
    {
     "name": "stdout",
     "output_type": "stream",
     "text": [
      "at epoch 2\n",
      "train info: logloss loss:1.4183067778197442\n",
      "eval info: group_auc:0.5988, mean_mrr:0.256, ndcg@10:0.3457, ndcg@5:0.2721\n",
      "at epoch 2 , train time: 248.6 eval time: 17.8\n"
     ]
    },
    {
     "name": "stderr",
     "output_type": "stream",
     "text": [
      "step 1080 , total_loss: 1.3771, data_loss: 1.2525: : 1086it [04:15,  4.25it/s]\n",
      "586it [00:00, 716.03it/s]\n",
      "236it [00:13, 17.71it/s]\n",
      "7538it [00:00, 15577.07it/s]\n"
     ]
    },
    {
     "name": "stdout",
     "output_type": "stream",
     "text": [
      "at epoch 3\n",
      "train info: logloss loss:1.3768836972243659\n",
      "eval info: group_auc:0.6085, mean_mrr:0.2647, ndcg@10:0.3569, ndcg@5:0.2852\n",
      "at epoch 3 , train time: 255.4 eval time: 17.9\n"
     ]
    },
    {
     "name": "stderr",
     "output_type": "stream",
     "text": [
      "step 1080 , total_loss: 1.3473, data_loss: 1.3042: : 1086it [04:07,  4.39it/s]\n",
      "586it [00:00, 713.12it/s]\n",
      "236it [00:13, 17.75it/s]\n",
      "7538it [00:00, 14477.06it/s]\n"
     ]
    },
    {
     "name": "stdout",
     "output_type": "stream",
     "text": [
      "at epoch 4\n",
      "train info: logloss loss:1.3474418966590151\n",
      "eval info: group_auc:0.6129, mean_mrr:0.2704, ndcg@10:0.3624, ndcg@5:0.292\n",
      "at epoch 4 , train time: 247.5 eval time: 17.9\n"
     ]
    },
    {
     "name": "stderr",
     "output_type": "stream",
     "text": [
      "step 1080 , total_loss: 1.3284, data_loss: 1.3910: : 1086it [04:07,  4.39it/s]\n",
      "586it [00:00, 715.88it/s]\n",
      "236it [00:13, 17.54it/s]\n",
      "7538it [00:00, 14298.11it/s]\n"
     ]
    },
    {
     "name": "stdout",
     "output_type": "stream",
     "text": [
      "at epoch 5\n",
      "train info: logloss loss:1.3284732866243323\n",
      "eval info: group_auc:0.6122, mean_mrr:0.2677, ndcg@10:0.3609, ndcg@5:0.2882\n",
      "at epoch 5 , train time: 247.3 eval time: 18.1\n",
      "CPU times: user 11min 4s, sys: 36.4 s, total: 11min 40s\n",
      "Wall time: 22min 25s\n"
     ]
    },
    {
     "data": {
      "text/plain": [
       "<recommenders.models.newsrec.models.nrms.NRMSModel at 0x7fbabd166890>"
      ]
     },
     "execution_count": 4,
     "metadata": {},
     "output_type": "execute_result"
    }
   ],
   "source": [
    "%%time\n",
    "model.fit(train_news_file, train_behaviors_file, valid_news_file, valid_behaviors_file)"
   ]
  },
  {
   "cell_type": "code",
   "execution_count": 5,
   "id": "8a989232",
   "metadata": {},
   "outputs": [
    {
     "name": "stderr",
     "output_type": "stream",
     "text": [
      "586it [00:00, 677.62it/s]\n",
      "236it [00:13, 17.79it/s]\n",
      "7538it [00:00, 15162.45it/s]\n"
     ]
    },
    {
     "name": "stdout",
     "output_type": "stream",
     "text": [
      "{'group_auc': 0.6122, 'mean_mrr': 0.2677, 'ndcg@5': 0.2882, 'ndcg@10': 0.3609}\n"
     ]
    }
   ],
   "source": [
    "res_syn = model.run_eval(valid_news_file, valid_behaviors_file)\n",
    "print(res_syn)"
   ]
  },
  {
   "cell_type": "code",
   "execution_count": 6,
   "id": "9f78ceab",
   "metadata": {},
   "outputs": [
    {
     "data": {
      "application/scrapbook.scrap.json+json": {
       "data": {
        "group_auc": 0.6122,
        "mean_mrr": 0.2677,
        "ndcg@10": 0.3609,
        "ndcg@5": 0.2882
       },
       "encoder": "json",
       "name": "res_syn",
       "version": 1
      }
     },
     "metadata": {
      "scrapbook": {
       "data": true,
       "display": false,
       "name": "res_syn"
      }
     },
     "output_type": "display_data"
    }
   ],
   "source": [
    "sb.glue('res_syn', res_syn)"
   ]
  },
  {
   "cell_type": "code",
   "execution_count": 7,
   "id": "93966ef5",
   "metadata": {},
   "outputs": [],
   "source": [
    "model_path = os.path.join(data_path, 'model')\n",
    "os.makedirs(model_path, exist_ok=True)\n",
    "model.model.save_weights(os.path.join(model_path, 'nrms_ckpt'))"
   ]
  },
  {
   "cell_type": "code",
   "execution_count": 8,
   "id": "dd171a2a",
   "metadata": {},
   "outputs": [
    {
     "name": "stderr",
     "output_type": "stream",
     "text": [
      "586it [00:00, 664.88it/s]\n",
      "236it [00:13, 17.86it/s]\n",
      "7538it [00:00, 14020.33it/s]\n",
      "7538it [00:00, 63168.14it/s]\n"
     ]
    }
   ],
   "source": [
    "group_impr_indexes, group_labels, group_preds = model.run_fast_eval(valid_news_file, valid_behaviors_file)\n",
    "\n",
    "with open(os.path.join(data_path, 'prediction.txt'), 'w') as f:\n",
    "    for impr_index, preds in tqdm(zip(group_impr_indexes, group_preds)):\n",
    "        impr_index += 1\n",
    "        pred_rank = (np.argsort(np.argsort(preds)[::-1]) + 1).tolist()\n",
    "        pred_rank = '[' + ','.join([str(i) for i in pred_rank]) + ']'\n",
    "        f.write(' '.join([str(impr_index), pred_rank])+ '\\n')\n",
    "\n",
    "f = zipfile.ZipFile(os.path.join(data_path, 'prediction.zip'), 'w', zipfile.ZIP_DEFLATED)\n",
    "f.write(os.path.join(data_path, 'prediction.txt'), arcname='prediction.txt')\n",
    "f.close()\n"
   ]
  },
  {
   "cell_type": "code",
   "execution_count": null,
   "id": "731fbacf",
   "metadata": {},
   "outputs": [],
   "source": []
  }
 ],
 "metadata": {
  "kernelspec": {
   "display_name": "ms_rec3713",
   "language": "python",
   "name": "recommender3713"
  },
  "language_info": {
   "codemirror_mode": {
    "name": "ipython",
    "version": 3
   },
   "file_extension": ".py",
   "mimetype": "text/x-python",
   "name": "python",
   "nbconvert_exporter": "python",
   "pygments_lexer": "ipython3",
   "version": "3.7.13"
  }
 },
 "nbformat": 4,
 "nbformat_minor": 5
}
