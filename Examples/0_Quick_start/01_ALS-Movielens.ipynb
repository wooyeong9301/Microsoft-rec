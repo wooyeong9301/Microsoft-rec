{
 "cells": [
  {
   "cell_type": "markdown",
   "id": "37ea10fb",
   "metadata": {},
   "source": [
    "# Running ALS on MovieLens (PySpark)\n",
    "**ALS**(Alternating Least Squares)에 의한 Matrix factorization은 잘 알려진 collaborative filtering 알고리즘이다.   \n",
    "이 노트에선 광범위하게 분산된 데이터셋에 대해 ALS PySpark ML을 어떻게 활용하고 평가하는지에 대한 예제를 제시한다. 이 예제에선 *Data Science Virtual Machine*의 멀티코어에서 ALS를 효과적으로 실행하기 위해 작은 데이터셋을 사용한다.   \n",
    "*Note : This notebook requires a PySpark environment to run properly.*"
   ]
  },
  {
   "cell_type": "markdown",
   "id": "49d6ce56",
   "metadata": {},
   "source": [
    "### Set the environment path to find Recommenders"
   ]
  },
  {
   "cell_type": "code",
   "execution_count": 3,
   "id": "b4bfcb23",
   "metadata": {},
   "outputs": [
    {
     "name": "stdout",
     "output_type": "stream",
     "text": [
      "System version : 3.7.13 (default, Mar 29 2022, 02:18:16) \n",
      "[GCC 7.5.0]\n",
      "Spark version : 3.2.1\n"
     ]
    }
   ],
   "source": [
    "import sys, pyspark, warnings\n",
    "warnings.simplefilter('ignore', category=FutureWarning)\n",
    "import pyspark.sql.functions as F\n",
    "from pyspark.ml.recommendation import ALS\n",
    "from pyspark.sql import SparkSession\n",
    "from pyspark.sql.types import StructType, StructField\n",
    "from pyspark.sql.types import StringType, FloatType, IntegerType, LongType\n",
    "from recommenders.utils.timer import Timer\n",
    "from recommenders.utils.notebook_utils import is_jupyter\n",
    "from recommenders.utils.spark_utils import start_or_get_spark\n",
    "from recommenders.datasets import movielens\n",
    "from recommenders.datasets.spark_splitters import spark_random_split\n",
    "from recommenders.evaluation.spark_evaluation import SparkRatingEvaluation, SparkRankingEvaluation\n",
    "\n",
    "print('System version : {}'.format(sys.version))\n",
    "print('Spark version : {}'.format(pyspark.__version__))"
   ]
  },
  {
   "cell_type": "markdown",
   "id": "942af377",
   "metadata": {},
   "source": [
    "### Set the default parameters"
   ]
  },
  {
   "cell_type": "code",
   "execution_count": 4,
   "id": "7039b2a5",
   "metadata": {},
   "outputs": [],
   "source": [
    "# Top_k = 추천할 상위 아이템 수\n",
    "Top_k = 10\n",
    "\n",
    "# Select MovieLens data size : 100k, 1m, 10m or 20m\n",
    "Movielens_Data_Size = '100k'\n",
    "\n",
    "# Column names for the dataset\n",
    "Col_User = 'UserId'\n",
    "Col_Item = 'MovieId'\n",
    "Col_Rating = 'Rating'\n",
    "Col_Timestamp = 'Timestamp'\n"
   ]
  },
  {
   "cell_type": "markdown",
   "id": "9089c1b8",
   "metadata": {},
   "source": [
    "### 0. Set up Spark context\n",
    "The following settings work well for debugging locally on VM - change when running on a cluster. This notebook sets up a giant single executor with many threads and specify memory cap."
   ]
  },
  {
   "cell_type": "code",
   "execution_count": 5,
   "id": "26bd36ae",
   "metadata": {},
   "outputs": [
    {
     "name": "stderr",
     "output_type": "stream",
     "text": [
      "22/06/08 14:03:18 WARN Utils: Your hostname, qwer-ND resolves to a loopback address: 127.0.1.1; using 10.140.50.75 instead (on interface enp3s0)\n",
      "22/06/08 14:03:18 WARN Utils: Set SPARK_LOCAL_IP if you need to bind to another address\n",
      "WARNING: An illegal reflective access operation has occurred\n",
      "WARNING: Illegal reflective access by org.apache.spark.unsafe.Platform (file:/home/qwer/anaconda3/envs/recommender3713/lib/python3.7/site-packages/pyspark/jars/spark-unsafe_2.12-3.2.1.jar) to constructor java.nio.DirectByteBuffer(long,int)\n",
      "WARNING: Please consider reporting this to the maintainers of org.apache.spark.unsafe.Platform\n",
      "WARNING: Use --illegal-access=warn to enable warnings of further illegal reflective access operations\n",
      "WARNING: All illegal access operations will be denied in a future release\n",
      "Using Spark's default log4j profile: org/apache/spark/log4j-defaults.properties\n",
      "Setting default log level to \"WARN\".\n",
      "To adjust logging level use sc.setLogLevel(newLevel). For SparkR, use setLogLevel(newLevel).\n",
      "22/06/08 14:03:18 WARN NativeCodeLoader: Unable to load native-hadoop library for your platform... using builtin-java classes where applicable\n"
     ]
    }
   ],
   "source": [
    "spark = start_or_get_spark('ALS PySpark', memory='16g')\n",
    "spark.conf.set('spark.sql.analyzer.failAmbiguousSelfJoin', 'false')"
   ]
  },
  {
   "cell_type": "markdown",
   "id": "e34f8d7d",
   "metadata": {},
   "source": [
    "### 1. Download the MovieLens dataset"
   ]
  },
  {
   "cell_type": "code",
   "execution_count": 6,
   "id": "ac76d27c",
   "metadata": {
    "collapsed": true
   },
   "outputs": [
    {
     "name": "stderr",
     "output_type": "stream",
     "text": [
      "100%|█████████████████████████████████████| 4.81k/4.81k [00:02<00:00, 2.04kKB/s]\n"
     ]
    },
    {
     "name": "stdout",
     "output_type": "stream",
     "text": [
      "+------+-------+------+---------+\n",
      "|UserId|MovieId|Rating|Timestamp|\n",
      "+------+-------+------+---------+\n",
      "|   196|    242|   3.0|881250949|\n",
      "|   186|    302|   3.0|891717742|\n",
      "|    22|    377|   1.0|878887116|\n",
      "|   244|     51|   2.0|880606923|\n",
      "|   166|    346|   1.0|886397596|\n",
      "|   298|    474|   4.0|884182806|\n",
      "|   115|    265|   2.0|881171488|\n",
      "|   253|    465|   5.0|891628467|\n",
      "|   305|    451|   3.0|886324817|\n",
      "|     6|     86|   3.0|883603013|\n",
      "|    62|    257|   2.0|879372434|\n",
      "|   286|   1014|   5.0|879781125|\n",
      "|   200|    222|   5.0|876042340|\n",
      "|   210|     40|   3.0|891035994|\n",
      "|   224|     29|   3.0|888104457|\n",
      "|   303|    785|   3.0|879485318|\n",
      "|   122|    387|   5.0|879270459|\n",
      "|   194|    274|   2.0|879539794|\n",
      "|   291|   1042|   4.0|874834944|\n",
      "|   234|   1184|   2.0|892079237|\n",
      "+------+-------+------+---------+\n",
      "only showing top 20 rows\n",
      "\n"
     ]
    }
   ],
   "source": [
    "# The DataFrame-based API for ALS only supports integers for user and item ids.\n",
    "schema = StructType((StructField(Col_User, IntegerType()),\n",
    "                    StructField(Col_Item, IntegerType()),\n",
    "                    StructField(Col_Rating, FloatType()),\n",
    "                    StructField(Col_Timestamp, LongType())\n",
    "                    ))\n",
    "data = movielens.load_spark_df(spark, size=Movielens_Data_Size, schema=schema)\n",
    "data.show()\n"
   ]
  },
  {
   "cell_type": "markdown",
   "id": "ab153617",
   "metadata": {},
   "source": [
    "### 2. Split the data using the Spark random splitter provided in utilities"
   ]
  },
  {
   "cell_type": "code",
   "execution_count": 7,
   "id": "75c911d7",
   "metadata": {},
   "outputs": [
    {
     "name": "stdout",
     "output_type": "stream",
     "text": [
      "N train 74920\n",
      "N test 25080\n"
     ]
    }
   ],
   "source": [
    "train, test = spark_random_split(data, ratio=0.75, seed=27)\n",
    "print('N train', train.cache().count())\n",
    "print('N test', test.cache().count())"
   ]
  },
  {
   "cell_type": "markdown",
   "id": "2f3ba3a7",
   "metadata": {},
   "source": [
    "`spark_random_split` ~ `data.randomSplit` & `process_split_ratio`\n",
    "https://microsoft-recommenders.readthedocs.io/en/latest/_modules/recommenders/datasets/spark_splitters.html?highlight=spark_random_split"
   ]
  },
  {
   "cell_type": "markdown",
   "id": "25119045",
   "metadata": {},
   "source": [
    "###  3. Train The ALS model on the training data and get the top-k recommendations for our testing data\n",
    "영화 평점을 예측하기 위해 training set의 평점 데이터를 유저들의 외적 피드백으로 사용했다. We do not constrain the latent factors (nonnegative = False) in order to allow for both positive and negative preferences towards movies.    \n",
    "영화 추천의 경우, 이미 평가된 영화들을 추천하는 것은 말이 안되므로 평가된 영화들은 제거해야 한다. 이를 위해, 모든 영화들을 모든 유저에게 추천한 다음, training dataset에 존재하는 유저-영화 짝들을 제거한다."
   ]
  },
  {
   "cell_type": "code",
   "execution_count": 8,
   "id": "1402e5f1",
   "metadata": {},
   "outputs": [
    {
     "name": "stderr",
     "output_type": "stream",
     "text": [
      "22/06/08 14:47:14 WARN InstanceBuilder$NativeBLAS: Failed to load implementation from:dev.ludovic.netlib.blas.JNIBLAS\n",
      "22/06/08 14:47:14 WARN InstanceBuilder$NativeBLAS: Failed to load implementation from:dev.ludovic.netlib.blas.ForeignLinkerBLAS\n",
      "22/06/08 14:47:14 WARN InstanceBuilder$NativeLAPACK: Failed to load implementation from:dev.ludovic.netlib.lapack.JNILAPACK\n"
     ]
    },
    {
     "name": "stdout",
     "output_type": "stream",
     "text": [
      "Took 2.284715439000138 seconds for training\n"
     ]
    }
   ],
   "source": [
    "header = {'userCol':Col_User, 'itemCol':Col_Item, 'ratingCol':Col_Rating}\n",
    "\n",
    "als = ALS(rank=10, maxIter=15, implicitPrefs=False,\n",
    "         regParam=0.05, coldStartStrategy='drop', nonnegative=False,\n",
    "         seed=27, **header)\n",
    "\n",
    "with Timer() as train_time:\n",
    "    model = als.fit(train)\n",
    "print('Took {} seconds for training'.format(train_time.interval))"
   ]
  },
  {
   "cell_type": "code",
   "execution_count": 66,
   "id": "ce7cccce",
   "metadata": {},
   "outputs": [
    {
     "name": "stderr",
     "output_type": "stream",
     "text": [
      "22/06/08 15:21:37 WARN Column: Constructing trivially true equals predicate, 'UserId#0 = UserId#0'. Perhaps you need to use aliases.\n",
      "[Stage 174:=========================>                           (95 + 12) / 200]\r"
     ]
    },
    {
     "name": "stdout",
     "output_type": "stream",
     "text": [
      "Took 5.325648283996998 seconds for training\n"
     ]
    },
    {
     "name": "stderr",
     "output_type": "stream",
     "text": [
      "\r",
      "[Stage 174:========================================>           (157 + 12) / 200]\r",
      "\r",
      "                                                                                \r"
     ]
    }
   ],
   "source": [
    "with Timer() as test_time:\n",
    "    # 모든 user-item 짝을 얻고 점수를 매긴다.\n",
    "    users = train.select(Col_User).distinct()\n",
    "    items = train.select(Col_Item).distinct()    \n",
    "    user_item = users.crossJoin(items)\n",
    "    dfs_pred = model.transform(user_item)\n",
    "    \n",
    "    # 평가된 아이템 제거\n",
    "    dfs_pred_exclude_train = dfs_pred.alias('pred').join(\n",
    "    train.alias('train'),\n",
    "    (dfs_pred[Col_User]==train[Col_User])&(dfs_pred[Col_Item]==train[Col_Item]), how='outer')\n",
    "    \n",
    "    top_all = dfs_pred_exclude_train.filter(\n",
    "    dfs_pred_exclude_train[f'train.{Col_Rating}'].isNull()).select(\n",
    "    'pred.'+Col_User,'pred.'+Col_Item, 'pred.'+'prediction')\n",
    "    \n",
    "    # Use an action to force execute and measure the test time\n",
    "    top_all.cache().count()\n",
    "    \n",
    "print('Took {} seconds for training'.format(test_time.interval))"
   ]
  },
  {
   "cell_type": "code",
   "execution_count": 67,
   "id": "a2b161db",
   "metadata": {},
   "outputs": [
    {
     "name": "stdout",
     "output_type": "stream",
     "text": [
      "+------+-------+----------+\n",
      "|UserId|MovieId|prediction|\n",
      "+------+-------+----------+\n",
      "|     1|    587| 3.2906096|\n",
      "|     1|    869|  2.681578|\n",
      "|     1|   1208| 1.9780601|\n",
      "|     1|   1348|  0.792479|\n",
      "|     1|   1357| 0.7010497|\n",
      "|     2|     80| 1.9774098|\n",
      "|     2|    472| 2.9985087|\n",
      "|     2|    582|  3.589076|\n",
      "|     2|    838| 2.5580637|\n",
      "|     2|    975|  3.080968|\n",
      "|     2|   1260|  1.611711|\n",
      "|     2|   1381| 3.6324484|\n",
      "|     2|   1530| 1.8517529|\n",
      "|     3|     22| 2.4254963|\n",
      "|     3|     57| 2.9116383|\n",
      "|     3|     89| 3.5991197|\n",
      "|     3|    367| 2.3351898|\n",
      "|     3|   1091| 0.7451291|\n",
      "|     3|   1167| 0.7089374|\n",
      "|     3|   1499| 2.7345362|\n",
      "+------+-------+----------+\n",
      "only showing top 20 rows\n",
      "\n"
     ]
    }
   ],
   "source": [
    "top_all.show()"
   ]
  },
  {
   "cell_type": "markdown",
   "id": "1038798e",
   "metadata": {},
   "source": [
    "### 4. Evaluate how well ALS performs"
   ]
  },
  {
   "cell_type": "code",
   "execution_count": 68,
   "id": "7d70a5f1",
   "metadata": {},
   "outputs": [
    {
     "name": "stderr",
     "output_type": "stream",
     "text": [
      "                                                                                \r"
     ]
    }
   ],
   "source": [
    "rank_eval = SparkRankingEvaluation(test, top_all, k=Top_k,\n",
    "                                  col_user=Col_User, col_item=Col_Item, col_rating=Col_Rating, col_prediction='prediction', relevancy_method='top_k')"
   ]
  },
  {
   "cell_type": "code",
   "execution_count": 69,
   "id": "d2baf4b0",
   "metadata": {},
   "outputs": [
    {
     "name": "stdout",
     "output_type": "stream",
     "text": [
      "Model:\tALS\n",
      "Top K:\t10\n",
      "MAP:\t0.004614\n",
      "NDCG:\t0.044075\n",
      "Precision@K:\t0.047402\n",
      "Recall@K:\t0.016022\n"
     ]
    }
   ],
   "source": [
    "print(\"Model:\\tALS\",\n",
    "      \"Top K:\\t%d\" % rank_eval.k,\n",
    "      \"MAP:\\t%f\" % rank_eval.map_at_k(),\n",
    "      \"NDCG:\\t%f\" % rank_eval.ndcg_at_k(),\n",
    "      \"Precision@K:\\t%f\" % rank_eval.precision_at_k(),\n",
    "      \"Recall@K:\\t%f\" % rank_eval.recall_at_k(), sep='\\n')"
   ]
  },
  {
   "cell_type": "markdown",
   "id": "884e0b23",
   "metadata": {},
   "source": [
    "### 5. Evaluate rating prediction"
   ]
  },
  {
   "cell_type": "code",
   "execution_count": 70,
   "id": "b3e67992",
   "metadata": {},
   "outputs": [
    {
     "name": "stdout",
     "output_type": "stream",
     "text": [
      "+------+-------+------+---------+----------+\n",
      "|UserId|MovieId|Rating|Timestamp|prediction|\n",
      "+------+-------+------+---------+----------+\n",
      "|   251|    148|   2.0|886272547| 2.7677028|\n",
      "|   642|    148|   5.0|885604163| 4.0739584|\n",
      "|    26|    148|   3.0|891377540| 2.2995055|\n",
      "|    44|    148|   4.0|878346946|  3.126897|\n",
      "|   916|    148|   2.0|880843892| 2.1912308|\n",
      "|   236|    148|   4.0|890117028|    2.2681|\n",
      "|   372|    148|   5.0|876869915|  3.295108|\n",
      "|   618|    148|   3.0|891309670| 2.5100422|\n",
      "|   435|    148|   3.0|884133284| 3.0875416|\n",
      "|     1|    148|   2.0|875240799|  2.741537|\n",
      "|   178|    148|   4.0|882824325|   3.82051|\n",
      "|   120|    148|   3.0|889490499| 3.9990516|\n",
      "|   347|    148|   3.0|881652888|  2.958974|\n",
      "|   717|    148|   3.0|884642958|   3.07442|\n",
      "|   391|    148|   3.0|877400062|  2.133016|\n",
      "|   234|    148|   3.0|891228196| 2.1961553|\n",
      "|   938|    148|   3.0|891356500| 3.4448173|\n",
      "|   181|    148|   2.0|878963204| 2.3005846|\n",
      "|   893|    148|   3.0|874829287|  3.501895|\n",
      "|   396|    148|   4.0|884646436| 2.8753984|\n",
      "+------+-------+------+---------+----------+\n",
      "only showing top 20 rows\n",
      "\n"
     ]
    }
   ],
   "source": [
    "prediction = model.transform(test)\n",
    "prediction.cache().show()"
   ]
  },
  {
   "cell_type": "code",
   "execution_count": 72,
   "id": "ee5acf7d",
   "metadata": {},
   "outputs": [
    {
     "name": "stderr",
     "output_type": "stream",
     "text": [
      "\r",
      "[Stage 786:=============================================>      (175 + 12) / 200]\r",
      "\r",
      "                                                                                \r"
     ]
    },
    {
     "name": "stdout",
     "output_type": "stream",
     "text": [
      "Model:\tALS rating prediction\n",
      "RMSE:\t0.971747\n",
      "MAE:\t0.756063\n",
      "Explained variance:\t0.264629\n",
      "R squared:\t0.258666\n"
     ]
    }
   ],
   "source": [
    "rating_eval = SparkRatingEvaluation(test, prediction, col_user=Col_User, col_item=Col_Item, col_rating=Col_Rating, col_prediction='prediction')\n",
    "\n",
    "print(\"Model:\\tALS rating prediction\",\n",
    "      \"RMSE:\\t%f\" % rating_eval.rmse(),\n",
    "      \"MAE:\\t%f\" % rating_eval.mae(),\n",
    "      \"Explained variance:\\t%f\" % rating_eval.exp_var(),\n",
    "      \"R squared:\\t%f\" % rating_eval.rsquared(), sep='\\n')"
   ]
  },
  {
   "cell_type": "code",
   "execution_count": 73,
   "id": "f113845a",
   "metadata": {},
   "outputs": [
    {
     "data": {
      "application/scrapbook.scrap.json+json": {
       "data": 0.004613567619751161,
       "encoder": "json",
       "name": "map",
       "version": 1
      }
     },
     "metadata": {
      "scrapbook": {
       "data": true,
       "display": false,
       "name": "map"
      }
     },
     "output_type": "display_data"
    },
    {
     "data": {
      "application/scrapbook.scrap.json+json": {
       "data": 0.04407541183439886,
       "encoder": "json",
       "name": "ndcg",
       "version": 1
      }
     },
     "metadata": {
      "scrapbook": {
       "data": true,
       "display": false,
       "name": "ndcg"
      }
     },
     "output_type": "display_data"
    },
    {
     "data": {
      "application/scrapbook.scrap.json+json": {
       "data": 0.04740190880169671,
       "encoder": "json",
       "name": "precision",
       "version": 1
      }
     },
     "metadata": {
      "scrapbook": {
       "data": true,
       "display": false,
       "name": "precision"
      }
     },
     "output_type": "display_data"
    },
    {
     "data": {
      "application/scrapbook.scrap.json+json": {
       "data": 0.01602150532039471,
       "encoder": "json",
       "name": "recall",
       "version": 1
      }
     },
     "metadata": {
      "scrapbook": {
       "data": true,
       "display": false,
       "name": "recall"
      }
     },
     "output_type": "display_data"
    },
    {
     "data": {
      "application/scrapbook.scrap.json+json": {
       "data": 0.9717465678627668,
       "encoder": "json",
       "name": "rmse",
       "version": 1
      }
     },
     "metadata": {
      "scrapbook": {
       "data": true,
       "display": false,
       "name": "rmse"
      }
     },
     "output_type": "display_data"
    },
    {
     "data": {
      "application/scrapbook.scrap.json+json": {
       "data": 0.7560629048344926,
       "encoder": "json",
       "name": "mae",
       "version": 1
      }
     },
     "metadata": {
      "scrapbook": {
       "data": true,
       "display": false,
       "name": "mae"
      }
     },
     "output_type": "display_data"
    },
    {
     "data": {
      "application/scrapbook.scrap.json+json": {
       "data": 0.2646287237211029,
       "encoder": "json",
       "name": "exp_var",
       "version": 1
      }
     },
     "metadata": {
      "scrapbook": {
       "data": true,
       "display": false,
       "name": "exp_var"
      }
     },
     "output_type": "display_data"
    },
    {
     "data": {
      "application/scrapbook.scrap.json+json": {
       "data": 0.2586659893604234,
       "encoder": "json",
       "name": "rsquared",
       "version": 1
      }
     },
     "metadata": {
      "scrapbook": {
       "data": true,
       "display": false,
       "name": "rsquared"
      }
     },
     "output_type": "display_data"
    },
    {
     "data": {
      "application/scrapbook.scrap.json+json": {
       "data": 2.284715439000138,
       "encoder": "json",
       "name": "train_time",
       "version": 1
      }
     },
     "metadata": {
      "scrapbook": {
       "data": true,
       "display": false,
       "name": "train_time"
      }
     },
     "output_type": "display_data"
    },
    {
     "data": {
      "application/scrapbook.scrap.json+json": {
       "data": 5.325648283996998,
       "encoder": "json",
       "name": "test_time",
       "version": 1
      }
     },
     "metadata": {
      "scrapbook": {
       "data": true,
       "display": false,
       "name": "test_time"
      }
     },
     "output_type": "display_data"
    }
   ],
   "source": [
    "if is_jupyter():\n",
    "    import papermill as pm\n",
    "    import scrapbook as sb\n",
    "    sb.glue(\"map\", rank_eval.map_at_k())\n",
    "    sb.glue(\"ndcg\", rank_eval.ndcg_at_k())\n",
    "    sb.glue(\"precision\", rank_eval.precision_at_k())\n",
    "    sb.glue(\"recall\", rank_eval.recall_at_k())\n",
    "    sb.glue(\"rmse\", rating_eval.rmse())\n",
    "    sb.glue(\"mae\", rating_eval.mae())\n",
    "    sb.glue(\"exp_var\", rating_eval.exp_var())\n",
    "    sb.glue(\"rsquared\", rating_eval.rsquared())\n",
    "    sb.glue(\"train_time\", train_time.interval)\n",
    "    sb.glue(\"test_time\", test_time.interval)"
   ]
  },
  {
   "cell_type": "code",
   "execution_count": 74,
   "id": "7d602d8e",
   "metadata": {},
   "outputs": [],
   "source": [
    "spark.stop()"
   ]
  },
  {
   "cell_type": "code",
   "execution_count": null,
   "id": "d748010e",
   "metadata": {},
   "outputs": [],
   "source": []
  }
 ],
 "metadata": {
  "kernelspec": {
   "display_name": "ms_rec3713",
   "language": "python",
   "name": "recommender3713"
  },
  "language_info": {
   "codemirror_mode": {
    "name": "ipython",
    "version": 3
   },
   "file_extension": ".py",
   "mimetype": "text/x-python",
   "name": "python",
   "nbconvert_exporter": "python",
   "pygments_lexer": "ipython3",
   "version": "3.7.13"
  }
 },
 "nbformat": 4,
 "nbformat_minor": 5
}
