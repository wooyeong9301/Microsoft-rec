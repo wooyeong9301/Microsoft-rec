{
 "cells": [
  {
   "cell_type": "markdown",
   "id": "8e3bbb3e",
   "metadata": {},
   "source": [
    "# Simple Algorithm for Recommedation Single Node on Movielens"
   ]
  },
  {
   "cell_type": "markdown",
   "id": "8f87c392",
   "metadata": {},
   "source": [
    "**SAR**은 유저의 트랜잭션 기록에 기반한 개인화된 추천을 위한 빠르고 확장 가능한 알고리즘입니다. SAR은 설명과 해석이 가능한 추천을 쉽게 만들어내고, cold item/semi-cold item 문제를 다룰 수 있습니다. 이 알고리즘은 각 유저에 대해 아이템의 랭킹을 매기는 neighborhood 기반 알고리즘의 일종입니다.   \n",
    "SAR은 유저가 이미 친밀도를 갖고 있는 아이템과 가장 비슷한 아이템-아이템과 상호작용한 유저들이 상호작용할 것 같은 아이템-들을 추천합니다. 유저가 과거에 아이템과 상호작용한 적이 있으면 친밀도를 갖고 있다고 봅니다.    \n",
    "\n",
    "SAR의 이점 :   \n",
    "- 훈련과 사용이 쉬운 알고리즘에 대한 높은 정확도\n",
    "- 예측에 사용되는 행렬들을 구성하기 위한 간단한 계산만 필요로 하여 훈련이 빠릅니다.\n",
    "- 친밀도 벡터를 가진 유사도 행렬의 곱셈만 계산하여 빠른 스코어링이 가능합니다.   \n",
    "\n",
    "SAR을 잘 사용하기 위해 알아야 할 것들은 :   \n",
    "- 아이템이나 유저의 feature를 사용하지 않기 때문에, 그 feature들을 사용하는 알고리즘에 비해 불리할 수 있습니다.   \n",
    "- *m* x *m*(*m*은 아이템의 수) 희소 행렬을 만들어야 하기 때문에 메모리가 부족할 수 있습니다.    \n",
    "- SAR은 암묵적인 평가 시나리오를 선호하며, 평가를 예측하지 않습니다."
   ]
  },
  {
   "cell_type": "code",
   "execution_count": 1,
   "id": "17ed83ee",
   "metadata": {},
   "outputs": [],
   "source": [
    "%load_ext autoreload\n",
    "%autoreload 2\n",
    "\n",
    "import logging\n",
    "import sys\n",
    "import numpy as np\n",
    "import pandas as pd\n",
    "import scrapbook as sb\n",
    "from sklearn.preprocessing import minmax_scale\n",
    "\n",
    "from recommenders.utils.python_utils import binarize\n",
    "from recommenders.utils.timer import Timer\n",
    "from recommenders.datasets import movielens\n",
    "from recommenders.datasets.python_splitters import python_stratified_split\n",
    "from recommenders.evaluation.python_evaluation import map_at_k, ndcg_at_k, precision_at_k, recall_at_k, rmse, mae, logloss, rsquared, exp_var\n",
    "from recommenders.models.sar import SAR"
   ]
  },
  {
   "cell_type": "markdown",
   "id": "4c5da466",
   "metadata": {},
   "source": [
    "### 1. Load data"
   ]
  },
  {
   "cell_type": "code",
   "execution_count": 2,
   "id": "acab8c3a",
   "metadata": {
    "scrolled": true
   },
   "outputs": [
    {
     "name": "stderr",
     "output_type": "stream",
     "text": [
      "100%|█████████████████████████████████████| 4.81k/4.81k [00:02<00:00, 1.85kKB/s]\n"
     ]
    }
   ],
   "source": [
    "top_k = 10\n",
    "movielens_data_size = '100k'\n",
    "data = movielens.load_pandas_df(size=movielens_data_size)\n",
    "data['rating'] = data['rating'].astype(np.float32)"
   ]
  },
  {
   "cell_type": "code",
   "execution_count": 3,
   "id": "2a70f697",
   "metadata": {},
   "outputs": [
    {
     "name": "stdout",
     "output_type": "stream",
     "text": [
      "\n",
      "Train:\n",
      "Total Ratings: 74992\n",
      "Unique Users: 943\n",
      "Unique Items: 1639\n",
      "\n",
      "Test:\n",
      "Total Ratings: 25008\n",
      "Unique Users: 943\n",
      "Unique Items: 1465\n",
      "\n"
     ]
    }
   ],
   "source": [
    "train, test = python_stratified_split(data, ratio=0.75, col_user='userID', col_item='itemID', seed=27)\n",
    "\n",
    "print(\"\"\"\n",
    "Train:\n",
    "Total Ratings: {train_total}\n",
    "Unique Users: {train_users}\n",
    "Unique Items: {train_items}\n",
    "\n",
    "Test:\n",
    "Total Ratings: {test_total}\n",
    "Unique Users: {test_users}\n",
    "Unique Items: {test_items}\n",
    "\"\"\".format(\n",
    "    train_total=len(train),\n",
    "    train_users=len(train['userID'].unique()),\n",
    "    train_items=len(train['itemID'].unique()),\n",
    "    test_total=len(test),\n",
    "    test_users=len(test['userID'].unique()),\n",
    "    test_items=len(test['itemID'].unique()),\n",
    "))"
   ]
  },
  {
   "cell_type": "markdown",
   "id": "93aeb435",
   "metadata": {},
   "source": [
    "### 2. Train the model"
   ]
  },
  {
   "cell_type": "code",
   "execution_count": 4,
   "id": "f4b09448",
   "metadata": {},
   "outputs": [
    {
     "name": "stderr",
     "output_type": "stream",
     "text": [
      "2022-06-24 10:16:41,204 INFO     Collecting user affinity matrix\n",
      "2022-06-24 10:16:41,206 INFO     Calculating time-decayed affinities\n",
      "2022-06-24 10:16:41,218 INFO     Creating index columns\n",
      "2022-06-24 10:16:41,263 INFO     Calculating normalization factors\n",
      "2022-06-24 10:16:41,281 INFO     Building user affinity sparse matrix\n",
      "2022-06-24 10:16:41,284 INFO     Calculating item co-occurrence\n",
      "2022-06-24 10:16:41,389 INFO     Calculating item similarity\n",
      "2022-06-24 10:16:41,389 INFO     Using jaccard based similarity\n",
      "2022-06-24 10:16:41,417 INFO     Done training\n",
      "2022-06-24 10:16:41,418 INFO     Calculating recommendation scores\n",
      "2022-06-24 10:16:41,510 INFO     Removing seen items\n"
     ]
    },
    {
     "name": "stdout",
     "output_type": "stream",
     "text": [
      "Took 0.21453691699997535 secs for training.\n",
      "Took 0.10647214099998337 secs for prediction.\n"
     ]
    }
   ],
   "source": [
    "# Instantiate the algorithm and set the index\n",
    "logging.basicConfig(level=logging.DEBUG, format='%(asctime)s %(levelname)-8s %(message)s')\n",
    "\n",
    "model = SAR(col_user='userID', col_item='itemID', col_rating='rating',\n",
    "           col_timestamp='timestamp', similarity_type='jaccard',\n",
    "           time_decay_coefficient=30, timedecay_formula=True, normalize=True)\n",
    "\n",
    "# Train the model to training data and get the top-k recs for testing data\n",
    "with Timer() as train_time:\n",
    "    model.fit(train)\n",
    "print('Took {} secs for training.'.format(train_time.interval))\n",
    "\n",
    "with Timer() as test_time:\n",
    "    top_k = model.recommend_k_items(test, remove_seen=True)\n",
    "print('Took {} secs for prediction.'.format(test_time.interval))\n"
   ]
  },
  {
   "cell_type": "code",
   "execution_count": 9,
   "id": "fa5f4fa5",
   "metadata": {
    "collapsed": true
   },
   "outputs": [
    {
     "data": {
      "text/html": [
       "<div>\n",
       "<style scoped>\n",
       "    .dataframe tbody tr th:only-of-type {\n",
       "        vertical-align: middle;\n",
       "    }\n",
       "\n",
       "    .dataframe tbody tr th {\n",
       "        vertical-align: top;\n",
       "    }\n",
       "\n",
       "    .dataframe thead th {\n",
       "        text-align: right;\n",
       "    }\n",
       "</style>\n",
       "<table border=\"1\" class=\"dataframe\">\n",
       "  <thead>\n",
       "    <tr style=\"text-align: right;\">\n",
       "      <th></th>\n",
       "      <th>userID</th>\n",
       "      <th>itemID</th>\n",
       "      <th>prediction</th>\n",
       "    </tr>\n",
       "  </thead>\n",
       "  <tbody>\n",
       "    <tr>\n",
       "      <th>0</th>\n",
       "      <td>1</td>\n",
       "      <td>433</td>\n",
       "      <td>3.249128</td>\n",
       "    </tr>\n",
       "    <tr>\n",
       "      <th>1</th>\n",
       "      <td>1</td>\n",
       "      <td>216</td>\n",
       "      <td>3.221920</td>\n",
       "    </tr>\n",
       "    <tr>\n",
       "      <th>2</th>\n",
       "      <td>1</td>\n",
       "      <td>367</td>\n",
       "      <td>3.175474</td>\n",
       "    </tr>\n",
       "    <tr>\n",
       "      <th>3</th>\n",
       "      <td>1</td>\n",
       "      <td>234</td>\n",
       "      <td>3.174095</td>\n",
       "    </tr>\n",
       "    <tr>\n",
       "      <th>4</th>\n",
       "      <td>1</td>\n",
       "      <td>423</td>\n",
       "      <td>3.165910</td>\n",
       "    </tr>\n",
       "    <tr>\n",
       "      <th>...</th>\n",
       "      <td>...</td>\n",
       "      <td>...</td>\n",
       "      <td>...</td>\n",
       "    </tr>\n",
       "    <tr>\n",
       "      <th>9425</th>\n",
       "      <td>943</td>\n",
       "      <td>196</td>\n",
       "      <td>3.049325</td>\n",
       "    </tr>\n",
       "    <tr>\n",
       "      <th>9426</th>\n",
       "      <td>943</td>\n",
       "      <td>79</td>\n",
       "      <td>3.043222</td>\n",
       "    </tr>\n",
       "    <tr>\n",
       "      <th>9427</th>\n",
       "      <td>943</td>\n",
       "      <td>4</td>\n",
       "      <td>3.029936</td>\n",
       "    </tr>\n",
       "    <tr>\n",
       "      <th>9428</th>\n",
       "      <td>943</td>\n",
       "      <td>62</td>\n",
       "      <td>3.020848</td>\n",
       "    </tr>\n",
       "    <tr>\n",
       "      <th>9429</th>\n",
       "      <td>943</td>\n",
       "      <td>230</td>\n",
       "      <td>3.015151</td>\n",
       "    </tr>\n",
       "  </tbody>\n",
       "</table>\n",
       "<p>9430 rows × 3 columns</p>\n",
       "</div>"
      ],
      "text/plain": [
       "      userID  itemID  prediction\n",
       "0          1     433    3.249128\n",
       "1          1     216    3.221920\n",
       "2          1     367    3.175474\n",
       "3          1     234    3.174095\n",
       "4          1     423    3.165910\n",
       "...      ...     ...         ...\n",
       "9425     943     196    3.049325\n",
       "9426     943      79    3.043222\n",
       "9427     943       4    3.029936\n",
       "9428     943      62    3.020848\n",
       "9429     943     230    3.015151\n",
       "\n",
       "[9430 rows x 3 columns]"
      ]
     },
     "execution_count": 9,
     "metadata": {},
     "output_type": "execute_result"
    }
   ],
   "source": [
    "top_k"
   ]
  },
  {
   "cell_type": "code",
   "execution_count": 5,
   "id": "b1400f7b",
   "metadata": {},
   "outputs": [],
   "source": [
    "# Evaluate\n",
    "eval_map = map_at_k(test, top_k, col_user='userID', col_item='itemID', col_rating='rating', k=10)\n",
    "eval_ndcg = ndcg_at_k(test, top_k, col_user='userID', col_item='itemID', col_rating='rating', k=10)\n",
    "eval_precision = precision_at_k(test, top_k, col_user='userID', col_item='itemID', col_rating='rating', k=10)\n",
    "eval_recall = recall_at_k(test, top_k, col_user='userID', col_item='itemID', col_rating='rating', k=10)\n",
    "eval_rmse = rmse(test, top_k, col_user='userID', col_item='itemID', col_rating='rating')\n",
    "eval_mae = mae(test, top_k, col_user='userID', col_item='itemID', col_rating='rating')\n",
    "eval_rsquared = rsquared(test, top_k, col_user='userID', col_item='itemID', col_rating='rating')\n",
    "eval_exp_var = exp_var(test, top_k, col_user='userID', col_item='itemID', col_rating='rating')\n",
    "\n",
    "positivity_threshold = 2 # threshold (float) – Threshold below which all values are set to 0, else 1.\n",
    "test_bin = test.copy()\n",
    "test_bin['rating'] = binarize(test_bin['rating'], positivity_threshold)\n",
    "\n",
    "top_k_prob = top_k.copy()\n",
    "top_k_prob['prediction'] = minmax_scale(top_k_prob['prediction'].astype(float))\n",
    "\n",
    "eval_logloss = logloss(test_bin, top_k_prob, col_user='userID', col_item='itemID', col_rating='rating')"
   ]
  },
  {
   "cell_type": "code",
   "execution_count": 6,
   "id": "56c122c8",
   "metadata": {},
   "outputs": [
    {
     "name": "stdout",
     "output_type": "stream",
     "text": [
      "Model:\t\n",
      "Top K:\t10\n",
      "MAP:\t0.112251\n",
      "NDCG:\t0.384147\n",
      "Precision@K:\t0.329692\n",
      "Recall@K:\t0.180919\n",
      "RMSE:\t1.244274\n",
      "MAE:\t1.045549\n",
      "R2:\t-0.499194\n",
      "Exp var:\t0.071549\n",
      "Logloss:\t0.593063\n"
     ]
    }
   ],
   "source": [
    "print(\"Model:\\t\",\n",
    "      \"Top K:\\t%d\" % 10,\n",
    "      \"MAP:\\t%f\" % eval_map,\n",
    "      \"NDCG:\\t%f\" % eval_ndcg,\n",
    "      \"Precision@K:\\t%f\" % eval_precision,\n",
    "      \"Recall@K:\\t%f\" % eval_recall,\n",
    "      \"RMSE:\\t%f\" % eval_rmse,\n",
    "      \"MAE:\\t%f\" % eval_mae,\n",
    "      \"R2:\\t%f\" % eval_rsquared,\n",
    "      \"Exp var:\\t%f\" % eval_exp_var,\n",
    "      \"Logloss:\\t%f\" % eval_logloss,\n",
    "      sep='\\n')\n"
   ]
  },
  {
   "cell_type": "code",
   "execution_count": 8,
   "id": "ac7a57d8",
   "metadata": {},
   "outputs": [
    {
     "name": "stderr",
     "output_type": "stream",
     "text": [
      "2022-06-24 10:21:39,589 INFO     Calculating recommendation scores\n",
      "2022-06-24 10:21:39,594 INFO     Removing seen items\n"
     ]
    },
    {
     "name": "stdout",
     "output_type": "stream",
     "text": [
      "       userID  itemID  rating  timestamp\n",
      "86057     876     511     5.0  879428354\n",
      "97507     876     523     5.0  879428378\n",
      "71005     876     187     4.0  879428354\n",
      "92013     876      22     4.0  879428451\n",
      "81517     876     289     3.0  879428145\n"
     ]
    },
    {
     "data": {
      "text/html": [
       "<div>\n",
       "<style scoped>\n",
       "    .dataframe tbody tr th:only-of-type {\n",
       "        vertical-align: middle;\n",
       "    }\n",
       "\n",
       "    .dataframe tbody tr th {\n",
       "        vertical-align: top;\n",
       "    }\n",
       "\n",
       "    .dataframe thead th {\n",
       "        text-align: right;\n",
       "    }\n",
       "</style>\n",
       "<table border=\"1\" class=\"dataframe\">\n",
       "  <thead>\n",
       "    <tr style=\"text-align: right;\">\n",
       "      <th></th>\n",
       "      <th>userID</th>\n",
       "      <th>itemID</th>\n",
       "      <th>rating</th>\n",
       "      <th>timestamp</th>\n",
       "      <th>prediction</th>\n",
       "    </tr>\n",
       "  </thead>\n",
       "  <tbody>\n",
       "    <tr>\n",
       "      <th>0</th>\n",
       "      <td>876</td>\n",
       "      <td>511</td>\n",
       "      <td>5.0</td>\n",
       "      <td>879428354</td>\n",
       "      <td>NaN</td>\n",
       "    </tr>\n",
       "    <tr>\n",
       "      <th>1</th>\n",
       "      <td>876</td>\n",
       "      <td>523</td>\n",
       "      <td>5.0</td>\n",
       "      <td>879428378</td>\n",
       "      <td>NaN</td>\n",
       "    </tr>\n",
       "    <tr>\n",
       "      <th>2</th>\n",
       "      <td>876</td>\n",
       "      <td>187</td>\n",
       "      <td>4.0</td>\n",
       "      <td>879428354</td>\n",
       "      <td>NaN</td>\n",
       "    </tr>\n",
       "    <tr>\n",
       "      <th>3</th>\n",
       "      <td>876</td>\n",
       "      <td>22</td>\n",
       "      <td>4.0</td>\n",
       "      <td>879428451</td>\n",
       "      <td>NaN</td>\n",
       "    </tr>\n",
       "    <tr>\n",
       "      <th>4</th>\n",
       "      <td>876</td>\n",
       "      <td>289</td>\n",
       "      <td>3.0</td>\n",
       "      <td>879428145</td>\n",
       "      <td>NaN</td>\n",
       "    </tr>\n",
       "  </tbody>\n",
       "</table>\n",
       "</div>"
      ],
      "text/plain": [
       "   userID  itemID  rating  timestamp  prediction\n",
       "0     876     511     5.0  879428354         NaN\n",
       "1     876     523     5.0  879428378         NaN\n",
       "2     876     187     4.0  879428354         NaN\n",
       "3     876      22     4.0  879428451         NaN\n",
       "4     876     289     3.0  879428145         NaN"
      ]
     },
     "execution_count": 8,
     "metadata": {},
     "output_type": "execute_result"
    }
   ],
   "source": [
    "# Results for a specific user\n",
    "user_id = 876\n",
    "ground_truth = test[test[\"userID\"]==user_id].sort_values(by='rating', ascending=False)[:10]\n",
    "print(ground_truth)\n",
    "prediction = model.recommend_k_items(pd.DataFrame(dict(userID=[user_id])), remove_seen=True)\n",
    "pd.merge(ground_truth, prediction, on=['userID', 'itemID'], how='left')"
   ]
  },
  {
   "cell_type": "code",
   "execution_count": 9,
   "id": "f7768e2c",
   "metadata": {},
   "outputs": [
    {
     "data": {
      "text/html": [
       "<div>\n",
       "<style scoped>\n",
       "    .dataframe tbody tr th:only-of-type {\n",
       "        vertical-align: middle;\n",
       "    }\n",
       "\n",
       "    .dataframe tbody tr th {\n",
       "        vertical-align: top;\n",
       "    }\n",
       "\n",
       "    .dataframe thead th {\n",
       "        text-align: right;\n",
       "    }\n",
       "</style>\n",
       "<table border=\"1\" class=\"dataframe\">\n",
       "  <thead>\n",
       "    <tr style=\"text-align: right;\">\n",
       "      <th></th>\n",
       "      <th>userID</th>\n",
       "      <th>itemID</th>\n",
       "      <th>rating</th>\n",
       "      <th>timestamp</th>\n",
       "    </tr>\n",
       "  </thead>\n",
       "  <tbody>\n",
       "    <tr>\n",
       "      <th>39296</th>\n",
       "      <td>1</td>\n",
       "      <td>237</td>\n",
       "      <td>2.0</td>\n",
       "      <td>875071749</td>\n",
       "    </tr>\n",
       "    <tr>\n",
       "      <th>24493</th>\n",
       "      <td>1</td>\n",
       "      <td>30</td>\n",
       "      <td>3.0</td>\n",
       "      <td>878542515</td>\n",
       "    </tr>\n",
       "    <tr>\n",
       "      <th>7101</th>\n",
       "      <td>1</td>\n",
       "      <td>143</td>\n",
       "      <td>1.0</td>\n",
       "      <td>875072631</td>\n",
       "    </tr>\n",
       "    <tr>\n",
       "      <th>820</th>\n",
       "      <td>1</td>\n",
       "      <td>265</td>\n",
       "      <td>4.0</td>\n",
       "      <td>878542441</td>\n",
       "    </tr>\n",
       "    <tr>\n",
       "      <th>6541</th>\n",
       "      <td>1</td>\n",
       "      <td>258</td>\n",
       "      <td>5.0</td>\n",
       "      <td>878873389</td>\n",
       "    </tr>\n",
       "    <tr>\n",
       "      <th>...</th>\n",
       "      <td>...</td>\n",
       "      <td>...</td>\n",
       "      <td>...</td>\n",
       "      <td>...</td>\n",
       "    </tr>\n",
       "    <tr>\n",
       "      <th>76743</th>\n",
       "      <td>943</td>\n",
       "      <td>423</td>\n",
       "      <td>3.0</td>\n",
       "      <td>888639231</td>\n",
       "    </tr>\n",
       "    <tr>\n",
       "      <th>81296</th>\n",
       "      <td>943</td>\n",
       "      <td>98</td>\n",
       "      <td>5.0</td>\n",
       "      <td>888638980</td>\n",
       "    </tr>\n",
       "    <tr>\n",
       "      <th>75114</th>\n",
       "      <td>943</td>\n",
       "      <td>188</td>\n",
       "      <td>4.0</td>\n",
       "      <td>888639269</td>\n",
       "    </tr>\n",
       "    <tr>\n",
       "      <th>85387</th>\n",
       "      <td>943</td>\n",
       "      <td>79</td>\n",
       "      <td>5.0</td>\n",
       "      <td>888639019</td>\n",
       "    </tr>\n",
       "    <tr>\n",
       "      <th>72754</th>\n",
       "      <td>943</td>\n",
       "      <td>549</td>\n",
       "      <td>1.0</td>\n",
       "      <td>888639772</td>\n",
       "    </tr>\n",
       "  </tbody>\n",
       "</table>\n",
       "<p>25008 rows × 4 columns</p>\n",
       "</div>"
      ],
      "text/plain": [
       "       userID  itemID  rating  timestamp\n",
       "39296       1     237     2.0  875071749\n",
       "24493       1      30     3.0  878542515\n",
       "7101        1     143     1.0  875072631\n",
       "820         1     265     4.0  878542441\n",
       "6541        1     258     5.0  878873389\n",
       "...       ...     ...     ...        ...\n",
       "76743     943     423     3.0  888639231\n",
       "81296     943      98     5.0  888638980\n",
       "75114     943     188     4.0  888639269\n",
       "85387     943      79     5.0  888639019\n",
       "72754     943     549     1.0  888639772\n",
       "\n",
       "[25008 rows x 4 columns]"
      ]
     },
     "execution_count": 9,
     "metadata": {},
     "output_type": "execute_result"
    }
   ],
   "source": [
    "test"
   ]
  },
  {
   "cell_type": "code",
   "execution_count": null,
   "id": "f284f12a",
   "metadata": {},
   "outputs": [],
   "source": []
  }
 ],
 "metadata": {
  "kernelspec": {
   "display_name": "ms_rec3713",
   "language": "python",
   "name": "recommender3713"
  },
  "language_info": {
   "codemirror_mode": {
    "name": "ipython",
    "version": 3
   },
   "file_extension": ".py",
   "mimetype": "text/x-python",
   "name": "python",
   "nbconvert_exporter": "python",
   "pygments_lexer": "ipython3",
   "version": "3.7.13"
  }
 },
 "nbformat": 4,
 "nbformat_minor": 5
}
