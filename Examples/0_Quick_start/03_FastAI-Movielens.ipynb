{
 "cells": [
  {
   "cell_type": "markdown",
   "id": "a3f2ef79",
   "metadata": {},
   "source": [
    "# FastAI Recommender"
   ]
  },
  {
   "cell_type": "code",
   "execution_count": 2,
   "id": "7a6f4a2b",
   "metadata": {},
   "outputs": [
    {
     "name": "stdout",
     "output_type": "stream",
     "text": [
      "System version: 3.7.13 (default, Mar 29 2022, 02:18:16) \n",
      "[GCC 7.5.0]\n",
      "Pandas version: 1.3.5\n",
      "Fast AI version: 1.0.61\n",
      "Torch version: 1.11.0+cu102\n",
      "Cuda Available: True\n",
      "CuDNN Enabled: True\n"
     ]
    }
   ],
   "source": [
    "import sys, os, torch, fastai\n",
    "import pandas as pd\n",
    "import numpy as np\n",
    "import scrapbook as sb\n",
    "\n",
    "from tempfile import TemporaryDirectory\n",
    "from fastai.collab import collab_learner, CollabDataBunch, load_learner\n",
    "from recommenders.utils.constants import (\n",
    "DEFAULT_USER_COL as USER,\n",
    "DEFAULT_ITEM_COL as ITEM,\n",
    "DEFAULT_RATING_COL as RATING,\n",
    "DEFAULT_TIMESTAMP_COL as TIMESTAMP,\n",
    "DEFAULT_PREDICTION_COL as PREDICTION)\n",
    "from recommenders.utils.timer import Timer\n",
    "from recommenders.datasets import movielens\n",
    "from recommenders.datasets.python_splitters import python_stratified_split\n",
    "from recommenders.models.fastai.fastai_utils import cartesian_product, score\n",
    "from recommenders.evaluation.python_evaluation import map_at_k, ndcg_at_k, precision_at_k, recall_at_k\n",
    "from recommenders.evaluation.python_evaluation import rmse, mae, rsquared, exp_var\n",
    "\n",
    "print(\"System version: {}\".format(sys.version))\n",
    "print(\"Pandas version: {}\".format(pd.__version__))\n",
    "print(\"Fast AI version: {}\".format(fastai.__version__))\n",
    "print(\"Torch version: {}\".format(torch.__version__))\n",
    "print(\"Cuda Available: {}\".format(torch.cuda.is_available()))\n",
    "print(\"CuDNN Enabled: {}\".format(torch.backends.cudnn.enabled))"
   ]
  },
  {
   "cell_type": "code",
   "execution_count": 3,
   "id": "4cee4dbf",
   "metadata": {},
   "outputs": [],
   "source": [
    "Top_k = 10\n",
    "Movie_data_size = '100k'\n",
    "N_factors = 40\n",
    "epochs = 5"
   ]
  },
  {
   "cell_type": "code",
   "execution_count": 4,
   "id": "11d11424",
   "metadata": {},
   "outputs": [
    {
     "name": "stderr",
     "output_type": "stream",
     "text": [
      "100%|█████████████████████████████████████| 4.81k/4.81k [00:02<00:00, 1.91kKB/s]\n"
     ]
    },
    {
     "data": {
      "text/html": [
       "<div>\n",
       "<style scoped>\n",
       "    .dataframe tbody tr th:only-of-type {\n",
       "        vertical-align: middle;\n",
       "    }\n",
       "\n",
       "    .dataframe tbody tr th {\n",
       "        vertical-align: top;\n",
       "    }\n",
       "\n",
       "    .dataframe thead th {\n",
       "        text-align: right;\n",
       "    }\n",
       "</style>\n",
       "<table border=\"1\" class=\"dataframe\">\n",
       "  <thead>\n",
       "    <tr style=\"text-align: right;\">\n",
       "      <th></th>\n",
       "      <th>userID</th>\n",
       "      <th>itemID</th>\n",
       "      <th>rating</th>\n",
       "      <th>timestamp</th>\n",
       "    </tr>\n",
       "  </thead>\n",
       "  <tbody>\n",
       "    <tr>\n",
       "      <th>0</th>\n",
       "      <td>196</td>\n",
       "      <td>242</td>\n",
       "      <td>3.0</td>\n",
       "      <td>881250949</td>\n",
       "    </tr>\n",
       "    <tr>\n",
       "      <th>1</th>\n",
       "      <td>186</td>\n",
       "      <td>302</td>\n",
       "      <td>3.0</td>\n",
       "      <td>891717742</td>\n",
       "    </tr>\n",
       "    <tr>\n",
       "      <th>2</th>\n",
       "      <td>22</td>\n",
       "      <td>377</td>\n",
       "      <td>1.0</td>\n",
       "      <td>878887116</td>\n",
       "    </tr>\n",
       "    <tr>\n",
       "      <th>3</th>\n",
       "      <td>244</td>\n",
       "      <td>51</td>\n",
       "      <td>2.0</td>\n",
       "      <td>880606923</td>\n",
       "    </tr>\n",
       "    <tr>\n",
       "      <th>4</th>\n",
       "      <td>166</td>\n",
       "      <td>346</td>\n",
       "      <td>1.0</td>\n",
       "      <td>886397596</td>\n",
       "    </tr>\n",
       "  </tbody>\n",
       "</table>\n",
       "</div>"
      ],
      "text/plain": [
       "  userID itemID  rating  timestamp\n",
       "0    196    242     3.0  881250949\n",
       "1    186    302     3.0  891717742\n",
       "2     22    377     1.0  878887116\n",
       "3    244     51     2.0  880606923\n",
       "4    166    346     1.0  886397596"
      ]
     },
     "execution_count": 4,
     "metadata": {},
     "output_type": "execute_result"
    }
   ],
   "source": [
    "ratings_df = movielens.load_pandas_df(size=Movie_data_size,\n",
    "                                     header=[USER, ITEM, RATING, TIMESTAMP])\n",
    "ratings_df[USER] = ratings_df[USER].astype('str')\n",
    "ratings_df[ITEM] = ratings_df[ITEM].astype('str')\n",
    "ratings_df.head()"
   ]
  },
  {
   "cell_type": "code",
   "execution_count": 19,
   "id": "e89efccb",
   "metadata": {},
   "outputs": [],
   "source": [
    "train_valid_df, test_df = python_stratified_split(ratings_df,\n",
    "                                                 ratio=0.75,\n",
    "                                                 min_rating=1,\n",
    "                                                 filter_by='item',\n",
    "                                                 col_user=USER,\n",
    "                                                 col_item=ITEM)\n",
    "test_df = test_df[test_df.userID.isin(train_valid_df.userID)]"
   ]
  },
  {
   "cell_type": "markdown",
   "id": "87282726",
   "metadata": {},
   "source": [
    "### Training"
   ]
  },
  {
   "cell_type": "code",
   "execution_count": 20,
   "id": "b9191735",
   "metadata": {},
   "outputs": [],
   "source": [
    "np.random.seed(27)\n",
    "torch.manual_seed(27)\n",
    "torch.cuda.manual_seed_all(27)"
   ]
  },
  {
   "cell_type": "code",
   "execution_count": 21,
   "id": "1740d160",
   "metadata": {},
   "outputs": [],
   "source": [
    "with Timer() as preprocess_time:\n",
    "    data = CollabDataBunch.from_df(train_valid_df,\n",
    "                                  user_name=USER,\n",
    "                                  item_name=ITEM,\n",
    "                                  rating_name=RATING,\n",
    "                                  valid_pct=0)"
   ]
  },
  {
   "cell_type": "code",
   "execution_count": 24,
   "id": "f72d02ce",
   "metadata": {},
   "outputs": [
    {
     "data": {
      "text/html": [
       "<table border=\"1\" class=\"dataframe\">\n",
       "  <thead>\n",
       "    <tr style=\"text-align: right;\">\n",
       "      <th>userID</th>\n",
       "      <th>itemID</th>\n",
       "      <th>target</th>\n",
       "    </tr>\n",
       "  </thead>\n",
       "  <tbody>\n",
       "    <tr>\n",
       "      <td>511</td>\n",
       "      <td>292</td>\n",
       "      <td>5.0</td>\n",
       "    </tr>\n",
       "    <tr>\n",
       "      <td>393</td>\n",
       "      <td>940</td>\n",
       "      <td>2.0</td>\n",
       "    </tr>\n",
       "    <tr>\n",
       "      <td>655</td>\n",
       "      <td>1012</td>\n",
       "      <td>3.0</td>\n",
       "    </tr>\n",
       "    <tr>\n",
       "      <td>170</td>\n",
       "      <td>322</td>\n",
       "      <td>5.0</td>\n",
       "    </tr>\n",
       "    <tr>\n",
       "      <td>60</td>\n",
       "      <td>496</td>\n",
       "      <td>4.0</td>\n",
       "    </tr>\n",
       "  </tbody>\n",
       "</table>"
      ],
      "text/plain": [
       "<IPython.core.display.HTML object>"
      ]
     },
     "metadata": {},
     "output_type": "display_data"
    }
   ],
   "source": [
    "data.show_batch()"
   ]
  },
  {
   "cell_type": "markdown",
   "id": "81818c3a",
   "metadata": {},
   "source": [
    "데이터에 대해 *EmbeddingDotBias* 모델을 기본으로 사용하는 `collab_learner`를 만든다. 임베딩 파라미터들은 사전에 정의되지 않고 모델에 의해 학습된다.   \n",
    "모델은 learning rate를 최대로 설정한 후 5 에폭 학습시킨다. 학습기는 각 에폭마다 learning rate를 낮출 것이다."
   ]
  },
  {
   "cell_type": "code",
   "execution_count": 25,
   "id": "78d6bd19",
   "metadata": {},
   "outputs": [
    {
     "data": {
      "text/plain": [
       "EmbeddingDotBias(\n",
       "  (u_weight): Embedding(944, 40)\n",
       "  (i_weight): Embedding(1683, 40)\n",
       "  (u_bias): Embedding(944, 1)\n",
       "  (i_bias): Embedding(1683, 1)\n",
       ")"
      ]
     },
     "execution_count": 25,
     "metadata": {},
     "output_type": "execute_result"
    }
   ],
   "source": [
    "learn = collab_learner(data, n_factors=N_factors, y_range=[0, 5.5], wd=0.1)\n",
    "learn.model"
   ]
  },
  {
   "cell_type": "code",
   "execution_count": 27,
   "id": "23d1a629",
   "metadata": {},
   "outputs": [
    {
     "name": "stdout",
     "output_type": "stream",
     "text": [
      "epoch     train_loss  valid_loss  time    \n",
      "0         0.959332    #na#        00:02     \n",
      "1         0.895546    #na#        00:02     \n",
      "2         0.758320    #na#        00:02     \n",
      "3         0.655181    #na#        00:02     \n",
      "4         0.552219    #na#        00:02     \n",
      "Took 10.8386 seconds for training\n"
     ]
    }
   ],
   "source": [
    "with Timer() as train_time:\n",
    "    learn.fit_one_cycle(epochs, max_lr=0.005)\n",
    "\n",
    "print('Took {} seconds for training'.format(train_time))\n",
    "    "
   ]
  },
  {
   "cell_type": "code",
   "execution_count": 28,
   "id": "45ae3f9c",
   "metadata": {},
   "outputs": [],
   "source": [
    "# Save the learner so it can be loaded back\n",
    "tmp = TemporaryDirectory()\n",
    "model_path = os.path.join(tmp.name, 'FastAI_movielens_model.pkl')\n",
    "learn.export(model_path)"
   ]
  },
  {
   "cell_type": "markdown",
   "id": "3f741c11",
   "metadata": {},
   "source": [
    "### Generating Recommedations\n"
   ]
  },
  {
   "cell_type": "code",
   "execution_count": 64,
   "id": "f3f93355",
   "metadata": {},
   "outputs": [],
   "source": [
    "# Load the learner\n",
    "learner = load_learner(tmp.name, 'FastAI_movielens_model.pkl')\n",
    "\n",
    "# Get all users and items that te model knows\n",
    "total_users, total_items = learner.data.train_ds.x.classes.values()\n",
    "total_items = total_items[1:]\n",
    "total_users = total_users[1:]\n",
    "\n",
    "# Get all users from the test set and remove any users that were known in the train\n",
    "test_users = test_df[USER].unique()\n",
    "test_users = np.intersect1d(test_users, total_users)\n",
    "\n",
    "# Build cartesian prod of test set users and all items known to the model\n",
    "users_items = cartesian_product(np.array(test_users), np.array(total_items))\n",
    "users_items = pd.DataFrame(users_items, columns=[USER, ITEM])\n",
    "\n",
    "# Remove the user/items combi that are in the training set\n",
    "train_removed = pd.merge(users_items, train_valid_df.astype(str), on=[USER, ITEM], how='left')\n",
    "train_removed = train_removed[train_removed[RATING].isna()][[USER, ITEM]]\n"
   ]
  },
  {
   "cell_type": "markdown",
   "id": "894434ac",
   "metadata": {},
   "source": [
    "### Score the model to find the top-K recommendation"
   ]
  },
  {
   "cell_type": "code",
   "execution_count": 65,
   "id": "01e7bfbc",
   "metadata": {},
   "outputs": [
    {
     "name": "stdout",
     "output_type": "stream",
     "text": [
      "Took 0.9122 seconds for 1511060 predictions.\n"
     ]
    }
   ],
   "source": [
    "with Timer() as test_time:\n",
    "    top_k_scores = score(learner,\n",
    "                        test_df=train_removed,\n",
    "                        user_col=USER,\n",
    "                        item_col=ITEM,\n",
    "                        prediction_col=PREDICTION)\n",
    "print('Took {} seconds for {} predictions.'.format(test_time, len(train_removed)))"
   ]
  },
  {
   "cell_type": "code",
   "execution_count": 69,
   "id": "0e90302a",
   "metadata": {},
   "outputs": [],
   "source": [
    "eval_map = map_at_k(test_df, top_k_scores, col_user=USER, col_item=ITEM,\n",
    "                   col_rating=RATING, col_prediction=PREDICTION,\n",
    "                   relevancy_method='top_k', k=Top_k)\n",
    "\n",
    "eval_ndcg = ndcg_at_k(test_df, top_k_scores, col_user=USER, col_item=ITEM,\n",
    "                   col_rating=RATING, col_prediction=PREDICTION,\n",
    "                   relevancy_method='top_k', k=Top_k)\n",
    "\n",
    "eval_precision = precision_at_k(test_df, top_k_scores, col_user=USER, col_item=ITEM,\n",
    "                   col_rating=RATING, col_prediction=PREDICTION,\n",
    "                   relevancy_method='top_k', k=Top_k)\n",
    "\n",
    "eval_recall = recall_at_k(test_df, top_k_scores, col_user=USER, col_item=ITEM,\n",
    "                   col_rating=RATING, col_prediction=PREDICTION,\n",
    "                   relevancy_method='top_k', k=Top_k)"
   ]
  },
  {
   "cell_type": "code",
   "execution_count": 71,
   "id": "151b213a",
   "metadata": {},
   "outputs": [
    {
     "name": "stdout",
     "output_type": "stream",
     "text": [
      "Model:\tCollabLearner\n",
      "Top K:\t10\n",
      "MAP:\t0.027923\n",
      "NDCG:\t0.163131\n",
      "Precision@K:\t0.142842\n",
      "Recall@K:\t0.056960\n"
     ]
    }
   ],
   "source": [
    "print(\"Model:\\t\" + learn.__class__.__name__,\n",
    "      \"Top K:\\t%d\" % Top_k,\n",
    "      \"MAP:\\t%f\" % eval_map,\n",
    "      \"NDCG:\\t%f\" % eval_ndcg,\n",
    "      \"Precision@K:\\t%f\" % eval_precision,\n",
    "      \"Recall@K:\\t%f\" % eval_recall, sep='\\n')"
   ]
  },
  {
   "cell_type": "code",
   "execution_count": 75,
   "id": "78d83341",
   "metadata": {},
   "outputs": [
    {
     "name": "stdout",
     "output_type": "stream",
     "text": [
      "Model:\tCollabLearner\n",
      "RMSE:\t0.902726\n",
      "MAE:\t0.713194\n",
      "Explained variance:\t0.345878\n",
      "R squared:\t0.345169\n"
     ]
    }
   ],
   "source": [
    "scores = score(learner, test_df=test_df.copy(),\n",
    "              user_col=USER,\n",
    "              item_col=ITEM,\n",
    "              prediction_col=PREDICTION)\n",
    "\n",
    "eval_r2 = rsquared(test_df, scores, col_user=USER, col_item=ITEM, col_rating=RATING, col_prediction=PREDICTION)\n",
    "eval_rmse = rmse(test_df, scores, col_user=USER, col_item=ITEM, col_rating=RATING, col_prediction=PREDICTION)\n",
    "eval_mae = mae(test_df, scores, col_user=USER, col_item=ITEM, col_rating=RATING, col_prediction=PREDICTION)\n",
    "eval_exp_var = exp_var(test_df, scores, col_user=USER, col_item=ITEM, col_rating=RATING, col_prediction=PREDICTION)\n",
    "\n",
    "print(\"Model:\\t\" + learn.__class__.__name__,\n",
    "      \"RMSE:\\t%f\" % eval_rmse,\n",
    "      \"MAE:\\t%f\" % eval_mae,\n",
    "      \"Explained variance:\\t%f\" % eval_exp_var,\n",
    "      \"R squared:\\t%f\" % eval_r2, sep='\\n')\n"
   ]
  },
  {
   "cell_type": "code",
   "execution_count": null,
   "id": "a5a18e2d",
   "metadata": {},
   "outputs": [],
   "source": []
  }
 ],
 "metadata": {
  "kernelspec": {
   "display_name": "ms_rec3713",
   "language": "python",
   "name": "recommender3713"
  },
  "language_info": {
   "codemirror_mode": {
    "name": "ipython",
    "version": 3
   },
   "file_extension": ".py",
   "mimetype": "text/x-python",
   "name": "python",
   "nbconvert_exporter": "python",
   "pygments_lexer": "ipython3",
   "version": "3.7.13"
  }
 },
 "nbformat": 4,
 "nbformat_minor": 5
}
