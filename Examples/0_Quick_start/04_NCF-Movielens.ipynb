{
 "cells": [
  {
   "cell_type": "markdown",
   "id": "e45a03c2",
   "metadata": {},
   "source": [
    "# Neural Collaborative Filtering on MovieLens dataset\n",
    "Neural Collaborative Filtering is a well known recommendation algorithm that generalizes the matrix factorization problem with multi-layer perceptron."
   ]
  },
  {
   "cell_type": "code",
   "execution_count": 1,
   "id": "97c56e23",
   "metadata": {},
   "outputs": [],
   "source": [
    "%load_ext autoreload\n",
    "%autoreload 2"
   ]
  },
  {
   "cell_type": "code",
   "execution_count": 16,
   "id": "7c9b3f82",
   "metadata": {},
   "outputs": [
    {
     "name": "stdout",
     "output_type": "stream",
     "text": [
      "System version: 3.7.13 (default, Mar 29 2022, 02:18:16) \n",
      "[GCC 7.5.0]\n",
      "pandas version: 1.3.5\n",
      "tensor version: 2.7.3\n"
     ]
    }
   ],
   "source": [
    "import sys\n",
    "import pandas as pd\n",
    "import tensorflow as tf\n",
    "tf.get_logger().setLevel('ERROR')\n",
    "\n",
    "from recommenders.utils.timer import Timer\n",
    "from recommenders.models.ncf.ncf_singlenode import NCF\n",
    "from recommenders.models.ncf.dataset import Dataset as NCFDataset\n",
    "from recommenders.datasets import movielens\n",
    "from recommenders.utils.notebook_utils import is_jupyter\n",
    "from recommenders.datasets.python_splitters import python_chrono_split\n",
    "from recommenders.evaluation.python_evaluation import rmse, mae, rsquared, exp_var, map_at_k, ndcg_at_k, precision_at_k, get_top_k_items, recall_at_k\n",
    "\n",
    "print('System version: {}'.format(sys.version))\n",
    "print('pandas version: {}'.format(pd.__version__))\n",
    "print('tensor version: {}'.format(tf.__version__))\n"
   ]
  },
  {
   "cell_type": "code",
   "execution_count": 3,
   "id": "a44d032c",
   "metadata": {},
   "outputs": [],
   "source": [
    "top_k = 10\n",
    "movielens_data_size = '100k'\n",
    "epochs = 50\n",
    "batch_size = 256\n",
    "seed = 27"
   ]
  },
  {
   "cell_type": "code",
   "execution_count": 4,
   "id": "9b36c4b1",
   "metadata": {},
   "outputs": [
    {
     "name": "stderr",
     "output_type": "stream",
     "text": [
      "INFO:recommenders.datasets.download_utils:Downloading https://files.grouplens.org/datasets/movielens/ml-100k.zip\n",
      "100%|█████████████████████████████████████| 4.81k/4.81k [00:02<00:00, 1.81kKB/s]\n"
     ]
    }
   ],
   "source": [
    "# 1. Download the dataset\n",
    "df = movielens.load_pandas_df(size=movielens_data_size, header=['userID','itemID','rating','timestamp'])"
   ]
  },
  {
   "cell_type": "code",
   "execution_count": 5,
   "id": "0a8717f3",
   "metadata": {},
   "outputs": [
    {
     "name": "stderr",
     "output_type": "stream",
     "text": [
      "INFO:recommenders.models.ncf.dataset:Indexing ./train.csv ...\n",
      "INFO:recommenders.models.ncf.dataset:Indexing ./test.csv ...\n",
      "INFO:recommenders.models.ncf.dataset:Creating full leave-one-out test file ./test_full.csv ...\n",
      "100%|█████████████████████████████████████████| 943/943 [00:21<00:00, 44.82it/s]\n",
      "INFO:recommenders.models.ncf.dataset:Indexing ./test_full.csv ...\n"
     ]
    }
   ],
   "source": [
    "# 2. Split the data using the Spark chronological splitter\n",
    "train, test = python_chrono_split(df, 0.75)\n",
    "\n",
    "test = test[test['userID'].isin(train['userID'].unique())]\n",
    "test = test[test['itemID'].isin(train['itemID'].unique())]\n",
    "\n",
    "train_file = \"./train.csv\"\n",
    "test_file = \"./test.csv\"\n",
    "train.to_csv(train_file, index=False)\n",
    "test.to_csv(test_file, index=False)\n",
    "\n",
    "# Generate an NCF dataset object from the data subsets\n",
    "data = NCFDataset(train_file=train_file, test_file=test_file, seed=seed)"
   ]
  },
  {
   "cell_type": "code",
   "execution_count": 6,
   "id": "2b41766a",
   "metadata": {},
   "outputs": [
    {
     "name": "stderr",
     "output_type": "stream",
     "text": [
      "/home/qwer/anaconda3/envs/recommender3713/lib/python3.7/site-packages/tensorflow/python/keras/engine/base_layer_v1.py:1694: UserWarning: `layer.apply` is deprecated and will be removed in a future version. Please use `layer.__call__` method instead.\n",
      "  warnings.warn('`layer.apply` is deprecated and '\n",
      "2022-06-22 15:15:06.059276: I tensorflow/core/platform/cpu_feature_guard.cc:151] This TensorFlow binary is optimized with oneAPI Deep Neural Network Library (oneDNN) to use the following CPU instructions in performance-critical operations:  AVX2 AVX512F FMA\n",
      "To enable them in other operations, rebuild TensorFlow with the appropriate compiler flags.\n",
      "2022-06-22 15:15:06.105662: I tensorflow/stream_executor/cuda/cuda_gpu_executor.cc:939] successful NUMA node read from SysFS had negative value (-1), but there must be at least one NUMA node, so returning NUMA node zero\n",
      "2022-06-22 15:15:06.130797: I tensorflow/stream_executor/cuda/cuda_gpu_executor.cc:939] successful NUMA node read from SysFS had negative value (-1), but there must be at least one NUMA node, so returning NUMA node zero\n",
      "2022-06-22 15:15:06.131062: I tensorflow/stream_executor/cuda/cuda_gpu_executor.cc:939] successful NUMA node read from SysFS had negative value (-1), but there must be at least one NUMA node, so returning NUMA node zero\n",
      "2022-06-22 15:15:06.635802: I tensorflow/stream_executor/cuda/cuda_gpu_executor.cc:939] successful NUMA node read from SysFS had negative value (-1), but there must be at least one NUMA node, so returning NUMA node zero\n",
      "2022-06-22 15:15:06.636169: I tensorflow/stream_executor/cuda/cuda_gpu_executor.cc:939] successful NUMA node read from SysFS had negative value (-1), but there must be at least one NUMA node, so returning NUMA node zero\n",
      "2022-06-22 15:15:06.636436: I tensorflow/stream_executor/cuda/cuda_gpu_executor.cc:939] successful NUMA node read from SysFS had negative value (-1), but there must be at least one NUMA node, so returning NUMA node zero\n",
      "2022-06-22 15:15:06.636783: I tensorflow/core/common_runtime/gpu/gpu_device.cc:1525] Created device /job:localhost/replica:0/task:0/device:GPU:0 with 1491 MB memory:  -> device: 0, name: NVIDIA GeForce GTX 1650, pci bus id: 0000:01:00.0, compute capability: 7.5\n"
     ]
    }
   ],
   "source": [
    "# 3. Train the NCF model on the training data\n",
    "# and get the top-k recommendations for testing data\n",
    "model = NCF(n_users=data.n_users, n_items=data.n_items,\n",
    "           model_type='NeuMF', n_factors=4,\n",
    "           layer_sizes=[16,8,4], n_epochs=epochs, batch_size=batch_size,\n",
    "           learning_rate=1e-3, verbose=10, seed=seed)"
   ]
  },
  {
   "cell_type": "code",
   "execution_count": 7,
   "id": "d3e726d9",
   "metadata": {},
   "outputs": [
    {
     "name": "stderr",
     "output_type": "stream",
     "text": [
      "INFO:recommenders.models.ncf.ncf_singlenode:Epoch 10 [3.81s]: train_loss = 0.262599 \n",
      "INFO:recommenders.models.ncf.ncf_singlenode:Epoch 20 [3.81s]: train_loss = 0.250173 \n",
      "INFO:recommenders.models.ncf.ncf_singlenode:Epoch 30 [3.83s]: train_loss = 0.242473 \n",
      "INFO:recommenders.models.ncf.ncf_singlenode:Epoch 40 [3.84s]: train_loss = 0.237200 \n",
      "INFO:recommenders.models.ncf.ncf_singlenode:Epoch 50 [3.84s]: train_loss = 0.234393 \n"
     ]
    },
    {
     "name": "stdout",
     "output_type": "stream",
     "text": [
      "Took 193.1260 seconds for training\n"
     ]
    }
   ],
   "source": [
    "with Timer() as train_time:\n",
    "    model.fit(data)\n",
    "    \n",
    "print(\"Took {} seconds for training\".format(train_time))"
   ]
  },
  {
   "cell_type": "code",
   "execution_count": 13,
   "id": "455a247e",
   "metadata": {
    "scrolled": true
   },
   "outputs": [
    {
     "name": "stdout",
     "output_type": "stream",
     "text": [
      "[168, 172, 165, 156, 166, 196, 187, 14, 250, 127, 181, 117, 109, 1, 246, 257, 248, 50, 249, 253, 262, 93, 224, 124, 19, 123, 137, 146, 7, 235, 15, 245, 260, 24, 264, 126, 237, 13, 25, 121, 251, 236, 240, 118, 130, 65, 190, 47, 31, 28, 114, 39, 52, 238, 199, 183, 11, 69, 161, 95, 60, 83, 179, 22, 98, 64, 135, 163, 26, 202, 89, 8, 214, 182, 48, 99, 160, 175, 192, 180, 128, 143, 185, 68, 55, 204, 56, 96, 81, 79, 151, 212, 23, 70, 84, 94, 197, 191, 184, 134, 207, 145, 188, 186, 97, 85, 36, 144, 159, 17, 174, 252, 105, 148, 108, 147, 220, 106, 243, 122, 107, 104, 247, 120, 45, 268, 267, 259, 261, 263, 10, 150, 234, 92, 71, 42, 176, 91, 193, 217, 177, 216, 194, 73, 59, 133, 41, 195, 218, 170, 213, 157, 223, 27, 227, 80, 231, 67, 119, 200, 4, 215, 164, 2, 206, 77, 53, 136, 46, 40, 153, 269, 254, 115, 173, 211, 229, 155, 203, 62, 90, 219, 167, 230, 35, 162, 61, 265, 112, 57, 49, 30, 233, 131, 152, 82, 141, 72, 33, 158, 198, 225, 113, 21, 286, 258, 305, 307, 288, 312, 301, 306, 292, 303, 299, 315, 296, 297, 293, 275, 295, 277, 287, 255, 298, 290, 280, 274, 276, 273, 291, 278, 294, 279, 111, 282, 284, 100, 313, 285, 302, 333, 344, 300, 337, 345, 354, 319, 341, 352, 272, 350, 353, 334, 343, 339, 342, 336, 326, 332, 271, 355, 324, 349, 323, 322, 335, 325, 338, 330, 351, 328, 359, 362, 327, 329, 360, 361, 210, 356, 357, 455, 222, 405, 363, 369, 412, 407, 411, 368, 406, 424, 413, 397, 373, 399, 226, 450, 435, 228, 449, 431, 403, 398, 391, 385, 372, 386, 393, 396, 367, 401, 390, 456, 384, 110, 381, 364, 209, 451, 382, 428, 383, 430, 433, 239, 208, 414, 154, 422, 432, 423, 419, 417, 415, 374, 29, 434, 365, 366, 380, 392, 387, 429, 425, 375, 448, 436, 443, 445, 447, 444, 379, 370, 441, 446, 402, 241, 371, 66, 421, 242, 340, 304, 321, 310, 309, 538, 408, 9, 459, 515, 534, 536, 221, 475, 477, 508, 471, 125, 410, 533, 458, 472, 460, 535, 532, 473, 476, 308, 524, 514, 427, 531, 510, 178, 487, 527, 205, 513, 481, 462, 169, 520, 318, 484, 489, 498, 12, 479, 497, 480, 492, 504, 512, 496, 469, 525, 482, 530, 537, 500, 474, 521, 507, 32, 519, 490, 189, 464, 495, 511, 461, 488, 486, 529, 483, 522, 523, 463, 493, 494, 678, 682, 681, 266, 683, 680, 603, 86, 618, 643, 651, 650, 101, 616, 526, 612, 611, 653, 659, 657, 132, 171, 634, 646, 655, 636, 491, 201, 499, 656, 633, 604, 615, 661, 608, 648, 644, 671, 44, 596, 543, 485, 593, 613, 584, 591, 663, 502, 568, 588, 632, 630, 505, 658, 589, 647, 614, 550, 470, 629, 627, 602, 556, 674, 528, 652, 548, 609, 509, 668, 619, 628, 607, 635, 606, 404, 675, 51, 631, 622, 378, 660, 416, 610, 549, 140, 679, 465, 420, 649, 544, 670, 605, 566, 501, 546, 581, 637, 640, 506, 645, 592, 639, 281, 547, 601, 597, 673, 232, 595, 598, 573, 452, 599, 624, 620, 571, 587, 503, 664, 688, 358, 457, 687, 689, 690, 6, 289, 654, 558, 518, 702, 418, 693, 707, 686, 709, 706, 697, 711, 701, 16, 698, 116, 478, 692, 467, 129, 705, 750, 749, 751, 752, 748, 741, 717, 742, 744, 713, 740, 718, 743, 317, 714, 735, 662, 727, 730, 699, 733, 724, 58, 732, 729, 723, 720, 715, 731, 737, 88, 746, 716, 710, 517, 580, 721, 754, 684, 708, 311, 874, 881, 270, 617, 638, 857, 331, 876, 873, 875, 886, 879, 872, 792, 766, 837, 836, 861, 811, 813, 868, 835, 847, 799, 851, 848, 772, 855, 850, 789, 806, 863, 747, 877, 884, 883, 887, 880, 762, 821, 865, 805, 763, 516, 845, 787, 791, 869, 866, 818, 585, 790, 793, 712, 409, 864, 819, 871, 785, 846, 764, 804, 780, 773, 852, 5, 564, 774, 559, 788, 672, 817, 760, 561, 854, 567, 569, 816, 839, 665, 860, 320, 853, 844, 37, 767, 563, 440, 667, 565, 439, 769, 859, 453, 669, 800, 858, 590, 834, 437, 438, 784, 777, 551, 758, 870, 770, 570, 830, 809, 685, 541, 825, 838, 554, 808, 849, 823, 833, 38, 578, 798, 761, 810, 576, 841, 802, 803, 779, 572, 586, 797, 827, 831, 829, 826, 540, 771, 759, 625, 768, 820, 919, 18, 922, 920, 283, 923, 937, 938, 889, 20, 935, 925, 676, 936, 815, 929, 924, 948, 939, 642, 945, 943, 947, 76, 942, 583, 941, 87, 940, 812, 973, 951, 958, 753, 968, 972, 952, 954, 955, 950, 960, 736, 778, 969, 142, 582, 959, 934, 931, 995, 988, 989, 991, 878, 990, 984, 994, 103, 993, 992, 980, 985, 244, 981, 696, 974, 977, 979, 983, 975, 986, 930, 982, 976, 978, 987, 928, 1000, 998, 1001, 862, 999, 926, 376, 377, 996, 1002, 1003, 932, 997, 961, 1006, 102, 856, 1007, 316, 1015, 1011, 1010, 1016, 1008, 1017, 539, 1013, 892, 1022, 1020, 1021, 1012, 1023, 895, 1024, 1026, 916, 1014, 1035, 1033, 1032, 1028, 139, 78, 1034, 900, 347, 346, 896, 1049, 1048, 1051, 1040, 1047, 756, 1050, 781, 468, 794, 755, 1043, 553, 946, 966, 1056, 1053, 1055, 1058, 542, 1060, 1059, 909, 1062, 1063, 1064, 1065, 904, 1009, 1068, 1082, 256, 557, 1073, 1075, 1080, 1018, 1078, 1066, 1076, 1077, 594, 54, 1083, 1070, 1067, 3, 1084, 1085, 1086, 1088, 1089, 426, 1090, 1074, 738, 1057, 1091, 1093, 1096, 1094, 1095, 1098, 1100, 1019, 1103, 1104, 1115, 149, 1117, 1114, 1120, 466, 963, 1111, 1108, 1109, 1101, 641, 1121, 1125, 1122, 1124, 1126, 842, 138, 1127, 1129, 1128, 1134, 1132, 1131, 921, 1137, 1138, 898, 956, 1044, 1142, 1052, 1143, 1144, 1147, 1148, 894, 1149, 1152, 1150, 1151, 1158, 1154, 1156, 1071, 1160, 902, 1161, 906, 824, 1164, 822, 739, 783, 623, 43, 944, 728, 1041, 722, 795, 575, 704, 63, 828, 1165, 832, 1171, 1172, 1039, 1174, 1153, 1169, 1113, 1166, 1136, 1170, 971, 745, 1167, 782, 888, 1187, 1181, 1183, 1184, 1188, 1190, 1072, 801, 775, 1185, 1186, 765, 1118, 1119, 905, 903, 454, 965, 1196, 1205, 1201, 1194, 1198, 1005, 1206, 1200, 1197, 1192, 962, 1193, 1195, 1097, 1204, 389, 949, 1209, 1157, 1208, 1046, 552, 1042, 1213, 1210, 1207, 577, 1221, 1223, 562, 703, 1045, 1219, 1211, 1218, 1135, 1220, 1110, 1224, 1217, 1229, 560, 1133, 843, 1227, 1222, 1228, 1231, 1079, 908, 1238, 1234, 1233, 691, 885, 1235, 840, 1025, 1240, 1239, 1226, 1241, 1243, 1244, 1245, 1247, 1250, 1251, 1216, 1257, 1256, 1258, 1255, 1254, 1214, 1253, 1202, 1259, 1261, 1260, 1264, 1266, 1268, 1269, 1272, 914, 1249, 901, 1176, 882, 1267, 1277, 1278, 1279, 1276, 1215, 1281, 1283, 1282, 1038, 1284, 933, 1292, 1087, 1289, 1248, 1212, 1273, 1290, 796, 1294, 1296, 1295, 1286, 953, 1298, 1054, 1302, 694, 1092, 719, 1225, 1307, 1304, 1308, 1309, 1310, 1312, 1262, 1311, 1139, 1315, 1314, 1004, 917, 1265, 1280, 1393, 1392, 1394, 1395, 1385, 1384, 1390, 1173, 1330, 1347, 1331, 1373, 1346, 1317, 1367, 1322, 1383, 1380, 1339, 1386, 1360, 1387, 1389, 1323, 1333, 1319, 1358, 1350, 1252, 1351, 1391, 1382, 1345, 1342, 1388, 1379, 1341, 1378, 1343, 1369, 1362, 1366, 1321, 1368, 1348, 1353, 1359, 1352, 1357, 1328, 1344, 1329, 1334, 1340, 1371, 1338, 1349, 1332, 1320, 1363, 1372, 1381, 1318, 1242, 1288, 1374, 1162, 1364, 1324, 1354, 1377, 1370, 1375, 1081, 1199, 927, 1325, 1061, 1336, 1263, 1400, 1313, 891, 1405, 1406, 1407, 1107, 1112, 1414, 1415, 1417, 1413, 1030, 1416, 1420, 890, 1069, 1425, 1355, 1424, 1427, 1426, 1428, 1422, 1398, 314, 1430, 1429, 1431, 1433, 1435, 1401, 1303, 695, 1437, 1291, 1439, 1178, 1440, 388, 395, 1419, 1145, 893, 555, 1163, 1461, 1451, 1457, 1203, 1455, 1449, 1463, 1462, 964, 1397, 1105, 970, 1464, 1099, 1466, 1465, 1467, 1232, 1468, 967, 1116, 1469, 1470, 621, 75, 1472, 1237, 1270, 579, 1477, 1361, 1168, 1438, 1478, 1141, 1482, 786, 1140, 1031, 807, 1274, 1496, 1500, 1484, 1490, 1444, 1305, 1481, 1487, 1486, 725, 1480, 1182, 1488, 1271, 1485, 1411, 1376, 1473, 1459, 1503, 574, 734, 34, 394, 1504, 1230, 1471, 1505, 1300, 1507, 1506, 867, 1335, 1513, 1512, 1515, 1456, 1421, 1404, 348, 1297, 1479, 700, 1516, 1299, 1523, 899, 1524, 1037, 1446, 1301, 74, 1527, 1528, 1511, 1175, 1529, 1159, 1396, 666, 1495, 1531, 1533, 1532, 1534, 1536, 1537, 1538, 1036, 1530, 1337, 1285, 1441, 1409, 1399, 1450, 545, 1542, 400, 1545, 1566, 1547, 1564, 1445, 1554, 1585, 1306, 1574, 1561, 1587, 1518, 1559, 1519, 1552, 1146, 1539, 1423, 1442, 1551, 1567, 1557, 1568, 1475, 1509, 1180, 1474, 1179, 726, 1550, 1517, 1246, 1029, 1177, 1548, 1027, 442, 1581, 1275, 1553, 1582, 1522, 1549, 1558, 1541, 1521, 1540, 915, 1594, 1597, 1596, 1595, 1418, 1443, 1489, 1599, 1600, 1591, 1191, 912, 1483, 1601, 1326, 1602, 776, 1402, 1403, 1410, 1454, 1604, 1605, 1606, 1598, 1607, 1123, 1589, 1514, 1611, 1610, 1293, 1612, 1615, 1616, 1434, 1617, 1560, 1502, 1189, 1412, 1555, 1619, 1620, 1556, 1622, 1623, 1501, 918, 1609, 1356, 1316, 1287, 1626, 1627, 1629, 1641, 1630, 1535, 1635, 1636, 1155, 1638, 1448, 1643, 1639, 1578, 1634, 1644, 1640, 1436, 1652, 1327, 1491, 1654, 1655, 1544, 1642, 1656, 1657, 1658, 1631, 1660, 1497, 1662, 1670, 1608, 1664, 1663, 1102, 757, 1672, 1673, 1592, 1676, 907, 1681, 1573]\n"
     ]
    },
    {
     "name": "stdout",
     "output_type": "stream",
     "text": [
      "Took 1.6633 secs for prediction\n"
     ]
    }
   ],
   "source": [
    "with Timer() as test_time:\n",
    "    users, items, preds = [], [], []\n",
    "    item = list(train.itemID.unique())\n",
    "    print(item)\n",
    "    \n",
    "    for user in train.userID.unique():\n",
    "        user = [user] * len(item)\n",
    "        users.extend(user)\n",
    "        items.extend(item)\n",
    "        preds.extend(list(model.predict(user, item, is_list=True)))\n",
    "        \n",
    "    all_predictions = pd.DataFrame(data={'userID': users, 'itemID':items, 'prediction':preds})\n",
    "    \n",
    "    merged = pd.merge(train, all_predictions, on=['userID', 'itemID'], how='outer')\n",
    "    all_predictions = merged[merged.rating.isnull()].drop('rating', axis=1)\n",
    "    \n",
    "print('Took {} secs for prediction'.format(test_time))\n",
    "    \n",
    "    "
   ]
  },
  {
   "cell_type": "code",
   "execution_count": 17,
   "id": "34bedacc",
   "metadata": {},
   "outputs": [
    {
     "name": "stdout",
     "output_type": "stream",
     "text": [
      "MAP:\t0.047500\n",
      "NDCG:\t0.197197\n",
      "Precision@K:\t0.179215\n",
      "Recall@K:\t0.100682\n"
     ]
    }
   ],
   "source": [
    "# 4. Evaluate how well NCF performs\n",
    "\n",
    "eval_map = map_at_k(test, all_predictions, col_prediction='prediction', k=top_k)\n",
    "eval_ndcg = ndcg_at_k(test, all_predictions, col_prediction='prediction', k=top_k)\n",
    "eval_precision = precision_at_k(test, all_predictions, col_prediction='prediction', k=top_k)\n",
    "eval_recall = recall_at_k(test, all_predictions, col_prediction='prediction', k=top_k)\n",
    "\n",
    "print(\"MAP:\\t%f\" % eval_map,\n",
    "      \"NDCG:\\t%f\" % eval_ndcg,\n",
    "      \"Precision@K:\\t%f\" % eval_precision,\n",
    "      \"Recall@K:\\t%f\" % eval_recall, sep='\\n')"
   ]
  },
  {
   "cell_type": "code",
   "execution_count": 18,
   "id": "00931885",
   "metadata": {},
   "outputs": [
    {
     "data": {
      "application/scrapbook.scrap.json+json": {
       "data": 0.04750004215564277,
       "encoder": "json",
       "name": "map",
       "version": 1
      }
     },
     "metadata": {
      "scrapbook": {
       "data": true,
       "display": false,
       "name": "map"
      }
     },
     "output_type": "display_data"
    },
    {
     "data": {
      "application/scrapbook.scrap.json+json": {
       "data": 0.19719654839100587,
       "encoder": "json",
       "name": "ndcg",
       "version": 1
      }
     },
     "metadata": {
      "scrapbook": {
       "data": true,
       "display": false,
       "name": "ndcg"
      }
     },
     "output_type": "display_data"
    },
    {
     "data": {
      "application/scrapbook.scrap.json+json": {
       "data": 0.1792152704135737,
       "encoder": "json",
       "name": "precision",
       "version": 1
      }
     },
     "metadata": {
      "scrapbook": {
       "data": true,
       "display": false,
       "name": "precision"
      }
     },
     "output_type": "display_data"
    },
    {
     "data": {
      "application/scrapbook.scrap.json+json": {
       "data": 0.10068206279122467,
       "encoder": "json",
       "name": "recall",
       "version": 1
      }
     },
     "metadata": {
      "scrapbook": {
       "data": true,
       "display": false,
       "name": "recall"
      }
     },
     "output_type": "display_data"
    },
    {
     "data": {
      "application/scrapbook.scrap.json+json": {
       "data": 193.12604096600262,
       "encoder": "json",
       "name": "train_time",
       "version": 1
      }
     },
     "metadata": {
      "scrapbook": {
       "data": true,
       "display": false,
       "name": "train_time"
      }
     },
     "output_type": "display_data"
    },
    {
     "data": {
      "application/scrapbook.scrap.json+json": {
       "data": 1.6633297949992993,
       "encoder": "json",
       "name": "test_time",
       "version": 1
      }
     },
     "metadata": {
      "scrapbook": {
       "data": true,
       "display": false,
       "name": "test_time"
      }
     },
     "output_type": "display_data"
    }
   ],
   "source": [
    "if is_jupyter():\n",
    "    import papermill as pm\n",
    "    import scrapbook as sb\n",
    "    \n",
    "    sb.glue('map', eval_map)\n",
    "    sb.glue('ndcg', eval_ndcg)    \n",
    "    sb.glue('precision', eval_precision)    \n",
    "    sb.glue('recall', eval_recall)    \n",
    "    sb.glue('train_time', train_time.interval)    \n",
    "    sb.glue('test_time', test_time.interval)    "
   ]
  },
  {
   "cell_type": "code",
   "execution_count": null,
   "id": "c9a8b165",
   "metadata": {},
   "outputs": [],
   "source": []
  }
 ],
 "metadata": {
  "kernelspec": {
   "display_name": "ms_rec3713",
   "language": "python",
   "name": "recommender3713"
  },
  "language_info": {
   "codemirror_mode": {
    "name": "ipython",
    "version": 3
   },
   "file_extension": ".py",
   "mimetype": "text/x-python",
   "name": "python",
   "nbconvert_exporter": "python",
   "pygments_lexer": "ipython3",
   "version": "3.7.13"
  }
 },
 "nbformat": 4,
 "nbformat_minor": 5
}
