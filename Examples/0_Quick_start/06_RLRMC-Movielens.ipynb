{
 "cells": [
  {
   "cell_type": "markdown",
   "id": "6d968c0d",
   "metadata": {},
   "source": [
    "# Riemannian Low-Rank Matrix Completion algorithem"
   ]
  },
  {
   "cell_type": "markdown",
   "id": "815ef9f9",
   "metadata": {},
   "source": [
    "별로 중요하지 않은 듯..."
   ]
  },
  {
   "cell_type": "code",
   "execution_count": null,
   "id": "cd494f86",
   "metadata": {},
   "outputs": [],
   "source": []
  }
 ],
 "metadata": {
  "kernelspec": {
   "display_name": "ms_rec3713",
   "language": "python",
   "name": "recommender3713"
  },
  "language_info": {
   "codemirror_mode": {
    "name": "ipython",
    "version": 3
   },
   "file_extension": ".py",
   "mimetype": "text/x-python",
   "name": "python",
   "nbconvert_exporter": "python",
   "pygments_lexer": "ipython3",
   "version": "3.7.13"
  }
 },
 "nbformat": 4,
 "nbformat_minor": 5
}
